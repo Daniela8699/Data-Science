{
 "cells": [
  {
   "cell_type": "markdown",
   "metadata": {},
   "source": [
    "#  One Max Problem\n",
    "\n",
    "This project involves maximizing the number of 1's in an array of 100 1-bit numers. For this project the gene set will be only 0 or 1. The next code is going to be in the class _oneMaxTests.py_"
   ]
  },
  {
   "cell_type": "markdown",
   "metadata": {},
   "source": [
    "```\n",
    "import genetic2\n",
    "import datetime\n",
    "import \n",
    "\n",
    "class OneMaxTests(unittest.TestCase):\n",
    "    def test(self, length=100):\n",
    "        geneset = [0, 1]        \n",
    "```     "
   ]
  },
  {
   "cell_type": "markdown",
   "metadata": {},
   "source": [
    "We need to change the _genetic2.py_ in order to work with list, with this reason we are going to make the changes in a new file _geneticBinary.py_."
   ]
  },
  {
   "cell_type": "markdown",
   "metadata": {},
   "source": [
    "```\n",
    "def mutate(parent, geneSet, get_fitness):\n",
    "    childGenes =  parent.Genes[:]\n",
    "    ...\n",
    "```\n",
    "\n",
    "Next, remove the next line in the mutate method which converts the list back a string \n",
    "\n",
    "```\n",
    "genes = ''.join(childGenes)\n",
    "```"
   ]
  },
  {
   "cell_type": "markdown",
   "metadata": {},
   "source": [
    "Now, the idea is to update the next methods to use the list, as follows:\n",
    "\n",
    "```\n",
    "def mutate(parent, geneSet, get_fitness):\n",
    "    childGenes = parent.Genes[:]\n",
    "    index = random.randrange(0, len(parent.Genes))\n",
    "    newGene, alternate = random.sample(geneSet, 2)\n",
    "    childGenes[index] = alternate \n",
    "    if newGene == childGenes[index] \n",
    "    else newGene\n",
    "    fitness = get_fitness(childGenes) \n",
    "    return Chromosome(childGenes, fitness)\n",
    "\n",
    "```"
   ]
  }
 ],
 "metadata": {
  "kernelspec": {
   "display_name": "Python 3",
   "language": "python",
   "name": "python3"
  },
  "language_info": {
   "codemirror_mode": {
    "name": "ipython",
    "version": 3
   },
   "file_extension": ".py",
   "mimetype": "text/x-python",
   "name": "python",
   "nbconvert_exporter": "python",
   "pygments_lexer": "ipython3",
   "version": "3.6.6"
  }
 },
 "nbformat": 4,
 "nbformat_minor": 2
}
