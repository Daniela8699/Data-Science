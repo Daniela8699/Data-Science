{
 "cells": [
  {
   "cell_type": "markdown",
   "metadata": {},
   "source": [
    "__Author: Christian Camilo Urcuqui__\n",
    "\n",
    "__Date:  18 January 2018__\n",
    "\n",
    "\n",
    "![image](../../Utilities/genetic-algorithms.jpg)\n",
    "\n",
    "This notebook is a compilation of different ideas that I take from the references in order to make a brief of genetic algorithms and its application through Python.\n",
    "\n",
    "# Introduction to genetic algorithms\n",
    "\n",
    "Genetic algorithms are one of the tools we can use to apply machine learning to finding good, sometimes even optimal, solutions to problems that have billions of potential solutions. It's biological approach is applied in software to find answers to problems that have really large search spaces by continuously generating cantidate solutions, evaluating how well the solutions fit the desired outcome, and refining the best solutions.\n",
    "\n",
    "Genetic algorithms use random exploration of the problem space combined with evolutionary processes like mutation and\n",
    "crossover (exchange of genetic information) to improve guesses. But also, because they have no experience in the problem\n",
    "domain, they try things a human would never think to try. Thus, a person using a genetic algorithm may learn more about\n",
    "the problem space and potential solutions. This gives them the ability to make improvements to the algorithm, in a\n",
    "virtuous cycle.\n",
    "\n",
    "__The genetic algorithm should make informed guesses__\n"
   ]
  },
  {
   "cell_type": "markdown",
   "metadata": {},
   "source": [
    "## pseudo code\n",
    "\n",
    "```\n",
    "Function genetic_algorithm():\n",
    "    it generates a initial random poblation\n",
    "    end = False\n",
    "    \n",
    "    while is not end:\n",
    "        for size(poblation)/2:\n",
    "        select two individuals\n",
    "        cross two individuals\n",
    "        mutate with a probability the new individuals \n",
    "        add the new individuals to the poblation\n",
    "        eliminate the two worst individuals from the poblation\n",
    "        \n",
    "   if is the poblation converges\n",
    "       end = True\n",
    "       \n",
    "   exit with the best solution\n",
    "        \n",
    "```"
   ]
  },
  {
   "cell_type": "markdown",
   "metadata": {},
   "source": [
    "## Guess the Password\n",
    "\n",
    "Start with a randomly generated initial sequence of letters, then mutate/change one random letter at a time until the sequence of letters is \"Hello World!\""
   ]
  },
  {
   "cell_type": "code",
   "execution_count": 1,
   "metadata": {},
   "outputs": [],
   "source": [
    "import random\n",
    "\n",
    "# genes\n",
    "geneSet = \" abcdefghijklmnopqrstuvwxyzABCDEFGHIJKLMNOPQRSTUVWXYZ!.\"\n",
    "target = \"Hello World!\""
   ]
  },
  {
   "cell_type": "code",
   "execution_count": 2,
   "metadata": {},
   "outputs": [
    {
     "data": {
      "text/plain": [
       "'JlQ'"
      ]
     },
     "execution_count": 2,
     "metadata": {},
     "output_type": "execute_result"
    }
   ],
   "source": [
    "# --generate a guess--\n",
    "# the algorithm needs a way to generate a random string from the gene set\n",
    "def generate_parent(length):\n",
    "    genes = []\n",
    "    while len(genes) < length:\n",
    "        sampleSize =  min(length - len(genes), len(geneSet))\n",
    "        # random.sample takes sampleSize values from the input without replacement\n",
    "        genes.extend(random.sample(geneSet, sampleSize))\n",
    "    return ''.join(genes)\n",
    "\n",
    "generate_parent(3)"
   ]
  },
  {
   "cell_type": "code",
   "execution_count": 13,
   "metadata": {},
   "outputs": [
    {
     "data": {
      "text/plain": [
       "0"
      ]
     },
     "execution_count": 13,
     "metadata": {},
     "output_type": "execute_result"
    }
   ],
   "source": [
    "# --fitness--\n",
    "# the fitness value the genetic algorithm provides is the only feedback the engine gets to guide it toward a solution.\n",
    "def get_fitness(guess):\n",
    "    return sum(1 for expected, actual in zip(target, guess)\n",
    "              if expected == actual)\n",
    "\n",
    "get_fitness(\"z!\")\n",
    "#get_fitness(\"Hello World!\")\n",
    "#len(target)"
   ]
  },
  {
   "cell_type": "code",
   "execution_count": 14,
   "metadata": {},
   "outputs": [
    {
     "data": {
      "text/plain": [
       "'hlo'"
      ]
     },
     "execution_count": 14,
     "metadata": {},
     "output_type": "execute_result"
    }
   ],
   "source": [
    "#--mutate--\n",
    "# the engine needs a way to produce a new guess by mutating the current one. The following implementation converts the parent \n",
    "# string to an array with list(parent), then replaces 1 letter in the array with a randomly selected one from geneSet, \n",
    "# and finally recombines the result into a string with ''.join(childGenes)\n",
    "def mutate(parent):\n",
    "    index =  random.randrange(0, len(parent))\n",
    "    childGenes =  list(parent)\n",
    "    newGene, alternate = random.sample(geneSet, 2)\n",
    "    childGenes[index] = alternate if newGene == childGenes[index] else newGene\n",
    "    return ''.join(childGenes)\n",
    "\n",
    "mutate(\"hll\")"
   ]
  },
  {
   "cell_type": "code",
   "execution_count": 21,
   "metadata": {},
   "outputs": [],
   "source": [
    "# displaying \n",
    "\n",
    "import datetime\n",
    "\n",
    "def display(guess):\n",
    "    timeDiff = datetime.datetime.now() - startTime\n",
    "    fitness =  get_fitness(guess)\n",
    "    print(\"{0}\\t{1}\\t{2}\".format(guess, fitness, str(timeDiff)))"
   ]
  },
  {
   "cell_type": "code",
   "execution_count": 23,
   "metadata": {},
   "outputs": [
    {
     "name": "stdout",
     "output_type": "stream",
     "text": [
      "yNJcodakEVzt\t1\t0:00:00\n",
      "HNJcodakEVzt\t2\t0:00:00\n",
      "HNJco akEVzt\t3\t0:00:00.002028\n",
      "HNJco akrVzt\t4\t0:00:00.002028\n",
      "HNJco WkrVzt\t5\t0:00:00.002028\n",
      "HNlco WkrVzt\t6\t0:00:00.003031\n",
      "HNllo WkrVzt\t7\t0:00:00.003031\n",
      "HNllo Wkrlzt\t8\t0:00:00.005036\n",
      "Hello Wkrlzt\t9\t0:00:00.010025\n",
      "Hello Wkrldt\t10\t0:00:00.012030\n",
      "Hello Worldt\t11\t0:00:00.016058\n",
      "Hello World!\t12\t0:00:00.016058\n"
     ]
    }
   ],
   "source": [
    "random.seed()\n",
    "startTime = datetime.datetime.now()\n",
    "bestParent = generate_parent(len(target))\n",
    "bestFitness = get_fitness(bestParent)\n",
    "display(bestParent)\n",
    "while True:\n",
    "    child = mutate(bestParent)\n",
    "    childFitness = get_fitness(child)\n",
    "    if bestFitness >= childFitness:\n",
    "        continue\n",
    "    display(child)\n",
    "    if childFitness >= len(bestParent):\n",
    "        break\n",
    "    bestFitness = childFitness\n",
    "    bestParent = child"
   ]
  },
  {
   "cell_type": "markdown",
   "metadata": {},
   "source": [
    "\n",
    "## References \n",
    "\n",
    "+ Sheppard, C. (2016). Genetic algorithms with python. Clinton Sheppard."
   ]
  }
 ],
 "metadata": {
  "kernelspec": {
   "display_name": "Python 3",
   "language": "python",
   "name": "python3"
  },
  "language_info": {
   "codemirror_mode": {
    "name": "ipython",
    "version": 3
   },
   "file_extension": ".py",
   "mimetype": "text/x-python",
   "name": "python",
   "nbconvert_exporter": "python",
   "pygments_lexer": "ipython3",
   "version": "3.6.6"
  }
 },
 "nbformat": 4,
 "nbformat_minor": 2
}
