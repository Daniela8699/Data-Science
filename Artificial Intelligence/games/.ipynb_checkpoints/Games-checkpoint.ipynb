{
 "cells": [
  {
   "cell_type": "markdown",
   "metadata": {},
   "source": [
    "__Author: Christian Camilo Urcuqui López__\n",
    "\n",
    "__Date: 11 February 2019__"
   ]
  },
  {
   "cell_type": "markdown",
   "metadata": {},
   "source": [
    "<img src=\"https://github.com/urcuqui/Data-Science/blob/master/Utilities/games.jpeg?raw=true\" width=\"350\">\n",
    "\n",
    "# Artificial Intelligence and Games\n",
    "\n",
    "Games allows us to make in the practice the algorithms in a environment that are similar to the real life. They are useful because we can use them in order to evaluate the algorithms versus human intelligence. \n",
    "\n",
    "We can find a lot of kinds of games, some of them have the next features:\n",
    "\n",
    "+ These games have an adversary, in other words, two players with different interests.\n",
    "+ We can find  games called sum zero, these kinds of games they are finished when a player win and another loose, or they were tied.  \n",
    "+ They are informed, specifically, we know all the information about the game, for example, the movements of the opponent.\n",
    "+ Each movement and movement are perfectly articulated, a random process is not applied. "
   ]
  },
  {
   "cell_type": "markdown",
   "metadata": {},
   "source": [
    "We can consider a game as a heuristic search, where the difference is in the adversary which we don't' know about its movements in a first instance (we need to search its possible movements). Some of the games are:\n",
    "+ Tic-Tac-Toe\n",
    "+ Chess\n",
    "+ Checkers"
   ]
  },
  {
   "cell_type": "markdown",
   "metadata": {},
   "source": [
    "<img src=\"https://cdncontribute.geeksforgeeks.org/wp-content/uploads/TIC_TAC.jpg\" width=\"350\">"
   ]
  },
  {
   "cell_type": "markdown",
   "metadata": {},
   "source": [
    "## Mini Max Algorithm"
   ]
  },
  {
   "cell_type": "markdown",
   "metadata": {},
   "source": [
    "In this algorithm, MAX is referenced to the round of the computer and MIN to the movement of the human. MAX means the possibilities to win and MIN to the process to minimize the alternatives to the human wins."
   ]
  },
  {
   "cell_type": "markdown",
   "metadata": {},
   "source": [
    "__A terminal node__ is where some player wins or if the game finished in tie.\n",
    "\n",
    "An evaluation function for this game is where we can assign +1 to the terminal nodes which allow the player to find the victory, -1 to the terminal nodes where the human adversary wins, and 0 where we can find a tie.\n",
    "\n",
    "Minimax is an algorithm which uses DFS in order to reach a terminal node and when it is found the algorithm evaluates and assigns a value (+1, -1 or 0). Once the terminal node is marked with its value, the minimax algorithm will propagate these values to the father nodes.  "
   ]
  },
  {
   "cell_type": "markdown",
   "metadata": {},
   "source": [
    "```\n",
    "minimax function (player, board) : \n",
    "    if a node is terminal:\n",
    "        return player\n",
    "    children_nodes = all movements since the initial state\n",
    "    if the movement is MAX:\n",
    "        return the maximum value from minimax() to every child node\n",
    "    else:\n",
    "        return the minimum value from minimax() to every child node.\n",
    "```"
   ]
  },
  {
   "cell_type": "code",
   "execution_count": null,
   "metadata": {},
   "outputs": [],
   "source": []
  },
  {
   "cell_type": "markdown",
   "metadata": {},
   "source": [
    "## References\n",
    "\n",
    "+ https://www.inverse.com/article/31467-artificial-intelligence-computer-human-game"
   ]
  }
 ],
 "metadata": {
  "kernelspec": {
   "display_name": "Python 3",
   "language": "python",
   "name": "python3"
  },
  "language_info": {
   "codemirror_mode": {
    "name": "ipython",
    "version": 3
   },
   "file_extension": ".py",
   "mimetype": "text/x-python",
   "name": "python",
   "nbconvert_exporter": "python",
   "pygments_lexer": "ipython3",
   "version": "3.6.6"
  }
 },
 "nbformat": 4,
 "nbformat_minor": 2
}
