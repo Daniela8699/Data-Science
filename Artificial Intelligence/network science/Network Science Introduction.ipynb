{
 "cells": [
  {
   "cell_type": "markdown",
   "metadata": {},
   "source": [
    "## References\n",
    "\n",
    "+ http://www.network-science.org/\n",
    "+ http://networksciencebook.com/\n",
    "+ https://www.analyticsvidhya.com/blog/2018/04/introduction-to-graph-theory-network-analysis-python-codes/\n",
    "+ https://www.analyticsvidhya.com/blog/2018/09/introduction-graph-theory-applications-python/\n",
    "+ https://graph-tool.skewed.de/\n",
    "+ https://www.cl.cam.ac.uk/~cm542/teaching/2011/stna-pdfs/stna-lecture11.pdf\n",
    "+ https://github.com/networkx/networkx/blob/master/examples/graph/plot_football.py"
   ]
  }
 ],
 "metadata": {
  "kernelspec": {
   "display_name": "Python 3",
   "language": "python",
   "name": "python3"
  },
  "language_info": {
   "codemirror_mode": {
    "name": "ipython",
    "version": 3
   },
   "file_extension": ".py",
   "mimetype": "text/x-python",
   "name": "python",
   "nbconvert_exporter": "python",
   "pygments_lexer": "ipython3",
   "version": "3.6.6"
  }
 },
 "nbformat": 4,
 "nbformat_minor": 2
}
