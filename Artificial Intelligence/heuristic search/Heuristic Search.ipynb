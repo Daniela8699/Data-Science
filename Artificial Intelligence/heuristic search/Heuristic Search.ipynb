{
 "cells": [
  {
   "cell_type": "markdown",
   "metadata": {},
   "source": [
    "# No informed (Heuristic) Search\n",
    "\n",
    "_Heuristic Search_ is a technique which aims to find a valid solution in space of states. In this notebook we are going to explore the _No informed search_ due to the problem that we want to resolve doesn't give us any information to find a quick solution.\n",
    "\n",
    "In a _informed search_ we know some information about the progress of the search, one example is the _Travelling Salesman Problem_ where we can get the results of different trips and we can compare them in order to improve the method."
   ]
  },
  {
   "cell_type": "markdown",
   "metadata": {},
   "source": [
    "Is is important to make us some questions when we are working with no informed search problems, these are:\n",
    "+ what is space of states of the problem? \n",
    "+ what is the initial and final states?\n",
    "+ what is the operation which allows us to pass from one state to another?\n",
    "+ what is the evaluation function?"
   ]
  },
  {
   "cell_type": "markdown",
   "metadata": {},
   "source": [
    "Suppose the next example related with the _lineal puzzle_, we have four pieces (1, 3, 2, 4) and you want to sort them and get a final state (1, 2, 3, 4), for this case you have 4! = 24 combinations (states), with only four pieces the problem could be resolved easily with only evaluating each state, but when the number of pieces increase the problem is going to be harder. "
   ]
  },
  {
   "cell_type": "markdown",
   "metadata": {},
   "source": [
    "We must define the operation which allows us to explore each state. A basic operation is to interchange two pieces, for example, with only four pieces we are going to have three possibilities:\n",
    "+ we can interchange the two left pieces\n",
    "+ we can interchange the two right pieces\n",
    "+ we can interchange the central pieces"
   ]
  },
  {
   "cell_type": "markdown",
   "metadata": {},
   "source": [
    "The last step is to find the evaluation function. Due we are working in a not informed searched we only need a function which evaluates the objective versus the state."
   ]
  },
  {
   "cell_type": "markdown",
   "metadata": {},
   "source": [
    "## Trees\n",
    "\n",
    "The best way to represent each state is through a tree model where we are going to have the initial state in the top and its different states in the leafs.\n",
    "\n",
    "We are going to load the code from the file _tree.py_"
   ]
  },
  {
   "cell_type": "code",
   "execution_count": 18,
   "metadata": {},
   "outputs": [],
   "source": [
    "# this is one way to import the class Nodo made in the tree.py\n",
    "from models import tree"
   ]
  },
  {
   "cell_type": "code",
   "execution_count": 2,
   "metadata": {},
   "outputs": [],
   "source": [
    "# %load models/tree.py\n",
    "class Nodo:\n",
    "    def __init__(self, datos, hijos=None):\n",
    "        self.datos = datos\n",
    "        self.hijos = None\n",
    "        self.padre = None\n",
    "        self.coste = None\n",
    "        self.set_hijos(hijos)\n",
    "\n",
    "   \n",
    "    def compara(x, y):\n",
    "        return x.get_coste() - y.get_coste()\n",
    "\n",
    "    def get_hijos(self):\n",
    "        return self.hijos\n",
    "    \n",
    "    \"\"\"\n",
    "     Asigna al nodo la lista de hijos que son pasados por parámetro\n",
    "    \"\"\"\n",
    "    def set_hijos(self, hijos):\n",
    "        self.hijos = hijos\n",
    "        if self.hijos != None:\n",
    "            for h in self.hijos:\n",
    "                h.padre = self\n",
    "    \"\"\"\n",
    "     Retorna el nodo padre\n",
    "    \"\"\"                \n",
    "    def get_padre(self):\n",
    "        return self.padre\n",
    "\n",
    "    \"\"\"\n",
    "     Asigna al nodo padre de este nodo\n",
    "    \"\"\"  \n",
    "    def set_padre(self, padre):\n",
    "        self.padre = padre\n",
    "\n",
    "    \"\"\"\n",
    "     Asigna el dato almacenado en el nodo\n",
    "    \"\"\"  \n",
    "    def set_datos(self, datos):\n",
    "        self.datos = datos\n",
    "\n",
    "    \"\"\"\n",
    "     Devuelve el dato almacenado en el nodo\n",
    "    \"\"\"     \n",
    "    def get_datos(self):\n",
    "        return self.datos\n",
    "\n",
    "    \"\"\"\n",
    "     Asigna el costo del nodo dentro del árbol\n",
    "    \"\"\"  \n",
    "    def set_coste(self, coste):\n",
    "        self.coste = coste\n",
    "\n",
    "    \"\"\"\n",
    "     Retorna el costo \n",
    "    \"\"\"  \n",
    "    def get_coste(self):\n",
    "        return self.coste\n",
    "\n",
    "    \"\"\"\n",
    "     Retorna True si el dato contenido en el nodo es igual al nodo pasado como parámetro\n",
    "    \"\"\"  \n",
    "    def igual(self, nodo):\n",
    "        if self.get_datos() == nodo.get_datos():\n",
    "            return True\n",
    "        else:\n",
    "            return False\n",
    "\n",
    "    def en_lista(self, lista_nodos):\n",
    "        en_la_lista = False\n",
    "        for n in lista_nodos:\n",
    "            if self.igual(n):\n",
    "                en_la_lista = True\n",
    "        return en_la_lista\n",
    "\n",
    "    def __str__(self):\n",
    "        return str(self.get_datos())"
   ]
  },
  {
   "cell_type": "markdown",
   "metadata": {},
   "source": [
    "## Breadth-first search (BFS) "
   ]
  },
  {
   "cell_type": "markdown",
   "metadata": {},
   "source": [
    "This search travels each level of the tree, in other words:\n",
    "+ it is going to visit the first node (root)\n",
    "+ next, it is going to visit their children (leafs)\n",
    "+ for each child (leaf) it is going to visit its children (leafs)... it is like a loop "
   ]
  },
  {
   "cell_type": "markdown",
   "metadata": {},
   "source": [
    "The process has a FIFO to list the border nodes. This is the pseudocode to apply BFPS:\n",
    "\n",
    "```\n",
    "initial_node = initial state\n",
    "border_nodes = FIFO tail\n",
    "nodes_visited = list\n",
    "\n",
    "save the initial_node in border_nodes\n",
    "while border_nodes is empty:\n",
    "    actual_node = get a node from the border_nodes\n",
    "    if actual_node == solution:\n",
    "        exit with solution\n",
    "    \n",
    "    save the actual_node in nodes_visited\n",
    "    for each operator:\n",
    "        child_node = opearator(actual_node)\n",
    "        if child_node is not in visited_nodes:\n",
    "            save child_node in border_nodes        \n",
    "```"
   ]
  },
  {
   "cell_type": "code",
   "execution_count": 3,
   "metadata": {},
   "outputs": [
    {
     "name": "stdout",
     "output_type": "stream",
     "text": [
      "[[4, 2, 3, 1], [2, 4, 3, 1], [2, 3, 4, 1], [2, 3, 1, 4], [2, 1, 3, 4], [1, 2, 3, 4]]\n"
     ]
    }
   ],
   "source": [
    "# puzzle Lineal con busqueda en amplitud, para cuatro variables\n",
    "\n",
    "def buscar_solucion_BFS(estado_inicial, solucion):\n",
    "    solucionado = False\n",
    "    nodos_visitados = []\n",
    "    nodos_frontera = []\n",
    "    nodoInicial = Nodo(estado_inicial)\n",
    "    nodos_frontera.append(nodoInicial)\n",
    "    while (not solucionado) and len(nodos_frontera) != 0:\n",
    "        nodo = nodos_frontera.pop(0)\n",
    "        # extraer nodo y añadirlo a los visitados\n",
    "        nodos_visitados.append(nodo)\n",
    "\n",
    "        if nodo.get_datos() == solucion:\n",
    "            # solucion encontrada\n",
    "            solucionado = True\n",
    "            return nodo\n",
    "        else:\n",
    "            # expandir nodos hijo\n",
    "            dato_nodo = nodo.get_datos()\n",
    "\n",
    "            # operador izquierdo\n",
    "            hijo = [dato_nodo[1], dato_nodo[0], dato_nodo[2], dato_nodo[3]]\n",
    "            hijo_izquierdo = Nodo(hijo)\n",
    "            if not hijo_izquierdo.en_lista(nodos_visitados) and not hijo_izquierdo.en_lista(nodos_frontera):\n",
    "                nodos_frontera.append(hijo_izquierdo)\n",
    "\n",
    "            # operador central\n",
    "            hijo = [dato_nodo[0], dato_nodo[2], dato_nodo[1], dato_nodo[3]]\n",
    "            hijo_central = Nodo(hijo)\n",
    "            if not hijo_central.en_lista(nodos_visitados) and not hijo_central.en_lista(nodos_frontera):\n",
    "                nodos_frontera.append(hijo_central)\n",
    "\n",
    "            # operador derecho\n",
    "            hijo = [dato_nodo[0], dato_nodo[1], dato_nodo[3], dato_nodo[2]]\n",
    "            hijo_derecho = Nodo(hijo)\n",
    "            if not hijo_derecho.en_lista(nodos_visitados) and not hijo_derecho.en_lista(nodos_frontera):\n",
    "                nodos_frontera.append(hijo_derecho)\n",
    "\n",
    "            nodo.set_hijos([hijo_izquierdo, hijo_central, hijo_derecho])\n",
    "    return nodos_visitados\n",
    "\n",
    "estado_inicial = [4, 2, 3, 1]\n",
    "solucion = [1, 2, 3, 4]\n",
    "nodo_solucion = buscar_solucion_BFS(estado_inicial, solucion)\n",
    "# mostrar resultado\n",
    "resultado = []\n",
    "nodo = nodo_solucion\n",
    "while nodo.get_padre() != None:\n",
    "    resultado.append(nodo.get_datos())\n",
    "    nodo = nodo.get_padre()\n",
    "\n",
    "resultado.append(estado_inicial)\n",
    "resultado.reverse()\n",
    "print(resultado)"
   ]
  },
  {
   "cell_type": "markdown",
   "metadata": {},
   "source": [
    "If a solution exists the breadth-first search has the process to find it, but the problem there is the time spent. When we are talking about an algorithm which has the capabilities to find a solution and it doesn't matter the time spent, so we can call this algorithm is __completed__.\n",
    "\n",
    "If the solution is the best, the algorithm is __optimal__"
   ]
  }
 ],
 "metadata": {
  "kernelspec": {
   "display_name": "Python 3",
   "language": "python",
   "name": "python3"
  },
  "language_info": {
   "codemirror_mode": {
    "name": "ipython",
    "version": 3
   },
   "file_extension": ".py",
   "mimetype": "text/x-python",
   "name": "python",
   "nbconvert_exporter": "python",
   "pygments_lexer": "ipython3",
   "version": "3.6.6"
  }
 },
 "nbformat": 4,
 "nbformat_minor": 2
}
