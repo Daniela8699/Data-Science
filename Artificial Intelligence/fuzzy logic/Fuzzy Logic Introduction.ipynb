{
 "cells": [
  {
   "cell_type": "markdown",
   "metadata": {},
   "source": [
    "__Author: Christian Camilo Urcuqui López__\n",
    "\n",
    "__Date: 15 may 2019__\n",
    "\n",
    "\n",
    "# Fuzzy Logic\n",
    "\n",
    "<img src=\"https://upload.wikimedia.org/wikipedia/commons/thumb/6/61/Fuzzy_logic_temperature_en.svg/1200px-Fuzzy_logic_temperature_en.svg.png\" width=\"350\">\n",
    "\n",
    "\n",
    "It is a methodolody where its sets are not clear, due this the \"truthiness\" can be expresed over a continuum, in other words,  something is not totally true or false, they are partically true or partially false.\n",
    "\n",
    "A _fuzzy variable_ has a _crisp value_ which takes on some value over a pre-defined domain (__universe__). This has several _terms_ that are used to describe it, for example some categorical characteristics like \"poor\", \"mediocre\", and \"good\". Each term has a membership function that defines who crisp value is on a scale of 0 to 1.\n",
    "\n",
    "Moveover, we have a _fuzzy control system_ which links fuzzy variables using a set of _rules_. These rules are sumply mapping that describes how one or more fuzzy variables relates to another (they are noted in terms of an IF-THEN). Each rule has its _antecedent_ and its _consequent_.\n"
   ]
  },
  {
   "cell_type": "markdown",
   "metadata": {},
   "source": [
    "<img src=\"https://pythonhosted.org/scikit-fuzzy/_static/img/logo.png\" width=\"150\">\n",
    "\n",
    "\n",
    "Scikit-Fuzzy is a collection of fuzzy logic algorithms based on SciPy Stack"
   ]
  },
  {
   "cell_type": "markdown",
   "metadata": {},
   "source": [
    "## The Tipping Problem - The Hard Way\n",
    "\n",
    "These are the input variables:\n",
    "+ __quality__: Quality of the food\n",
    "+ __service__: Quality of the service\n",
    "\n",
    "This is the output variable"
   ]
  },
  {
   "cell_type": "markdown",
   "metadata": {},
   "source": [
    "## References\n",
    "\n",
    "+ https://pythonhosted.org/scikit-fuzzy/userguide/fuzzy_control_primer.html#overiveiw-and-terminology"
   ]
  },
  {
   "cell_type": "markdown",
   "metadata": {},
   "source": []
  }
 ],
 "metadata": {
  "kernelspec": {
   "display_name": "Python 3",
   "language": "python",
   "name": "python3"
  },
  "language_info": {
   "codemirror_mode": {
    "name": "ipython",
    "version": 3
   },
   "file_extension": ".py",
   "mimetype": "text/x-python",
   "name": "python",
   "nbconvert_exporter": "python",
   "pygments_lexer": "ipython3",
   "version": "3.6.6"
  }
 },
 "nbformat": 4,
 "nbformat_minor": 2
}
