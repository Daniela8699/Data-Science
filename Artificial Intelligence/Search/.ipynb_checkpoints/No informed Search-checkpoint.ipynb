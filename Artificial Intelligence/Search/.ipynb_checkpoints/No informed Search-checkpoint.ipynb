{
 "cells": [
  {
   "cell_type": "markdown",
   "metadata": {},
   "source": [
    "# No informed Search\n",
    "\n",
    "_Search_ is a technique which aims to find a valid solution in space of states. In this notebook we are going to explore the _No informed search_ due to the problem that we want to resolve doesn't give us any information to find a quick solution.\n",
    "\n",
    "In a _informed search_ we know some information about the progress of the search, one example is the _Travelling Salesman Problem_ where we can get the results of different trips and we can compare them in order to improve the method."
   ]
  },
  {
   "cell_type": "markdown",
   "metadata": {},
   "source": [
    "Is is important to make us some questions when we are working with no informed search problems, these are:\n",
    "+ what is space of states of the problem? \n",
    "+ what is the initial and final states?\n",
    "+ what is the operation which allows us to pass from one state to another?\n",
    "+ what is the evaluation function?"
   ]
  },
  {
   "cell_type": "markdown",
   "metadata": {},
   "source": [
    "Suppose the next example related with the _lineal puzzle_, we have four pieces (1, 3, 2, 4) and you want to sort them and get a final state (1, 2, 3, 4), for this case you have 4! = 24 combinations (states), with only four pieces the problem could be resolved easily with only evaluating each state, but when the number of pieces increase the problem is going to be harder. "
   ]
  },
  {
   "cell_type": "markdown",
   "metadata": {},
   "source": [
    "We must define the operation which allows us to explore each state. A basic operation is to interchange two pieces, for example, with only four pieces we are going to have three possibilities:\n",
    "+ we can interchange the two left pieces\n",
    "+ we can interchange the two right pieces\n",
    "+ we can interchange the central pieces"
   ]
  },
  {
   "cell_type": "markdown",
   "metadata": {},
   "source": [
    "The last step is to find the evaluation function. Due we are working in a not informed searched we only need a function which evaluates the objective versus the state."
   ]
  },
  {
   "cell_type": "markdown",
   "metadata": {},
   "source": [
    "+ [Trees](#Trees)\n",
    "+ [Breadth first search (BFS)](#Breadth-first-search-(BFS))\n",
    "+ [Depth First Search](#Depth-First-Search)\n",
    "+ [Uniform Cost Search](#Uniform-Cost-Search)"
   ]
  },
  {
   "cell_type": "markdown",
   "metadata": {},
   "source": [
    "## Trees\n",
    "\n",
    "The best way to represent each state is through a tree model where we are going to have the initial state in the top and its different states in the leafs.\n",
    "\n",
    "We are going to load the code from the file _tree.py_"
   ]
  },
  {
   "cell_type": "code",
   "execution_count": 18,
   "metadata": {},
   "outputs": [],
   "source": [
    "# this is one way to import the class Nodo made in the tree.py\n",
    "from models import tree"
   ]
  },
  {
   "cell_type": "code",
   "execution_count": 1,
   "metadata": {},
   "outputs": [],
   "source": [
    "# %load models/tree.py\n",
    "class Nodo:\n",
    "    def __init__(self, datos, hijos=None):\n",
    "        self.datos = datos\n",
    "        self.hijos = None\n",
    "        self.padre = None\n",
    "        self.coste = None\n",
    "        self.set_hijos(hijos)\n",
    "\n",
    "   \n",
    "    def compara(x, y):\n",
    "        return x.get_coste() - y.get_coste()\n",
    "\n",
    "    def get_hijos(self):\n",
    "        return self.hijos\n",
    "    \n",
    "    \"\"\"\n",
    "     Asigna al nodo la lista de hijos que son pasados por parámetro\n",
    "    \"\"\"\n",
    "    def set_hijos(self, hijos):\n",
    "        self.hijos = hijos\n",
    "        if self.hijos != None:\n",
    "            for h in self.hijos:\n",
    "                h.padre = self\n",
    "    \"\"\"\n",
    "     Retorna el nodo padre\n",
    "    \"\"\"                \n",
    "    def get_padre(self):\n",
    "        return self.padre\n",
    "\n",
    "    \"\"\"\n",
    "     Asigna al nodo padre de este nodo\n",
    "    \"\"\"  \n",
    "    def set_padre(self, padre):\n",
    "        self.padre = padre\n",
    "\n",
    "    \"\"\"\n",
    "     Asigna el dato almacenado en el nodo\n",
    "    \"\"\"  \n",
    "    def set_datos(self, datos):\n",
    "        self.datos = datos\n",
    "\n",
    "    \"\"\"\n",
    "     Devuelve el dato almacenado en el nodo\n",
    "    \"\"\"     \n",
    "    def get_datos(self):\n",
    "        return self.datos\n",
    "\n",
    "    \"\"\"\n",
    "     Asigna el costo del nodo dentro del árbol\n",
    "    \"\"\"  \n",
    "    def set_coste(self, coste):\n",
    "        self.coste = coste\n",
    "\n",
    "    \"\"\"\n",
    "     Retorna el costo \n",
    "    \"\"\"  \n",
    "    def get_coste(self):\n",
    "        return self.coste\n",
    "\n",
    "    \"\"\"\n",
    "     Retorna True si el dato contenido en el nodo es igual al nodo pasado como parámetro\n",
    "    \"\"\"  \n",
    "    def igual(self, nodo):\n",
    "        if self.get_datos() == nodo.get_datos():\n",
    "            return True\n",
    "        else:\n",
    "            return False\n",
    "\n",
    "    def en_lista(self, lista_nodos):\n",
    "        en_la_lista = False\n",
    "        for n in lista_nodos:\n",
    "            if self.igual(n):\n",
    "                en_la_lista = True\n",
    "        return en_la_lista\n",
    "\n",
    "    def __str__(self):\n",
    "        return str(self.get_datos())"
   ]
  },
  {
   "cell_type": "markdown",
   "metadata": {},
   "source": [
    "## Breadth-first search (BFS) "
   ]
  },
  {
   "cell_type": "markdown",
   "metadata": {},
   "source": [
    "__This search travels each level of the tree__, in other words:\n",
    "+ it is going to visit the first node (root)\n",
    "+ next, it is going to visit their children (leafs)\n",
    "+ for each child (leaf) it is going to visit its children (leafs)... it is like a loop "
   ]
  },
  {
   "cell_type": "markdown",
   "metadata": {},
   "source": [
    "The process has a FIFO to list the border nodes. This is the pseudocode to apply BFPS:\n",
    "\n",
    "```\n",
    "initial_node = initial state\n",
    "border_nodes = FIFO tail\n",
    "nodes_visited = list\n",
    "\n",
    "save the initial_node in border_nodes\n",
    "while border_nodes is not empty:\n",
    "    actual_node = get a node from the border_nodes\n",
    "    if actual_node == solution:\n",
    "        exit with solution\n",
    "    \n",
    "    save the actual_node in nodes_visited\n",
    "    for each operator:\n",
    "        child_node = operator(actual_node)\n",
    "        if child_node is not in visited_nodes:\n",
    "            save child_node in border_nodes        \n",
    "```"
   ]
  },
  {
   "cell_type": "code",
   "execution_count": 3,
   "metadata": {},
   "outputs": [
    {
     "name": "stdout",
     "output_type": "stream",
     "text": [
      "[[4, 2, 3, 1], [2, 4, 3, 1], [2, 3, 4, 1], [2, 3, 1, 4], [2, 1, 3, 4], [1, 2, 3, 4]]\n"
     ]
    }
   ],
   "source": [
    "# puzzle Lineal con busqueda en amplitud, para cuatro variables\n",
    "\n",
    "def buscar_solucion_BFS(estado_inicial, solucion):\n",
    "    solucionado = False\n",
    "    nodos_visitados = []\n",
    "    nodos_frontera = []\n",
    "    nodoInicial = Nodo(estado_inicial)\n",
    "    nodos_frontera.append(nodoInicial)\n",
    "    while (not solucionado) and len(nodos_frontera) != 0:\n",
    "        nodo = nodos_frontera.pop(0)\n",
    "        # extraer nodo y añadirlo a los visitados\n",
    "        nodos_visitados.append(nodo)\n",
    "\n",
    "        if nodo.get_datos() == solucion:\n",
    "            # solucion encontrada\n",
    "            solucionado = True\n",
    "            return nodo\n",
    "        else:\n",
    "            # expandir nodos hijo\n",
    "            dato_nodo = nodo.get_datos()\n",
    "\n",
    "            # operador izquierdo\n",
    "            hijo = [dato_nodo[1], dato_nodo[0], dato_nodo[2], dato_nodo[3]]\n",
    "            hijo_izquierdo = Nodo(hijo)\n",
    "            if not hijo_izquierdo.en_lista(nodos_visitados) and not hijo_izquierdo.en_lista(nodos_frontera):\n",
    "                nodos_frontera.append(hijo_izquierdo)\n",
    "\n",
    "            # operador central\n",
    "            hijo = [dato_nodo[0], dato_nodo[2], dato_nodo[1], dato_nodo[3]]\n",
    "            hijo_central = Nodo(hijo)\n",
    "            if not hijo_central.en_lista(nodos_visitados) and not hijo_central.en_lista(nodos_frontera):\n",
    "                nodos_frontera.append(hijo_central)\n",
    "\n",
    "            # operador derecho\n",
    "            hijo = [dato_nodo[0], dato_nodo[1], dato_nodo[3], dato_nodo[2]]\n",
    "            hijo_derecho = Nodo(hijo)\n",
    "            if not hijo_derecho.en_lista(nodos_visitados) and not hijo_derecho.en_lista(nodos_frontera):\n",
    "                nodos_frontera.append(hijo_derecho)\n",
    "\n",
    "            nodo.set_hijos([hijo_izquierdo, hijo_central, hijo_derecho])\n",
    "    return nodos_visitados\n",
    "\n",
    "estado_inicial = [4, 2, 3, 1]\n",
    "solucion = [1, 2, 3, 4]\n",
    "nodo_solucion = buscar_solucion_BFS(estado_inicial, solucion)\n",
    "# mostrar resultado\n",
    "resultado = []\n",
    "nodo = nodo_solucion\n",
    "while nodo.get_padre() != None:\n",
    "    resultado.append(nodo.get_datos())\n",
    "    nodo = nodo.get_padre()\n",
    "\n",
    "resultado.append(estado_inicial)\n",
    "resultado.reverse()\n",
    "print(resultado)"
   ]
  },
  {
   "cell_type": "markdown",
   "metadata": {},
   "source": [
    "If a solution exists the breadth-first search has the process to find it, but the problem there is the time spent. When we are talking about an algorithm which has the capabilities to find a solution and it doesn't matter the time spent, so we can call this algorithm is __completed__.\n",
    "\n",
    "If the solution is the best, the algorithm is __optimal__"
   ]
  },
  {
   "cell_type": "markdown",
   "metadata": {},
   "source": [
    "The time complexity of BFS is related to the number of nodes, specifically, if the tree has a ramification factor of `b`, the root node is going to have `b` children. In the next level we are going to have $b^{2}$, in general the a depth of `d` we have:\n",
    "\n",
    "number of nodes $= b+ b^{2} + b^{3} + ... + b^{d}$\n",
    "\n",
    "The BFS has a time complexity of $O(b^{d})$"
   ]
  },
  {
   "cell_type": "markdown",
   "metadata": {},
   "source": [
    "Let's see the application in the problem _Travelling Salesman Problem_ where the idea is reduce the number of kilometers, in other words, the best way."
   ]
  },
  {
   "cell_type": "code",
   "execution_count": 6,
   "metadata": {},
   "outputs": [
    {
     "name": "stdout",
     "output_type": "stream",
     "text": [
      "['Malaga', 'Barcelona', 'Santiago']\n"
     ]
    }
   ],
   "source": [
    "# %load vuelos_busqueda_am.py\n",
    "# Vuelos con busqueda en amplitud\n",
    "\n",
    "def buscar_solucion_BFS(conexiones, estado_inicial, solucion):\n",
    "    solucionado =  False\n",
    "    nodos_visitados = []\n",
    "    nodos_frontera =[]\n",
    "    nodoInicial = Nodo(estado_inicial)\n",
    "    nodos_frontera.append(nodoInicial)\n",
    "    while(not solucionado) and len(nodos_frontera) !=0 :\n",
    "        nodo = nodos_frontera[0]\n",
    "        # Extraer nodo y añadirlo a visitados\n",
    "        nodos_visitados.append(nodos_frontera.pop(0))\n",
    "        if nodo.get_datos() == solucion:\n",
    "            # Solucion encontrada\n",
    "            solucionado = True\n",
    "            return nodo\n",
    "        else:\n",
    "            # expandir nodos hijo (ciudades con conexion)\n",
    "            dato_nodo = nodo.get_datos()\n",
    "            lista_hijos = []\n",
    "            for un_hijo in conexiones[dato_nodo]:\n",
    "                hijo = Nodo(un_hijo)\n",
    "                lista_hijos.append(hijo)\n",
    "                if not hijo.en_lista(nodos_visitados) and not hijo.en_lista(nodos_frontera):\n",
    "                    nodos_frontera.append(hijo)\n",
    "            nodo.set_hijos(lista_hijos)\n",
    "\n",
    "\n",
    "conexiones = {\n",
    "    'Malaga': {'Salamanca', 'Madrid', 'Barcelona'},\n",
    "    'Sevilla': {'Santiago', 'Madrid'},\n",
    "    'Granada': {'Valencia'},\n",
    "    'Valencia': {'Barcelona'},\n",
    "    'Madrid': {'Salamanca', 'Sevilla', 'Malaga', 'Barcelona', 'Santander'},\n",
    "    'Salamanca': {'Malaga', 'Madrid'},\n",
    "    'Santiago': {'Sevilla', 'Santander', 'Barcelona'},\n",
    "    'Santander': {'Santiago', 'Madrid'},\n",
    "    'Zaragoza': {'Barcelona'},\n",
    "    'Barcelona': {'Zaragoza', 'Santiago', 'Madrid', 'Malaga', 'Valencia'}\n",
    "}\n",
    "estado_inicial = 'Malaga'\n",
    "solucion = 'Santiago'\n",
    "nodo_solucion = buscar_solucion_BFS(conexiones,estado_inicial,solucion)\n",
    "\n",
    "#mostrar resultado\n",
    "resultado=[]\n",
    "nodo=nodo_solucion\n",
    "while nodo.get_padre() != None:\n",
    "    resultado.append(nodo.get_datos())\n",
    "    nodo = nodo.get_padre()\n",
    "resultado.append(estado_inicial)\n",
    "resultado.reverse()\n",
    "print(resultado)"
   ]
  },
  {
   "cell_type": "markdown",
   "metadata": {},
   "source": [
    "We have a solution!, is this the best way?"
   ]
  },
  {
   "cell_type": "markdown",
   "metadata": {},
   "source": [
    "## Depth First Search"
   ]
  },
  {
   "cell_type": "markdown",
   "metadata": {},
   "source": [
    "The difference of this search to BFS is that this process reviews each tree in a depth way and not for each level, the idea is to analyze a branch until to analyze the deeper node, once this node is processed another branch is going to evaluate."
   ]
  },
  {
   "cell_type": "markdown",
   "metadata": {},
   "source": [
    "We can implement this through a LIFO(Last in First Out) heap, this is the pseudocode:\n",
    "\n",
    "```\n",
    "initial_node = initial state\n",
    "border_nodes = LIFO heap\n",
    "nodes_visited = list\n",
    "\n",
    "save the initial_node in border_nodes\n",
    "while border_nodes is not empty:\n",
    "    actual_node = get a node from the border_nodes\n",
    "    if actual_node == solution:\n",
    "        exit with solution\n",
    "    \n",
    "    save the actual_node in nodes_visited\n",
    "    for each operator:\n",
    "        child_node = operator(actual_node)\n",
    "        if child_node is not in visited_nodes and not in border_nodes:\n",
    "            save child_node in border_nodes        \n",
    "```"
   ]
  },
  {
   "cell_type": "code",
   "execution_count": 3,
   "metadata": {},
   "outputs": [
    {
     "name": "stdout",
     "output_type": "stream",
     "text": [
      "[[4, 2, 3, 1], [4, 2, 1, 3], [4, 1, 2, 3], [4, 1, 3, 2], [4, 3, 1, 2], [3, 4, 1, 2], [3, 4, 2, 1], [3, 2, 4, 1], [3, 2, 1, 4], [3, 1, 2, 4], [1, 3, 2, 4], [1, 2, 3, 4]]\n"
     ]
    }
   ],
   "source": [
    "# %load puzzle_lineal_busqueda_pro.py\n",
    "# Puzzle Lineal con busqueda en profundidad, para cuatro variables\n",
    "\n",
    "def buscar_solucion_DFS(estado_inicial, solucion):\n",
    "    solucionado = False\n",
    "    nodos_visitados = []\n",
    "    nodos_frontera = []\n",
    "    nodoInicial = Nodo(estado_inicial)\n",
    "    nodos_frontera.append(nodoInicial)\n",
    "    while (not solucionado) and (len(nodos_frontera) != 0):\n",
    "        nodo=nodos_frontera.pop()\n",
    "\n",
    "        # extraer nodo y añadirlo a visitados\n",
    "        nodos_visitados.append(nodo)\n",
    "        if nodo.get_datos() == solucion:\n",
    "            # solucion encontrada\n",
    "            solucionado = True\n",
    "            return nodo\n",
    "        else:\n",
    "            # expandir nodos hijo\n",
    "            dato_nodo = nodo.get_datos()\n",
    "\n",
    "            # operador izquierdo\n",
    "            hijo = [dato_nodo[1], dato_nodo[0], dato_nodo[2], dato_nodo[3]]\n",
    "            hijo_izquierdo = Nodo(hijo)\n",
    "            if not hijo_izquierdo.en_lista(nodos_visitados) and not hijo_izquierdo.en_lista(nodos_frontera):\n",
    "                nodos_frontera.append(hijo_izquierdo)\n",
    "\n",
    "            # operador central\n",
    "\n",
    "            hijo = [dato_nodo[0], dato_nodo[2], dato_nodo[1], dato_nodo[3]]\n",
    "            hijo_central = Nodo(hijo)\n",
    "            if not hijo_central.en_lista(nodos_visitados) and not hijo_central.en_lista(nodos_frontera):\n",
    "                nodos_frontera.append(hijo_central)\n",
    "            # operador derecho\n",
    "\n",
    "            hijo = [dato_nodo[0], dato_nodo[1], dato_nodo[3], dato_nodo[2]]\n",
    "            hijo_derecho = Nodo(hijo)\n",
    "            if not hijo_derecho.en_lista(nodos_visitados) and not hijo_derecho.en_lista(nodos_frontera):\n",
    "                nodos_frontera.append(hijo_derecho)\n",
    "\n",
    "            nodo.set_hijos([hijo_izquierdo, hijo_central, hijo_derecho])\n",
    "\n",
    "estado_inicial = [4, 2, 3, 1]\n",
    "solucion = [1, 2, 3, 4]\n",
    "nodo_solucion = buscar_solucion_DFS(estado_inicial, solucion)\n",
    "# mostrar resultado\n",
    "resultado = []\n",
    "nodo = nodo_solucion\n",
    "while nodo.get_padre() != None:\n",
    "    resultado.append(nodo.get_datos())\n",
    "    nodo = nodo.get_padre()\n",
    "resultado.append(estado_inicial)\n",
    "resultado.reverse()\n",
    "print(resultado)\n"
   ]
  },
  {
   "cell_type": "markdown",
   "metadata": {},
   "source": [
    "The last solution allows us to understand that the implementation of DFS is an optimal solution for this problem, we can say that this is __suboptimal__. Another problem that this algorithm has is the depth, due if the tree is infinitely deep our algorithm is not going to pass to the next branch.\n",
    "\n",
    "If the tree has a depth `p` the time complexity of DFS is $O(b^{p})$\n",
    "\n",
    "Let's recall that the BFS has a time complexity of $b^{d}$ where `d` is the depth of the solution, in most cases, $p>d$, this is an explanation that the complexity of DFS is going to be higher."
   ]
  },
  {
   "cell_type": "markdown",
   "metadata": {},
   "source": [
    "## Uniform Cost Search"
   ]
  },
  {
   "cell_type": "markdown",
   "metadata": {},
   "source": [
    "Remember the problem related with the _Travelling Salesman Problem_, as we saw the application of BFS gave us a solution, but this is not the optimal due this don't have information about the distance. How can I get the best way?"
   ]
  },
  {
   "cell_type": "markdown",
   "metadata": {},
   "source": [
    "Through UCS we can introduce a new variable (cost) that is going allows us to assign a cost to each node, morevoer, we are going to have a new function $g(n)$ as a cost to travel to one point to another, then the cost of way is the sum of all nodes in a path."
   ]
  },
  {
   "cell_type": "markdown",
   "metadata": {},
   "source": [
    "UCS uses a heap with a priority or a LIFO in oder to save the border_nodes. A priority heap is sort according to the cost. "
   ]
  },
  {
   "cell_type": "markdown",
   "metadata": {},
   "source": [
    "```\n",
    "initial_node = initial state\n",
    "border_nodes = Priority heap\n",
    "nodes_visited = list\n",
    "\n",
    "save the initial_node in border_nodes\n",
    "while border_nodes is not empty:\n",
    "    you have to sort the border_nodes according to the cost\n",
    "    actual_node = get the first node from the border_nodes\n",
    "    if actual_node == solution:\n",
    "        exit with solution\n",
    "    \n",
    "    save the actual_node in nodes_visited\n",
    "    for each operator:\n",
    "        child_node = operator(actual_node)\n",
    "        if child_node is not in visited_nodes and not in border_nodes:\n",
    "            if the cost of child_node < node in border_nodes:\n",
    "                interchange child_node in border_nodes\n",
    "            else:\n",
    "                save child_node in border_nodes        \n",
    "```\n",
    "This pseudocode allows us to get the node with the lower cost when we are expanding process"
   ]
  },
  {
   "cell_type": "code",
   "execution_count": 28,
   "metadata": {},
   "outputs": [
    {
     "name": "stdout",
     "output_type": "stream",
     "text": [
      "['Malaga', 'Madrid', 'Salamanca', 'Santiago']\n",
      "Coste: 1106\n"
     ]
    }
   ],
   "source": [
    "# %load carretera_ucs.py\n",
    "# Viaje por carretera con búsqueda de coste uniforme\n",
    "import functools\n",
    "#from models.tree import Nodo\n",
    "\n",
    "def compara(x, y):\n",
    "    return x.get_coste() - y.get_coste()\n",
    "\n",
    "def buscar_solucion_UCS(conexiones, estado_inicial, solucion):\n",
    "    solucionado = False\n",
    "    nodos_visitados = []\n",
    "    nodos_frontera = []\n",
    "    nodo_inicial = Nodo(estado_inicial)\n",
    "    nodo_inicial.set_coste(0)\n",
    "    nodos_frontera.append(nodo_inicial)\n",
    "    while(not solucionado) and len(nodos_frontera) != 0:\n",
    "        # ordenar la lista de nodos frontera\n",
    "        nodos_frontera = sorted(nodos_frontera, key=functools.cmp_to_key(compara))        \n",
    "        nodo = nodos_frontera[0]\n",
    "        # extraer nodo y añadirlo a visitados\n",
    "        nodos_visitados.append(nodos_frontera.pop(0))\n",
    "        if nodo.get_datos() == solucion:\n",
    "            # solución encontrada\n",
    "            solucionado = True\n",
    "            return nodo\n",
    "        else:\n",
    "            # expandir nodos hijo (ciudades con conexión)\n",
    "            dato_nodo = nodo.get_datos()\n",
    "            lista_hijos = []\n",
    "            for un_hijo in conexiones[dato_nodo]:                \n",
    "                hijo = Nodo(un_hijo)\n",
    "                coste = conexiones[dato_nodo][un_hijo]\n",
    "                hijo.set_coste(nodo.get_coste() + coste)\n",
    "                lista_hijos.append(hijo)\n",
    "                if not hijo.en_lista(nodos_visitados) :\n",
    "                    # si está en la lista lo sustituimos con\n",
    "                    # el nuevo valor de coste si es menor\n",
    "                    if hijo.en_lista(nodos_frontera):               \n",
    "                        for n in nodos_frontera:\n",
    "                            if n.igual(hijo) and n.get_coste() > hijo.get_coste():\n",
    "                                nodos_frontera.remove(n)\n",
    "                                nodos_frontera.append(hijo)\n",
    "                    else:\n",
    "                        nodos_frontera.append(hijo)\n",
    "                nodo.set_hijos(lista_hijos)\n",
    "                            \n",
    "conexiones = {\n",
    "    'Malaga': {'Granada':125, 'Madrid':513},\n",
    "    'Sevilla': {'Madrid':514},\n",
    "    'Granada': {'Malaga':125, 'Madrid':423, 'Valencia':491},\n",
    "    'Valencia': {'Granada':491, 'Madrid':356, 'Zaragoza':309, 'Barcelona':346},\n",
    "    'Madrid': {'Salamanca':203, 'Sevilla':514, 'Malaga':513, 'Granada':423, 'Barcelona':603, 'Santander':437, 'Valencia':356,\n",
    "              'Zaragoza':313, 'Santander':437, 'Santiago':599},\n",
    "    'Salamanca': {'Santiago':390, 'Madrid':203},\n",
    "    'Santiago': {'Salamanca':390, 'Madrid':599},\n",
    "    'Santander': {'Madrid':437, 'Zaragoza':394},\n",
    "    'Zaragoza': {'Barcelona':296, 'Valencia':309, 'Madrid':313},\n",
    "    'Barcelona': {'Zaragoza':296, 'Madrid':603, 'Valencia':346}\n",
    "}\n",
    "estado_inicial = 'Malaga'\n",
    "solucion = 'Santiago'\n",
    "nodo_solucion = buscar_solucion_UCS(conexiones, estado_inicial, solucion)\n",
    "\n",
    "#mostrar resultado\n",
    "resultado = []\n",
    "nodo= nodo_solucion\n",
    "while nodo.get_padre() != None:\n",
    "    resultado.append(nodo.get_datos())\n",
    "    nodo = nodo.get_padre()\n",
    "resultado.append(estado_inicial)\n",
    "resultado.reverse()\n",
    "print(resultado)\n",
    "print('Coste: ' + str(nodo_solucion.get_coste()))"
   ]
  }
 ],
 "metadata": {
  "kernelspec": {
   "display_name": "Python 3",
   "language": "python",
   "name": "python3"
  },
  "language_info": {
   "codemirror_mode": {
    "name": "ipython",
    "version": 3
   },
   "file_extension": ".py",
   "mimetype": "text/x-python",
   "name": "python",
   "nbconvert_exporter": "python",
   "pygments_lexer": "ipython3",
   "version": "3.6.6"
  }
 },
 "nbformat": 4,
 "nbformat_minor": 2
}
