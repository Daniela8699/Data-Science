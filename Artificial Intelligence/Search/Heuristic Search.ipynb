{
 "cells": [
  {
   "cell_type": "markdown",
   "metadata": {},
   "source": [
    "__Author: Christian Camilo Urcuqui López__\n",
    "\n",
    "__Date: 2 February 2019__"
   ]
  },
  {
   "cell_type": "markdown",
   "metadata": {},
   "source": [
    "#  Informed (Heuristic) Search\n",
    "\n",
    "In a informed search we know some information about the progress of the search, one example is the Travelling Salesman Problem where we can get the results of different trips and we can compare them in order to improve the method."
   ]
  },
  {
   "cell_type": "markdown",
   "metadata": {},
   "source": [
    "In this case, we are going to have a __heuristic__ function, it is called $ h (n) $ which is responsible to guide the search in order to find a quick solution."
   ]
  },
  {
   "cell_type": "markdown",
   "metadata": {},
   "source": [
    "It is important to know that while the cost function $g(n)$ calculates the path since the root node until the actual node, the heuristic function $h(n)$ depends only on the node that is analyzing."
   ]
  },
  {
   "cell_type": "code",
   "execution_count": 7,
   "metadata": {},
   "outputs": [],
   "source": [
    "# %load models/tree.py\n",
    "class Nodo:\n",
    "    def __init__(self, datos, hijos=None):\n",
    "        self.datos = datos\n",
    "        self.hijos = None\n",
    "        self.padre = None\n",
    "        self.coste = None\n",
    "        self.set_hijos(hijos)\n",
    "\n",
    "   \n",
    "    def compara(x, y):\n",
    "        return x.get_coste() - y.get_coste()\n",
    "\n",
    "    def get_hijos(self):\n",
    "        return self.hijos\n",
    "    \n",
    "    \n",
    "    #Asigna al nodo la lista de hijos que son pasados por parámetro    \n",
    "    def set_hijos(self, hijos):\n",
    "        self.hijos = hijos\n",
    "        if self.hijos != None:\n",
    "            for h in self.hijos:\n",
    "                h.padre = self\n",
    "    \n",
    "    # Retorna el nodo padre\n",
    "                    \n",
    "    def get_padre(self):\n",
    "        return self.padre\n",
    "\n",
    "    \n",
    "    # Asigna al nodo padre de este nodo      \n",
    "    def set_padre(self, padre):\n",
    "        self.padre = padre\n",
    "\n",
    "    \n",
    "    # Asigna el dato almacenado en el nodo      \n",
    "    def set_datos(self, datos):\n",
    "        self.datos = datos\n",
    "\n",
    "    \n",
    "    # Devuelve el dato almacenado en el nodo         \n",
    "    def get_datos(self):\n",
    "        return self.datos\n",
    "\n",
    "    \n",
    "    # Asigna el costo del nodo dentro del árbol      \n",
    "    def set_coste(self, coste):\n",
    "        self.coste = coste\n",
    "\n",
    "    # Retorna el costo       \n",
    "    def get_coste(self):\n",
    "        return self.coste\n",
    "\n",
    "   \n",
    "    # Retorna True si el dato contenido en el nodo es igual al nodo pasado como parámetro      \n",
    "    def igual(self, nodo):\n",
    "        if self.get_datos() == nodo.get_datos():\n",
    "            return True\n",
    "        else:\n",
    "            return False\n",
    "\n",
    "    def en_lista(self, lista_nodos):\n",
    "        en_la_lista = False\n",
    "        for n in lista_nodos:\n",
    "            if self.igual(n):\n",
    "                en_la_lista = True\n",
    "        return en_la_lista\n",
    "\n",
    "    def __str__(self):\n",
    "        return str(self.get_datos())"
   ]
  },
  {
   "cell_type": "markdown",
   "metadata": {},
   "source": [
    "## Lineal puzzle\n",
    "\n",
    "Let's take the lineal puzzle example. We need a criterion which gives us information if a movement allows us to be near or away the solution, this criterion will allow us to compare the father node versus the children nodes. The function $h(n)$ will estimate the distance between whatever node to the objective node.\n",
    "\n",
    "For the linear puzzle $h(n)$ is a function that gives us the number of pieces bad situated, in other words, good pieces situated are reference points to be near the solution. \n",
    "\n",
    "If a child node has more pieces bad situated than its father we can infer that it is not a good way. We can use other alternatives to analyze the progress, for example, the number of movements which separate to the objective node instead of using the pieces bad situated."
   ]
  },
  {
   "cell_type": "code",
   "execution_count": 16,
   "metadata": {},
   "outputs": [
    {
     "name": "stdout",
     "output_type": "stream",
     "text": [
      "[[4, 2, 3, 1], [4, 3, 2, 1], [4, 3, 1, 2], [4, 1, 3, 2], [1, 4, 3, 2], [1, 3, 4, 2], [1, 3, 2, 4], [1, 2, 3, 4]]\n"
     ]
    }
   ],
   "source": [
    "# %load puzlelinealheu.py\n",
    "# Puzle Lineal con herística\n",
    "from models.tree import Nodo\n",
    "\n",
    "def buscar_solucion_heuristica(nodo_inicial, solucion, visitados):\n",
    "    visitados.append(nodo_inicial.get_datos())\n",
    "    if nodo_inicial.get_datos() == solucion:\n",
    "        return nodo_inicial\n",
    "    else:\n",
    "        # expandir nodos sucesores (hijos)\n",
    "        dato_nodo = nodo_inicial.get_datos()\n",
    "        hijo = [dato_nodo[1], dato_nodo[0], dato_nodo[2], dato_nodo[3]]\n",
    "        hijo_izquierdo = Nodo(hijo)\n",
    "        hijo = [dato_nodo[0], dato_nodo[2], dato_nodo[1], dato_nodo[3]]\n",
    "        hijo_central = Nodo(hijo)\n",
    "        hijo = [dato_nodo[0], dato_nodo[1], dato_nodo[3], dato_nodo[2]]\n",
    "        hijo_derecho = Nodo(hijo)\n",
    "        nodo_inicial.set_hijos([hijo_izquierdo, hijo_central, hijo_derecho])\n",
    "        \n",
    "        for nodo_hijo in nodo_inicial.get_hijos():\n",
    "            if not nodo_hijo.get_datos() in visitados and mejora(nodo_inicial, nodo_hijo):\n",
    "                # llamada recursiva \n",
    "                sol = buscar_solucion_heuristica(nodo_hijo, solucion, visitados)\n",
    "                if sol != None:\n",
    "                    return sol\n",
    "        return None\n",
    "\n",
    "def mejora(nodo_padre, nodo_hijo):\n",
    "    calidad_padre = 0\n",
    "    calidad_hijo = 0\n",
    "    dato_padre = nodo_padre.get_datos()\n",
    "    dato_hijo = nodo_hijo.get_datos()\n",
    "    for n in range(1, len(dato_padre)):\n",
    "        if (dato_padre[n] > dato_padre[n-1]):\n",
    "            calidad_padre = calidad_padre + 1\n",
    "        if (dato_hijo[n] > dato_hijo[n-1]):\n",
    "            calidad_hijo = calidad_hijo + 1\n",
    "        \n",
    "        if calidad_hijo >= calidad_padre:\n",
    "            return True\n",
    "        else:\n",
    "            return False\n",
    "\n",
    "estado_inicial = [4, 2, 3, 1]\n",
    "solucion = [1, 2, 3, 4]\n",
    "visitados = []\n",
    "nodo_solucion = None\n",
    "nodo_inicial = Nodo(estado_inicial)\n",
    "nodo = buscar_solucion_heuristica(nodo_inicial, solucion, visitados)\n",
    "\n",
    "# mostrar resultado\n",
    "resultado = []\n",
    "while nodo.get_padre() != None:\n",
    "    resultado.append(nodo.get_datos())\n",
    "    nodo = nodo.get_padre()\n",
    "\n",
    "resultado.append(estado_inicial)\n",
    "resultado.reverse()\n",
    "print(resultado)       \n"
   ]
  }
 ],
 "metadata": {
  "kernelspec": {
   "display_name": "Python 3",
   "language": "python",
   "name": "python3"
  },
  "language_info": {
   "codemirror_mode": {
    "name": "ipython",
    "version": 3
   },
   "file_extension": ".py",
   "mimetype": "text/x-python",
   "name": "python",
   "nbconvert_exporter": "python",
   "pygments_lexer": "ipython3",
   "version": "3.6.6"
  }
 },
 "nbformat": 4,
 "nbformat_minor": 2
}
