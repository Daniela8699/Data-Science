{
 "cells": [
  {
   "cell_type": "markdown",
   "metadata": {},
   "source": [
    "# Probability\n",
    "\n",
    "**Author: Christian Camilo Ucuqui López**\n",
    "\n",
    "**Date: 27 August 2019**"
   ]
  },
  {
   "cell_type": "markdown",
   "metadata": {},
   "source": [
    "Probability is a way to quantify the uncertainty associated with _events_ chosen from a some _universe_ of events. The **universe** consists of all possible outcomes, and a subset from this is an **event**.\n",
    "\n",
    "The expressions are writing like this $P(E)$ to mean \"the probability of the event E\""
   ]
  },
  {
   "cell_type": "markdown",
   "metadata": {},
   "source": [
    "It is important to mention as probability theory is used to build models and to evaluate them. "
   ]
  },
  {
   "cell_type": "markdown",
   "metadata": {},
   "source": [
    "## Dependence and Independence\n",
    "\n",
    "Two events `E` and `F` are dependent if knowing something about whether `E` happens gives us information about whether `F` happens (and vice versa). Otherwhise they are `independent`.\n"
   ]
  },
  {
   "cell_type": "markdown",
   "metadata": {},
   "source": [
    "### Independent\n",
    "\n",
    "We say two events `E` and `F` are `indepedent` if the probability that they both happen is the `product` of the probabilities that each one happens.\n",
    "\n",
    "$P(E,F) = P(E)P(F)$"
   ]
  },
  {
   "cell_type": "markdown",
   "metadata": {},
   "source": [
    "*Conditional probability*\n",
    "\n",
    "When two events `E` and `F` are independent, then we have the previous definition $P(E,F) = P(E)P(F)$, but, this is not always true due to supose that the probability of `F` is not zero, then we define the probability of `E` \"conditional on `F`\" as:\n",
    "\n",
    "$P(E|F) = P(E,F) / P(F)$\n",
    "\n",
    "When `E` and `F` are independent, it gives us:\n",
    "\n",
    "$P(E|F)=P(E)$"
   ]
  },
  {
   "cell_type": "markdown",
   "metadata": {},
   "source": [
    "Example:\n",
    "\n",
    "1. Each child is equally likely to be a boy or a girl\n",
    "2. The gender of the second child is independent of the gender of the first child then the event \"no girls\" has probability 1/4, the event \"one girl, one boy\" has probability 1/2, and the vent \"two girls\" has probability 1/4.\n",
    "\n",
    "The question is what is the probability of \"both children are girls\" _(B) conditional on the event \"the older child is a girl\" (G)_\n",
    "\n",
    "\n",
    "$P(B|G) = P(B,G)/P(G)\n"
   ]
  },
  {
   "cell_type": "code",
   "execution_count": 2,
   "metadata": {},
   "outputs": [
    {
     "data": {
      "text/plain": [
       "0.125"
      ]
     },
     "execution_count": 2,
     "metadata": {},
     "output_type": "execute_result"
    }
   ],
   "source": [
    "1/4 * 1/2"
   ]
  },
  {
   "cell_type": "markdown",
   "metadata": {},
   "source": [
    "## References\n",
    "\n",
    "+ Grus, J. (2019). Data science from scratch: first principles with python. O'Reilly Media."
   ]
  }
 ],
 "metadata": {
  "kernelspec": {
   "display_name": "Python 3",
   "language": "python",
   "name": "python3"
  },
  "language_info": {
   "codemirror_mode": {
    "name": "ipython",
    "version": 3
   },
   "file_extension": ".py",
   "mimetype": "text/x-python",
   "name": "python",
   "nbconvert_exporter": "python",
   "pygments_lexer": "ipython3",
   "version": "3.6.8"
  }
 },
 "nbformat": 4,
 "nbformat_minor": 2
}
