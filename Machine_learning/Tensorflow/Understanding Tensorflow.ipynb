{
 "cells": [
  {
   "cell_type": "markdown",
   "metadata": {},
   "source": [
    "\n",
    "![image](../../Utilities/tensorflow-logo.png)\n",
    "\n",
    "__Author: Christian Urcuqui__\n",
    "\n",
    "__Date: 5 September 2018__\n",
    "\n",
    "__Last updated: 5 September 2018__\n",
    "\n",
    "# Understanding Tensorflow\n",
    "\n",
    "TensorFlow is an open source machine learning library for research and production, it is recognized due its implementations in _deep learning_. This project was proposed for high numerical computation. It has a flexible architecture for the deployment across a variety of platforms(i.e. CPUs, GPUs, TPUs), and from desktops to cluster of servers to mobile \n",
    "\n",
    "This project was developed by the Google Brain team and it was realized at the year 2015.\n",
    "\n",
    "https://www.tensorflow.org"
   ]
  },
  {
   "cell_type": "code",
   "execution_count": 19,
   "metadata": {},
   "outputs": [
    {
     "data": {
      "text/html": [
       "\n",
       "<iframe width=\"626\" height=\"352\" src=\"https://www.youtube.com/embed/mWl45NkFBOc\" frameborder=\"0\" allow=\"autoplay; encrypted-media\" allowfullscreen></iframe>"
      ],
      "text/plain": [
       "<IPython.core.display.HTML object>"
      ]
     },
     "metadata": {},
     "output_type": "display_data"
    }
   ],
   "source": [
    "%%HTML\n",
    "\n",
    "<iframe width=\"626\" height=\"352\" src=\"https://www.youtube.com/embed/mWl45NkFBOc\" frameborder=\"0\" allow=\"autoplay; encrypted-media\" allowfullscreen></iframe>"
   ]
  },
  {
   "cell_type": "markdown",
   "metadata": {},
   "source": [
    "This notebook will review Tensorflow in order to understand its main components and how it works, so it is divided in the next sections:\n",
    "\n",
    "+ [Computation Graphs](#Computation-Graphs)\n",
    "+ [Graphs, Sessions, and Fetches](#Graphs,-Sessions,-and-Fetches)\n",
    "+ [References](#References)\n",
    "\n"
   ]
  },
  {
   "cell_type": "markdown",
   "metadata": {},
   "source": [
    "## Computation Graphs \n",
    "\n",
    "TensorFlow integrates the concept of computing operations that interact with one another through the application of dataflow graphs.\n",
    "\n",
    "The graph concept is a simple abstraction of nodes interconnected by edges, this concept is applicated in different contexts, for example network communications, neuronal networks and other kind of situations. \n",
    "\n",
    "In a _dataflow graph_, the edges allow data to \"flow\" from one node to another in a directed manner. On the other hand, each of the graph's nodes represents an operation, possibly applied to some input, and can generate an output that is transmitted on to other nodes. \n",
    "\n",
    "Operations in the graph include all kinds of functions, from simple arithmetic ones such as multiplication to more complex ones.\n",
    "\n",
    "Each graph has its own set of node dependencies and these relationships are classified as _direct_ and _indirect_. Being able to locate dependencies between units of our model allows us to both distribute computations across available resources and avoid performing redundant processes. \n",
    "\n",
    "\"A Graph contains a set of tf.Operation objects, which represent units of computation; and tf.Tensor objects, which represent the units of data that flow between operations\"[3].\n",
    "\n",
    "A Tensor is a N-dimensional vector, we can call (1000x3x3) as the shape or dimension of the resulting Tensor. Tensors can either be a constant or a variable\n",
    "\n",
    "__Nodes are operations, edges are tensor objects__\n",
    "\n",
    "\n",
    "<img src=\"../../Utilities/tensor.png\" width=\"500\">\n",
    "\n",
    "TensorFlow has these components, but first we have a skeleton graph. At this point no actual data flows in it and no computations take place. When we run the session, data enters the graph and computations occur."
   ]
  },
  {
   "cell_type": "markdown",
   "metadata": {},
   "source": [
    "## Graphs, Sessions, and Fetches\n",
    "\n",
    "A TensorFlow process involces two main phases:\n",
    "\n",
    "+ Make a graph \n",
    "+ Execute the graph\n",
    "\n",
    "\n"
   ]
  },
  {
   "cell_type": "code",
   "execution_count": 2,
   "metadata": {},
   "outputs": [],
   "source": [
    "# let's import the TensorFlow package, we are going to assign the reconized alias \"tf\"\n",
    "import tensorflow as tf"
   ]
  },
  {
   "cell_type": "markdown",
   "metadata": {},
   "source": [
    "Through the import method of TensorFlow we implicitly declared a default graph. In the next example we will create six nodes and the content of these variables should be regarded as the output of the operations, and not the opeartions themselves. \n",
    "\n",
    "Three of the nodes are going to be constants. "
   ]
  },
  {
   "cell_type": "code",
   "execution_count": 3,
   "metadata": {},
   "outputs": [],
   "source": [
    "a =  tf.constant(5)\n",
    "b =  tf.constant(2)\n",
    "c =  tf.constant(3)"
   ]
  },
  {
   "cell_type": "markdown",
   "metadata": {},
   "source": [
    "Each of the last three nodes gets two existing variables as inputs, and performs simple arithmetic operations on them"
   ]
  },
  {
   "cell_type": "code",
   "execution_count": 4,
   "metadata": {},
   "outputs": [],
   "source": [
    "d =  tf.multiply(a,b)\n",
    "e =  tf.add(c, b)\n",
    "f =  tf.subtract(d,e)"
   ]
  },
  {
   "cell_type": "markdown",
   "metadata": {},
   "source": [
    "Through the last example, we defined our first graph, a sequence of three constants that are the input of three arithmetic operations. "
   ]
  },
  {
   "cell_type": "markdown",
   "metadata": {},
   "source": [
    "We can see the graph through the TensorBoard, in order to d.call this program we must make the logs with the next code, let's see that this new file is in the main package of this .ipynb. Once we have this file we need to use it through the next command \n",
    "```\n",
    "tensorboard --logdir\n",
    "```"
   ]
  },
  {
   "cell_type": "code",
   "execution_count": 17,
   "metadata": {},
   "outputs": [],
   "source": [
    "writer = tf.summary.FileWriter('.')\n",
    "writer.add_graph(tf.get_default_graph())"
   ]
  },
  {
   "cell_type": "markdown",
   "metadata": {},
   "source": [
    "This is the graph result of the six nodes declared\n",
    "\n",
    "<img src=\"../../Utilities/tensorboard.png\" width=\"500\">\n"
   ]
  },
  {
   "cell_type": "markdown",
   "metadata": {},
   "source": [
    "Once, we have finished our graph the next step is to run the computations that it represents, to do this we must create and run a session. "
   ]
  },
  {
   "cell_type": "code",
   "execution_count": 18,
   "metadata": {},
   "outputs": [
    {
     "name": "stdout",
     "output_type": "stream",
     "text": [
      "outs =5\n"
     ]
    }
   ],
   "source": [
    "with tf.Session() as sess:\n",
    "    outs = sess.run(f)\n",
    "    sess.close()\n",
    "print(\"outs ={}\".format(outs))"
   ]
  },
  {
   "cell_type": "markdown",
   "metadata": {},
   "source": [
    "As we saw in the last code, through the Session object, specifically, it's _run()_ method allows us to compute all the nodes in the graph, all the computing nodes were executed according to the set of dependencies. Once, the process is finished we need to close the session."
   ]
  },
  {
   "cell_type": "code",
   "execution_count": 10,
   "metadata": {},
   "outputs": [],
   "source": [
    "# let's make another example of graph flow computation \n",
    "a = tf.constant(1)\n",
    "b = tf.constant(2)\n",
    "\n",
    "d = tf.add(a,b)\n",
    "c = tf.multiply(a,b)\n",
    "\n",
    "f = tf.add(c,d)\n",
    "e = tf.subtract(d,c)\n",
    "\n",
    "g = tf.div(f,e)"
   ]
  },
  {
   "cell_type": "code",
   "execution_count": 25,
   "metadata": {},
   "outputs": [],
   "source": [
    "writer = tf.summary.FileWriter('.')\n",
    "writer.add_graph(tf.get_default_graph())"
   ]
  },
  {
   "cell_type": "markdown",
   "metadata": {},
   "source": [
    "We can create additional graphs and control their association with some given operations _tf.graph()_ creates a new graph, represented as a TensorFlow object. We are going to see that we can have two graphs at the same time in memory."
   ]
  },
  {
   "cell_type": "code",
   "execution_count": 1,
   "metadata": {},
   "outputs": [
    {
     "name": "stdout",
     "output_type": "stream",
     "text": [
      "<tensorflow.python.framework.ops.Graph object at 0x0000022DFEFA4748>\n"
     ]
    }
   ],
   "source": [
    "import tensorflow as tf\n",
    "print(tf.get_default_graph())"
   ]
  },
  {
   "cell_type": "code",
   "execution_count": 3,
   "metadata": {},
   "outputs": [
    {
     "name": "stdout",
     "output_type": "stream",
     "text": [
      "<tensorflow.python.framework.ops.Graph object at 0x0000022D865B2CF8>\n"
     ]
    }
   ],
   "source": [
    "g =  tf.Graph()\n",
    "print(g)"
   ]
  },
  {
   "cell_type": "markdown",
   "metadata": {},
   "source": [
    "Look that we have two graphs with different identification, also the graph _g_ is not associated to the default graph. Let's see the associations."
   ]
  },
  {
   "cell_type": "code",
   "execution_count": 5,
   "metadata": {},
   "outputs": [
    {
     "name": "stdout",
     "output_type": "stream",
     "text": [
      "False\n",
      "True\n"
     ]
    }
   ],
   "source": [
    "a =  tf.constant(5)\n",
    "\n",
    "print(a.graph is g)\n",
    "print(a.graph is tf.get_default_graph())\n"
   ]
  },
  {
   "cell_type": "markdown",
   "metadata": {},
   "source": [
    "_Fetches_ is the argument that is corresponding to the elements of the graph we wish to compute. Then, the idea is to use them through the _session.run()_ method."
   ]
  },
  {
   "cell_type": "code",
   "execution_count": 12,
   "metadata": {},
   "outputs": [
    {
     "name": "stdout",
     "output_type": "stream",
     "text": [
      "outs=[1, 2, 2, 3, 1, 5]\n",
      "<class 'numpy.int32'>\n"
     ]
    }
   ],
   "source": [
    "with tf.Session() as session:\n",
    "    fetches = [a,b,c,d,e,f]\n",
    "    outs = session.run(fetches)\n",
    "print(\"outs={}\".format(outs))\n",
    "print(type(outs[0]))"
   ]
  },
  {
   "cell_type": "markdown",
   "metadata": {},
   "source": [
    "Look that each fetch element is a representation of a NumPy object, a material that I previously presented in this repository. If you want to know more information about this package for scientific computing with Python look this URL \n",
    "```\n",
    "https://github.com/urcuqui/Data-Science/blob/master/Exploratory%20Data%20Analysis/Numpy.ipynb\n",
    "```"
   ]
  },
  {
   "cell_type": "code",
   "execution_count": 13,
   "metadata": {},
   "outputs": [
    {
     "name": "stdout",
     "output_type": "stream",
     "text": [
      "Tensor(\"Const_8:0\", shape=(), dtype=float32)\n"
     ]
    }
   ],
   "source": [
    "c = tf.constant(4.0)\n",
    "print(c)"
   ]
  },
  {
   "cell_type": "markdown",
   "metadata": {},
   "source": [
    "As we saw, when we used _tf.constant_ we made a node with the corresponding passed value. Look that the object's type is a _Tensor_.\n",
    "\n",
    "Another important feature is the Tensor's attributes, look that they are necessary, but, in some applications (for example, image processing) we must pay attention to these variables. "
   ]
  },
  {
   "cell_type": "markdown",
   "metadata": {},
   "source": []
  },
  {
   "cell_type": "markdown",
   "metadata": {},
   "source": [
    "# References\n",
    "\n",
    "+ Hope, T., Resheff, Y. S., & Lieder, I. (2017). Learning TensorFlow: A Guide to Building Deep Learning Systems. \" O'Reilly Media, Inc.\".\n",
    "\n",
    "+ https://towardsdatascience.com/a-beginner-introduction-to-tensorflow-part-1-6d139e038278\n",
    "\n",
    "+ https://www.tensorflow.org/api_docs/python/tf/Graph\n"
   ]
  }
 ],
 "metadata": {
  "kernelspec": {
   "display_name": "Python 3",
   "language": "python",
   "name": "python3"
  },
  "language_info": {
   "codemirror_mode": {
    "name": "ipython",
    "version": 3
   },
   "file_extension": ".py",
   "mimetype": "text/x-python",
   "name": "python",
   "nbconvert_exporter": "python",
   "pygments_lexer": "ipython3",
   "version": "3.6.6"
  }
 },
 "nbformat": 4,
 "nbformat_minor": 2
}
