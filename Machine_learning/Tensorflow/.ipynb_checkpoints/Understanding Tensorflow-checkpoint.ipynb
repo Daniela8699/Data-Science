{
 "cells": [
  {
   "cell_type": "markdown",
   "metadata": {},
   "source": [
    "\n",
    "![image](../../Utilities/tensorflow-logo.png)\n",
    "\n",
    "__Author: Christian Urcuqui__\n",
    "\n",
    "__Date: 5 September 2018__\n",
    "\n",
    "__Last updated: 5 September 2018__\n",
    "\n",
    "\n",
    "This notebook is oriented to understand TensorFlow, some of the examples and explanations were taken from the references (books and websites). \n",
    "\n",
    "\n",
    "# Understanding Tensorflow\n",
    "\n",
    "TensorFlow is an open source machine learning library for research and production, it is recognized due its implementations in _deep learning_. This project was proposed for high numerical computation. It has a flexible architecture for the deployment across a variety of platforms(i.e. CPUs, GPUs, TPUs), and from desktops to cluster of servers to mobile \n",
    "\n",
    "This project was developed by the Google Brain team and it was realized at the year 2015.\n",
    "\n",
    "https://www.tensorflow.org"
   ]
  },
  {
   "cell_type": "code",
   "execution_count": 1,
   "metadata": {},
   "outputs": [
    {
     "data": {
      "text/html": [
       "\n",
       "<iframe width=\"626\" height=\"352\" src=\"https://www.youtube.com/embed/mWl45NkFBOc\" frameborder=\"0\" allow=\"autoplay; encrypted-media\" allowfullscreen></iframe>"
      ],
      "text/plain": [
       "<IPython.core.display.HTML object>"
      ]
     },
     "metadata": {},
     "output_type": "display_data"
    }
   ],
   "source": [
    "%%HTML\n",
    "\n",
    "<iframe width=\"626\" height=\"352\" src=\"https://www.youtube.com/embed/mWl45NkFBOc\" frameborder=\"0\" allow=\"autoplay; encrypted-media\" allowfullscreen></iframe>"
   ]
  },
  {
   "cell_type": "markdown",
   "metadata": {},
   "source": [
    "This notebook will review Tensorflow in order to understand its main components and how it works, so it is divided in the next sections:\n",
    "\n",
    "+ [Computation Graphs](#Computation-Graphs)\n",
    "+ [Graphs, Sessions, and Fetches](#Graphs,-Sessions,-and-Fetches)\n",
    "+ [Matrix multiplication](#Matrix-multiplication)\n",
    "+ [Names](#Names)\n",
    "+ [References](#References)\n",
    "\n"
   ]
  },
  {
   "cell_type": "markdown",
   "metadata": {},
   "source": [
    "## Computation Graphs \n",
    "\n",
    "TensorFlow integrates the concept of computing operations that interact with one another through the application of dataflow graphs.\n",
    "\n",
    "The graph concept is a simple abstraction of nodes interconnected by edges, this concept is applicated in different contexts, for example network communications, neuronal networks and other kind of situations. \n",
    "\n",
    "In a _dataflow graph_, the edges allow data to \"flow\" from one node to another in a directed manner. On the other hand, each of the graph's nodes represents an operation, possibly applied to some input, and can generate an output that is transmitted on to other nodes. \n",
    "\n",
    "Operations in the graph include all kinds of functions, from simple arithmetic ones such as multiplication to more complex ones.\n",
    "\n",
    "Each graph has its own set of node dependencies and these relationships are classified as _direct_ and _indirect_. Being able to locate dependencies between units of our model allows us to both distribute computations across available resources and avoid performing redundant processes. \n",
    "\n",
    "\"A Graph contains a set of tf.Operation objects, which represent units of computation; and tf.Tensor objects, which represent the units of data that flow between operations\"[3].\n",
    "\n",
    "A Tensor is a N-dimensional vector, we can call (1000x3x3) as the shape or dimension of the resulting Tensor. Tensors can either be a constant or a variable\n",
    "\n",
    "__Nodes are operations, edges are tensor objects__\n",
    "\n",
    "\n",
    "<img src=\"../../Utilities/tensor.png\" width=\"500\">\n",
    "\n",
    "TensorFlow has these components, but first we have a skeleton graph. At this point no actual data flows in it and no computations take place. When we run the session, data enters the graph and computations occur."
   ]
  },
  {
   "cell_type": "markdown",
   "metadata": {},
   "source": [
    "## Graphs, Sessions, and Fetches\n",
    "\n",
    "A TensorFlow process involves two main phases:\n",
    "\n",
    "+ Make a graph \n",
    "+ Execute the graph\n",
    "\n",
    "\n"
   ]
  },
  {
   "cell_type": "code",
   "execution_count": 2,
   "metadata": {},
   "outputs": [],
   "source": [
    "# let's import the TensorFlow package, we are going to assign the reconized alias \"tf\"\n",
    "import tensorflow as tf"
   ]
  },
  {
   "cell_type": "markdown",
   "metadata": {},
   "source": [
    "Through the import method of TensorFlow we implicitly declared a default graph. In the next example we will create six nodes and the content of these variables should be regarded as the output of the operations, and not the opeartions themselves. \n",
    "\n",
    "Three of the nodes are going to be constants. "
   ]
  },
  {
   "cell_type": "code",
   "execution_count": 3,
   "metadata": {},
   "outputs": [],
   "source": [
    "a =  tf.constant(5)\n",
    "b =  tf.constant(2)\n",
    "c =  tf.constant(3)"
   ]
  },
  {
   "cell_type": "markdown",
   "metadata": {},
   "source": [
    "Each of the last three nodes gets two existing variables as inputs, and performs simple arithmetic operations on them"
   ]
  },
  {
   "cell_type": "code",
   "execution_count": 4,
   "metadata": {},
   "outputs": [],
   "source": [
    "d =  tf.multiply(a,b)\n",
    "e =  tf.add(c, b)\n",
    "f =  tf.subtract(d,e)"
   ]
  },
  {
   "cell_type": "markdown",
   "metadata": {},
   "source": [
    "Through the last example, we defined our first graph, a sequence of three constants that are the input of three arithmetic operations. "
   ]
  },
  {
   "cell_type": "markdown",
   "metadata": {},
   "source": [
    "We can see the graph through the TensorBoard, in order to d.call this program we must make the logs with the next code, let's see that this new file is in the main package of this .ipynb. Once we have this file we need to use it through the next command \n",
    "```\n",
    "tensorboard --logdir\n",
    "```"
   ]
  },
  {
   "cell_type": "code",
   "execution_count": 17,
   "metadata": {},
   "outputs": [],
   "source": [
    "writer = tf.summary.FileWriter('.')\n",
    "writer.add_graph(tf.get_default_graph())"
   ]
  },
  {
   "cell_type": "markdown",
   "metadata": {},
   "source": [
    "This is the graph result of the six nodes declared\n",
    "\n",
    "<img src=\"../../Utilities/tensorboard.png\" width=\"500\">\n"
   ]
  },
  {
   "cell_type": "markdown",
   "metadata": {},
   "source": [
    "Once, we have finished our graph the next step is to run the computations that it represents, to do this we must create and run a session. "
   ]
  },
  {
   "cell_type": "code",
   "execution_count": 18,
   "metadata": {},
   "outputs": [
    {
     "name": "stdout",
     "output_type": "stream",
     "text": [
      "outs =5\n"
     ]
    }
   ],
   "source": [
    "with tf.Session() as sess:\n",
    "    outs = sess.run(f)\n",
    "    sess.close()\n",
    "print(\"outs ={}\".format(outs))"
   ]
  },
  {
   "cell_type": "markdown",
   "metadata": {},
   "source": [
    "As we saw in the last code, through the Session object, specifically, it's _run()_ method allows us to compute all the nodes in the graph, all the computing nodes were executed according to the set of dependencies. Once, the process is finished we need to close the session."
   ]
  },
  {
   "cell_type": "code",
   "execution_count": 3,
   "metadata": {},
   "outputs": [],
   "source": [
    "# let's make another example of graph flow computation \n",
    "a = tf.constant(1)\n",
    "b = tf.constant(2)\n",
    "\n",
    "d = tf.add(a,b)\n",
    "c = tf.multiply(a,b)\n",
    "\n",
    "f = tf.add(c,d)\n",
    "e = tf.subtract(d,c)\n",
    "\n",
    "g = tf.div(f,e)"
   ]
  },
  {
   "cell_type": "code",
   "execution_count": 4,
   "metadata": {},
   "outputs": [],
   "source": [
    "writer = tf.summary.FileWriter('.')\n",
    "writer.add_graph(tf.get_default_graph())"
   ]
  },
  {
   "cell_type": "markdown",
   "metadata": {},
   "source": [
    "We can create additional graphs and control their association with some given operations _tf.graph()_ creates a new graph, represented as a TensorFlow object. We are going to see that we can have two graphs at the same time in memory."
   ]
  },
  {
   "cell_type": "code",
   "execution_count": 5,
   "metadata": {},
   "outputs": [
    {
     "name": "stdout",
     "output_type": "stream",
     "text": [
      "<tensorflow.python.framework.ops.Graph object at 0x0000018BA89C0400>\n"
     ]
    }
   ],
   "source": [
    "import tensorflow as tf\n",
    "print(tf.get_default_graph())"
   ]
  },
  {
   "cell_type": "code",
   "execution_count": 6,
   "metadata": {},
   "outputs": [
    {
     "name": "stdout",
     "output_type": "stream",
     "text": [
      "<tensorflow.python.framework.ops.Graph object at 0x0000018BA89B2EB8>\n"
     ]
    }
   ],
   "source": [
    "g =  tf.Graph()\n",
    "print(g)"
   ]
  },
  {
   "cell_type": "markdown",
   "metadata": {},
   "source": [
    "Look that we have two graphs with different identification, also the graph _g_ is not associated to the default graph. Let's see the associations."
   ]
  },
  {
   "cell_type": "code",
   "execution_count": 5,
   "metadata": {},
   "outputs": [
    {
     "name": "stdout",
     "output_type": "stream",
     "text": [
      "False\n",
      "True\n"
     ]
    }
   ],
   "source": [
    "a =  tf.constant(5)\n",
    "\n",
    "print(a.graph is g)\n",
    "print(a.graph is tf.get_default_graph())\n"
   ]
  },
  {
   "cell_type": "markdown",
   "metadata": {},
   "source": [
    "_Fetches_ is the argument that is corresponding to the elements of the graph we wish to compute. Then, the idea is to use them through the _session.run()_ method."
   ]
  },
  {
   "cell_type": "code",
   "execution_count": 12,
   "metadata": {},
   "outputs": [
    {
     "name": "stdout",
     "output_type": "stream",
     "text": [
      "outs=[1, 2, 2, 3, 1, 5]\n",
      "<class 'numpy.int32'>\n"
     ]
    }
   ],
   "source": [
    "with tf.Session() as session:\n",
    "    fetches = [a,b,c,d,e,f]\n",
    "    outs = session.run(fetches)\n",
    "print(\"outs={}\".format(outs))\n",
    "print(type(outs[0]))"
   ]
  },
  {
   "cell_type": "markdown",
   "metadata": {},
   "source": [
    "Look that each fetch element is a representation of a NumPy object, a resource that I previously presented in this repository. If you want to know more information about this package for scientific computing with Python look this URL \n",
    "```\n",
    "https://github.com/urcuqui/Data-Science/blob/master/Exploratory%20Data%20Analysis/Numpy.ipynb\n",
    "```\n",
    "[Numpy](../../Exploratory%20Data%20Analysis/Numpy.ipynb)"
   ]
  },
  {
   "cell_type": "code",
   "execution_count": 13,
   "metadata": {},
   "outputs": [
    {
     "name": "stdout",
     "output_type": "stream",
     "text": [
      "Tensor(\"Const_8:0\", shape=(), dtype=float32)\n"
     ]
    }
   ],
   "source": [
    "c = tf.constant(4.0)\n",
    "print(c)"
   ]
  },
  {
   "cell_type": "markdown",
   "metadata": {},
   "source": [
    "As we saw, when we used _tf.constant_ we made a node with the corresponding passed value. Look that the object's type is a _Tensor_.\n",
    "\n",
    "Another important feature is the Tensor's attributes, look that they are necessary, but, in some applications (for example, image processing) we must pay attention to these variables. "
   ]
  },
  {
   "cell_type": "markdown",
   "metadata": {},
   "source": [
    "### Casting\n",
    "\n",
    "It is an important to make sure our data types match throughout the graph, if we want to change the data type setting of a Tensor object, we can use the tf.cast() function, passing the relevtant Tensor and the new data type of interest as the firtst and second arguements."
   ]
  },
  {
   "cell_type": "code",
   "execution_count": 2,
   "metadata": {},
   "outputs": [
    {
     "name": "stdout",
     "output_type": "stream",
     "text": [
      "<dtype: 'float32'>\n"
     ]
    }
   ],
   "source": [
    "x = tf.constant([1,2,3], name=\"x\", dtype=tf.float32)\n",
    "print(x.dtype)"
   ]
  },
  {
   "cell_type": "code",
   "execution_count": 3,
   "metadata": {},
   "outputs": [
    {
     "name": "stdout",
     "output_type": "stream",
     "text": [
      "<dtype: 'int64'>\n"
     ]
    }
   ],
   "source": [
    "x = tf.cast(x, tf.int64)\n",
    "print(x.dtype)"
   ]
  },
  {
   "cell_type": "markdown",
   "metadata": {},
   "source": [
    "<img src=\"https://cdn-images-1.medium.com/max/1600/1*WBopnJ1NgGbsatnFuUrNow.png\" width=\"450px\"/>"
   ]
  },
  {
   "cell_type": "markdown",
   "metadata": {},
   "source": [
    "For the next steps in TensorFlow we need to use random-number generators, which can be generated by a _normal distribution_ through the `tf.random_normal()`, passing the shape, mean, and standard deviation as the first, second, and third arguments, respectively. Another two examples for useful random initializers are the _truncated normal_ where the values below and above two standard deviations from the main do not take, and the _uniform_ that samples values uniformly within some interval [a,b)\n",
    "\n",
    "\n",
    "\n",
    "<img src=\"../../Utilities/distribution.png\" width=\"500\">\n",
    "\n",
    "http://blog.cloudera.com/blog/2015/12/common-probability-distributions-the-data-scientists-crib-sheet/"
   ]
  },
  {
   "cell_type": "markdown",
   "metadata": {},
   "source": [
    "A feature to use when we want to explore the data content of an object is `tf.InteractiveSession()`, through it and the `.eval()` method, we can get a full look at the values without the need to constantly refer to the session object.\n",
    "\n",
    "`tf.InteractiveSession()` allows us to replace the usual `tf.Session()`, so we dond't need a variable holding the session for running ops.\n"
   ]
  },
  {
   "cell_type": "code",
   "execution_count": 2,
   "metadata": {},
   "outputs": [
    {
     "name": "stdout",
     "output_type": "stream",
     "text": [
      "The content of 'c':\n",
      " [0. 1. 2. 3. 4.]\n",
      "\n"
     ]
    }
   ],
   "source": [
    "# tf.linscape allows us to make a ndarray of numbers n evenly spaced from a to b\n",
    "sess =  tf.InteractiveSession()\n",
    "c = tf.linspace(0.0, 4.0, 5)\n",
    "print(\"The content of 'c':\\n {}\\n\".format(c.eval()))\n",
    "sess.close()"
   ]
  },
  {
   "cell_type": "markdown",
   "metadata": {},
   "source": [
    "### Matrix multiplication\n",
    "\n",
    "This is an useful operation performs in TensorFlow via the `tf.matmul(A,B)` function for two Tensor objects A and B. It is important to anote that both Tensors must have the same number of dimensions and that they are aligned correctly with respecto to the intended multiplication. \n",
    "\n",
    "Let's do the next product:\n",
    "\n",
    "$Ax=b$"
   ]
  },
  {
   "cell_type": "code",
   "execution_count": 8,
   "metadata": {},
   "outputs": [
    {
     "name": "stdout",
     "output_type": "stream",
     "text": [
      "(2, 3)\n",
      "(3,)\n"
     ]
    }
   ],
   "source": [
    "A = tf.constant([ [1,2,3], [4,5,6]])\n",
    "print(A.get_shape())\n",
    "\n",
    "x =  tf.constant([1,0,1])\n",
    "\n",
    "print(x.get_shape())\n"
   ]
  },
  {
   "cell_type": "markdown",
   "metadata": {},
   "source": [
    "If we want to multiply them, we need to add a dimension to _x_, transforming it from a 1D vector to a 2D single-column matrix. \n",
    "\n",
    "We can add another dimension through the Tensor's method ```tf.expand_dims()```, together with the position of the added as the second arguement. "
   ]
  },
  {
   "cell_type": "code",
   "execution_count": 9,
   "metadata": {},
   "outputs": [
    {
     "name": "stdout",
     "output_type": "stream",
     "text": [
      "(3, 1)\n",
      "matmul result:\n",
      " [[ 4]\n",
      " [10]]\n"
     ]
    }
   ],
   "source": [
    "x = tf.expand_dims(x,1)\n",
    "print(x.get_shape())\n",
    "\n",
    "b = tf.matmul(A, x)\n",
    "\n",
    "sess =  tf.InteractiveSession()\n",
    "\n",
    "print(\"matmul result:\\n {}\".format(b.eval()))\n",
    "sess.close()"
   ]
  },
  {
   "cell_type": "code",
   "execution_count": 23,
   "metadata": {},
   "outputs": [
    {
     "name": "stdout",
     "output_type": "stream",
     "text": [
      "(2, 1)\n"
     ]
    },
    {
     "data": {
      "text/plain": [
       "<tf.Tensor 'transpose_1:0' shape=(1, 2) dtype=int32>"
      ]
     },
     "execution_count": 23,
     "metadata": {},
     "output_type": "execute_result"
    }
   ],
   "source": [
    "# if we want to flip an array, we do it with the next function\n",
    "print(b.get_shape())\n",
    "tf.transpose(b)"
   ]
  },
  {
   "cell_type": "markdown",
   "metadata": {},
   "source": [
    "## Names\n",
    "\n",
    "\n",
    "Each Tensor object has an identifiying name, this identification is a string. As with _dtype_, we can use the .name attribute to see the name of the object. "
   ]
  },
  {
   "cell_type": "code",
   "execution_count": 3,
   "metadata": {},
   "outputs": [
    {
     "name": "stdout",
     "output_type": "stream",
     "text": [
      "c:0\n",
      "c_1:0\n"
     ]
    }
   ],
   "source": [
    "with tf.Graph().as_default():\n",
    "    c1 = tf.constant(4, dtype=tf.float64,name='c')\n",
    "    c2 = tf.constant(4, dtype=tf.int32,name='c')\n",
    "    \n",
    "print(c1.name)\n",
    "print(c2.name)"
   ]
  },
  {
   "cell_type": "markdown",
   "metadata": {},
   "source": [
    "Sometimes when dealing with a large, complicated graph, we would like to make some node grouping to make it easier to follow and manage. We do so by using `tf.name_scoe(\"prefix\")` "
   ]
  },
  {
   "cell_type": "code",
   "execution_count": 5,
   "metadata": {},
   "outputs": [
    {
     "name": "stdout",
     "output_type": "stream",
     "text": [
      "c:0\n",
      "prefix_name/c:0\n",
      "prefix_name/c_1:0\n"
     ]
    }
   ],
   "source": [
    "with tf.Graph().as_default():\n",
    "    c1 = tf.constant(4, dtype=tf.float64, name='c')\n",
    "    with tf.name_scope(\"prefix_name\"):\n",
    "        c2 = tf.constant(4,dtype=tf.int32,name='c')\n",
    "        c3 = tf.constant(4,dtype=tf.float64,name='c')\n",
    "        \n",
    "print(c1.name)\n",
    "print(c2.name)\n",
    "print(c3.name)"
   ]
  },
  {
   "cell_type": "markdown",
   "metadata": {},
   "source": [
    "Prefixes are especially useful when we would like to divide a graph into subgraphs\n",
    "with some semantic meaning."
   ]
  },
  {
   "cell_type": "markdown",
   "metadata": {},
   "source": [
    "## Variables, Placeholders, and Simple Optimization"
   ]
  },
  {
   "cell_type": "markdown",
   "metadata": {},
   "source": [
    "## Variables\n",
    "\n",
    "The optimization process tunes the parameters of some given model. For that porporse, TensorFlow uses special objects called _Variables_. Unlike other Tensor objects that are \"refilled\" with data each time we run the session. __Variables maintain a fixed state in the graph__.\n",
    "\n",
    "We must call the `tf.Variable()` function to make a Variable and define what value it will be initialized with. Next, we have to explicitly perform an initialization operation by running the session with the `tf.global_variables_initializer()` method, which allocates the memory for the Variable and sets its initial values. "
   ]
  },
  {
   "cell_type": "code",
   "execution_count": 17,
   "metadata": {},
   "outputs": [
    {
     "name": "stdout",
     "output_type": "stream",
     "text": [
      "pre run: \n",
      "<tf.Variable 'var_5:0' shape=(1, 5) dtype=float32_ref>\n",
      "\n",
      "post run: \n",
      "[[ 0.3806144  -1.5771576  -0.9142247   0.00367585  0.0615683 ]]\n"
     ]
    }
   ],
   "source": [
    "# random_normal(shape=(1,5),  mean=0.0, stddev=1.0)\n",
    "init_val = tf.random_normal((1,5),0,1)\n",
    "var = tf.Variable(init_val, name='var')\n",
    "print(\"pre run: \\n{}\".format(var))\n",
    "\n",
    "init = tf.global_variables_initializer()\n",
    "with tf.Session() as sess:\n",
    "    sess.run(init)\n",
    "    post_var = sess.run(var)\n",
    "print(\"\\npost run: \\n{}\".format(post_var))"
   ]
  },
  {
   "cell_type": "markdown",
   "metadata": {},
   "source": [
    "If we run the code again a new variable is going to appear, as indicated by the automatic concatenation of `_1` to its name. "
   ]
  },
  {
   "cell_type": "markdown",
   "metadata": {},
   "source": [
    "## Placeholders\n",
    "\n",
    "Placeholders can be thought of as empty Variables that will be filled with data later on. We use them by first constructing our graph and only when it is executed them with the input data. Placeholders have an optional shape arguement. If a shape is not fed or is passed as _None_, then the placeholder can be fed with data of any size. "
   ]
  },
  {
   "cell_type": "code",
   "execution_count": 8,
   "metadata": {},
   "outputs": [
    {
     "data": {
      "text/plain": [
       "<tf.Tensor 'Placeholder_1:0' shape=(?, 10) dtype=float32>"
      ]
     },
     "execution_count": 8,
     "metadata": {},
     "output_type": "execute_result"
    }
   ],
   "source": [
    "ph = tf.placeholder(tf.float32, shape=(None,10))\n",
    "ph"
   ]
  },
  {
   "cell_type": "markdown",
   "metadata": {},
   "source": [
    "We must feed it with some input values or else an exception will be thrown. The input data is passed to the `session.run()` method as a dictionary, where each key corresponds to a placeholder variable name, and the matching values are the data values.\n",
    "\n",
    "```\n",
    "with tf.Session as sess:\n",
    "    sess.run(s, feed_dict={x: X_data, w: w_data})\n",
    "    \n",
    "```"
   ]
  },
  {
   "cell_type": "code",
   "execution_count": 12,
   "metadata": {},
   "outputs": [
    {
     "name": "stdout",
     "output_type": "stream",
     "text": [
      "outs = 0.6382045745849609\n"
     ]
    }
   ],
   "source": [
    "import numpy as np\n",
    "\n",
    "x_data =  np.random.randn(5,10)\n",
    "w_data = np.random.randn(10,1)\n",
    "\n",
    "with tf.Graph().as_default():\n",
    "    x = tf.placeholder(tf.float32, shape=(5,10))\n",
    "    w = tf.placeholder(tf.float32, shape=(10,1))\n",
    "    b = tf.fill((5,1), -1.)\n",
    "    xw = tf.matmul(x,w)\n",
    "    \n",
    "    xwb = xw + b\n",
    "    s = tf.reduce_max(xwb)\n",
    "    with tf.Session() as sess:\n",
    "        outs = sess.run(s, feed_dict={x: x_data, w: w_data})\n",
    "        \n",
    "print(\"outs = {}\".format(outs))"
   ]
  },
  {
   "cell_type": "markdown",
   "metadata": {},
   "source": [
    "## Optimization\n",
    "\n",
    "### Traning to predict\n",
    "\n",
    "We want to predict the variable _y_, which we want to esxplain using some feature vector _x_. According to a data science process the idea is to evaluate different models, in this case we are going to evaluate one. Our training data points will be used for \"tuning\" the model so that it best captures the desired relation. \n",
    "\n",
    "Our selected model is a regression model:\n",
    "\n",
    "$ f(x_{i}) = W^Tx_{i} + b$\n",
    "\n",
    "$ y_{i} = f(x_{i}) + \\epsilon_{i} $\n",
    "\n",
    "$ f(x_{i}) $ is a linear combination of some input data $ x_{i} $, with a set of weights $w$ and an intercept $b$. Our target output $ y_{i} $ is a noisy version of $ f(x_{i}) $ after being summed with Gaussian noise $ \\epsilon_{i} $"
   ]
  },
  {
   "cell_type": "code",
   "execution_count": null,
   "metadata": {},
   "outputs": [],
   "source": [
    "x =  tf.placeholder(tf.float32,shape=[None,3])\n",
    "y_true = tf.placeholder(tf.float32, shape=None)\n",
    "w = tf.Variable([[0,0,0]], dtype=tf.float32, name='weights')\n",
    "b = tf.Variable(0, dtype=tf.float32, name='bias')"
   ]
  },
  {
   "cell_type": "code",
   "execution_count": null,
   "metadata": {},
   "outputs": [],
   "source": [
    "y_pred =  tf.matmul(w, tf.transpose(x)) + b"
   ]
  },
  {
   "cell_type": "markdown",
   "metadata": {},
   "source": [
    "### Defining a loss function\n",
    "\n",
    "To capture the discrepancy between our model's predictions and the observed targets, we need a measure reflecting \"distance\". __This distance is often referred to as an _objective_ or a _loss function_, and we optimize the model by finding the set of parameters (weights and bias in this case) that minimize it.__\n"
   ]
  },
  {
   "cell_type": "markdown",
   "metadata": {},
   "source": [
    "### MSE and cross entropy\n",
    "\n",
    "MSE (Mean squared error) is the most used loss, where for all samples we average the squared distances between the real target and what our model predicts across samples.\n",
    "\n",
    "$ L(y,yˆ) = \\frac{1}{N} \\sum_{i=1}^{n} (y_{i} - yˆ_{i})^{2} $\n",
    "\n",
    "This loss minimizes the mean square difference between an observed value an the model's fitted value (these differences are referred to as _residuals_)."
   ]
  },
  {
   "cell_type": "markdown",
   "metadata": {},
   "source": [
    "### MNIST Regression Model NN"
   ]
  },
  {
   "cell_type": "code",
   "execution_count": 15,
   "metadata": {},
   "outputs": [
    {
     "name": "stdout",
     "output_type": "stream",
     "text": [
      "Extracting MNIST_data/train-images-idx3-ubyte.gz\n",
      "Extracting MNIST_data/train-labels-idx1-ubyte.gz\n",
      "Extracting MNIST_data/t10k-images-idx3-ubyte.gz\n",
      "Extracting MNIST_data/t10k-labels-idx1-ubyte.gz\n"
     ]
    }
   ],
   "source": [
    "import tensorflow as tf\n",
    "from tensorflow.examples.tutorials.mnist import input_data\n",
    "\n",
    "# Read data\n",
    "mnist = input_data.read_data_sets(\"MNIST_data/\", one_hot=True)"
   ]
  },
  {
   "cell_type": "code",
   "execution_count": 19,
   "metadata": {},
   "outputs": [],
   "source": [
    "def inference(x):\n",
    "    weight_init = tf.random_normal_initializer()\n",
    "    bias_init = tf.constant_initializer(value=0)\n",
    "    W = tf.get_variable(\"W\", [784, 10], initializer=weight_init)\n",
    "    b = tf.get_variable(\"b\", [10], initializer=bias_init)\n",
    "    output = tf.nn.softmax(tf.matmul(x, W) + b)\n",
    "    return output"
   ]
  },
  {
   "cell_type": "code",
   "execution_count": 20,
   "metadata": {},
   "outputs": [],
   "source": [
    "def loss(output, y):\n",
    "    dot_product = y * tf.log(output)    \n",
    "    xentropy = -tf.reduce_sum(dot_product, reduction_indices=1)\n",
    "    loss = tf.reduce_mean(xentropy)\n",
    "    return loss"
   ]
  },
  {
   "cell_type": "code",
   "execution_count": 21,
   "metadata": {},
   "outputs": [],
   "source": [
    "def evaluate(output, y):\n",
    "    correct_prediction = tf.equal(tf.argmax(output, 1), tf.argmax(y, 1))\n",
    "    accuracy = tf.reduce_mean(tf.cast(correct_prediction, tf.float32))\n",
    "    return accuracy"
   ]
  },
  {
   "cell_type": "code",
   "execution_count": 22,
   "metadata": {},
   "outputs": [],
   "source": [
    "def training(cost, global_step):\n",
    "    tf.summary.scalar(\"cost\", cost)\n",
    "    optimizer = tf.train.GradientDescentOptimizer(learning_rate)\n",
    "    train_op = optimizer.minimize(cost, global_step=global_step)\n",
    "    return train_op"
   ]
  },
  {
   "cell_type": "code",
   "execution_count": 28,
   "metadata": {},
   "outputs": [
    {
     "name": "stdout",
     "output_type": "stream",
     "text": [
      "WARNING:tensorflow:From D:\\Usuarios\\rhaps\\Anaconda3\\lib\\site-packages\\tensorflow\\python\\ops\\math_ops.py:3066: to_int32 (from tensorflow.python.ops.math_ops) is deprecated and will be removed in a future version.\n",
      "Instructions for updating:\n",
      "Use tf.cast instead.\n"
     ]
    },
    {
     "name": "stderr",
     "output_type": "stream",
     "text": [
      "W0502 00:09:08.347230 23240 deprecation.py:323] From D:\\Usuarios\\rhaps\\Anaconda3\\lib\\site-packages\\tensorflow\\python\\ops\\math_ops.py:3066: to_int32 (from tensorflow.python.ops.math_ops) is deprecated and will be removed in a future version.\n",
      "Instructions for updating:\n",
      "Use tf.cast instead.\n"
     ]
    },
    {
     "name": "stdout",
     "output_type": "stream",
     "text": [
      "Validation Error: 0.7069999873638153\n",
      "Validation Error: 0.5378000140190125\n",
      "Validation Error: 0.4527999758720398\n",
      "Validation Error: 0.39819997549057007\n",
      "Validation Error: 0.35579997301101685\n",
      "Validation Error: 0.3256000280380249\n",
      "WARNING:tensorflow:From D:\\Usuarios\\rhaps\\Anaconda3\\lib\\site-packages\\tensorflow\\python\\training\\saver.py:966: remove_checkpoint (from tensorflow.python.training.checkpoint_management) is deprecated and will be removed in a future version.\n",
      "Instructions for updating:\n",
      "Use standard file APIs to delete files with this prefix.\n"
     ]
    },
    {
     "name": "stderr",
     "output_type": "stream",
     "text": [
      "W0502 00:09:18.907120 23240 deprecation.py:323] From D:\\Usuarios\\rhaps\\Anaconda3\\lib\\site-packages\\tensorflow\\python\\training\\saver.py:966: remove_checkpoint (from tensorflow.python.training.checkpoint_management) is deprecated and will be removed in a future version.\n",
      "Instructions for updating:\n",
      "Use standard file APIs to delete files with this prefix.\n"
     ]
    },
    {
     "name": "stdout",
     "output_type": "stream",
     "text": [
      "Validation Error: 0.30159997940063477\n",
      "Validation Error: 0.28299999237060547\n",
      "Validation Error: 0.265999972820282\n",
      "Validation Error: 0.2555999755859375\n",
      "Validation Error: 0.24559998512268066\n",
      "Validation Error: 0.23820000886917114\n",
      "Validation Error: 0.22860002517700195\n",
      "Validation Error: 0.2192000150680542\n",
      "Validation Error: 0.2134000062942505\n",
      "Validation Error: 0.20679998397827148\n",
      "Validation Error: 0.20260000228881836\n",
      "Validation Error: 0.196399986743927\n",
      "Validation Error: 0.19260001182556152\n",
      "Validation Error: 0.18959999084472656\n",
      "Validation Error: 0.1868000030517578\n",
      "Validation Error: 0.18320000171661377\n",
      "Validation Error: 0.18040001392364502\n",
      "Validation Error: 0.17680001258850098\n",
      "Validation Error: 0.1746000051498413\n",
      "Validation Error: 0.17259997129440308\n",
      "Validation Error: 0.1690000295639038\n",
      "Validation Error: 0.16780000925064087\n",
      "Validation Error: 0.16500002145767212\n",
      "Validation Error: 0.1629999876022339\n",
      "Validation Error: 0.1615999937057495\n",
      "Validation Error: 0.16039997339248657\n",
      "Validation Error: 0.15799999237060547\n",
      "Validation Error: 0.15700000524520874\n",
      "Validation Error: 0.15619999170303345\n",
      "Validation Error: 0.15520000457763672\n",
      "Validation Error: 0.15359997749328613\n",
      "Validation Error: 0.1517999768257141\n",
      "Validation Error: 0.1510000228881836\n",
      "Validation Error: 0.15039998292922974\n",
      "Validation Error: 0.14980000257492065\n",
      "Validation Error: 0.14880001544952393\n",
      "Validation Error: 0.14800000190734863\n",
      "Validation Error: 0.14719998836517334\n",
      "Validation Error: 0.14560002088546753\n",
      "Validation Error: 0.14480000734329224\n",
      "Validation Error: 0.1438000202178955\n",
      "Validation Error: 0.14160001277923584\n",
      "Validation Error: 0.14099997282028198\n",
      "Validation Error: 0.1403999924659729\n",
      "Validation Error: 0.13919997215270996\n",
      "Validation Error: 0.13819998502731323\n",
      "Validation Error: 0.13779997825622559\n",
      "Validation Error: 0.13779997825622559\n",
      "Validation Error: 0.13620001077651978\n",
      "Validation Error: 0.13520002365112305\n",
      "Validation Error: 0.13580000400543213\n",
      "Validation Error: 0.13559997081756592\n",
      "Validation Error: 0.13359999656677246\n",
      "Validation Error: 0.1340000033378601\n",
      "Validation Error: 0.13319998979568481\n",
      "Validation Error: 0.1313999891281128\n",
      "Validation Error: 0.1308000087738037\n",
      "Validation Error: 0.13099998235702515\n",
      "Validation Error: 0.12980002164840698\n",
      "Validation Error: 0.12879997491836548\n",
      "Validation Error: 0.1290000081062317\n",
      "Validation Error: 0.1284000277519226\n",
      "Validation Error: 0.12760001420974731\n",
      "Validation Error: 0.12779998779296875\n",
      "Validation Error: 0.12599998712539673\n",
      "Validation Error: 0.12599998712539673\n",
      "Validation Error: 0.12660002708435059\n",
      "Validation Error: 0.12540000677108765\n",
      "Validation Error: 0.12559998035430908\n",
      "Validation Error: 0.12400001287460327\n",
      "Validation Error: 0.12440001964569092\n",
      "Validation Error: 0.12360000610351562\n",
      "Validation Error: 0.12360000610351562\n",
      "Validation Error: 0.12360000610351562\n",
      "Validation Error: 0.1226000189781189\n",
      "Validation Error: 0.12239998579025269\n",
      "Validation Error: 0.1226000189781189\n",
      "Validation Error: 0.12199997901916504\n",
      "Validation Error: 0.12120002508163452\n",
      "Validation Error: 0.12099999189376831\n",
      "Validation Error: 0.12080001831054688\n",
      "Validation Error: 0.12159997224807739\n",
      "Validation Error: 0.12059998512268066\n",
      "Validation Error: 0.11979997158050537\n",
      "Validation Error: 0.11900001764297485\n",
      "Validation Error: 0.11959999799728394\n",
      "Validation Error: 0.12019997835159302\n",
      "Validation Error: 0.11900001764297485\n",
      "Validation Error: 0.11879998445510864\n",
      "Validation Error: 0.11879998445510864\n",
      "Validation Error: 0.11919999122619629\n",
      "Validation Error: 0.11919999122619629\n",
      "Validation Error: 0.11779999732971191\n",
      "Validation Error: 0.11720001697540283\n",
      "Validation Error: 0.11779999732971191\n",
      "Validation Error: 0.11739999055862427\n",
      "Validation Error: 0.11699998378753662\n",
      "Validation Error: 0.11720001697540283\n",
      "Validation Error: 0.11680001020431519\n",
      "Validation Error: 0.11720001697540283\n",
      "Validation Error: 0.11680001020431519\n",
      "Validation Error: 0.11659997701644897\n",
      "Validation Error: 0.11640000343322754\n",
      "Validation Error: 0.11599999666213989\n",
      "Validation Error: 0.11580002307891846\n",
      "Validation Error: 0.11440002918243408\n",
      "Validation Error: 0.11580002307891846\n",
      "Validation Error: 0.11500000953674316\n",
      "Validation Error: 0.11460000276565552\n",
      "Validation Error: 0.11440002918243408\n",
      "Validation Error: 0.11440002918243408\n",
      "Validation Error: 0.11479997634887695\n",
      "Validation Error: 0.11440002918243408\n",
      "Validation Error: 0.11379998922348022\n",
      "Validation Error: 0.11360001564025879\n",
      "Validation Error: 0.11320000886917114\n",
      "Validation Error: 0.1119999885559082\n",
      "Validation Error: 0.11339998245239258\n",
      "Validation Error: 0.11239999532699585\n",
      "Validation Error: 0.11159998178482056\n",
      "Validation Error: 0.1119999885559082\n",
      "Validation Error: 0.11080002784729004\n",
      "Validation Error: 0.1128000020980835\n",
      "Validation Error: 0.11180001497268677\n",
      "Validation Error: 0.11000001430511475\n",
      "Validation Error: 0.11000001430511475\n",
      "Validation Error: 0.10939997434616089\n",
      "Validation Error: 0.11019998788833618\n",
      "Validation Error: 0.10900002717971802\n",
      "Validation Error: 0.1087999939918518\n",
      "Validation Error: 0.1087999939918518\n",
      "Validation Error: 0.10920000076293945\n",
      "Validation Error: 0.10780000686645508\n",
      "Validation Error: 0.10780000686645508\n",
      "Validation Error: 0.10680001974105835\n",
      "Validation Error: 0.10759997367858887\n",
      "Validation Error: 0.10619997978210449\n",
      "Validation Error: 0.10759997367858887\n",
      "Validation Error: 0.10659998655319214\n",
      "Validation Error: 0.10579997301101685\n",
      "Validation Error: 0.10680001974105835\n",
      "Validation Error: 0.10699999332427979\n",
      "Validation Error: 0.10540002584457397\n",
      "Validation Error: 0.10559999942779541\n",
      "Validation Error: 0.10519999265670776\n",
      "Validation Error: 0.10519999265670776\n",
      "Validation Error: 0.10460001230239868\n",
      "Validation Error: 0.10479998588562012\n",
      "Validation Error: 0.10439997911453247\n",
      "Validation Error: 0.10460001230239868\n",
      "Validation Error: 0.10439997911453247\n",
      "Validation Error: 0.10460001230239868\n",
      "Validation Error: 0.10360002517700195\n",
      "Validation Error: 0.10439997911453247\n",
      "Validation Error: 0.10420000553131104\n",
      "Validation Error: 0.10360002517700195\n",
      "Validation Error: 0.10360002517700195\n",
      "Validation Error: 0.10360002517700195\n",
      "Validation Error: 0.1029999852180481\n",
      "Validation Error: 0.1032000184059143\n",
      "Validation Error: 0.1032000184059143\n",
      "Validation Error: 0.10280001163482666\n",
      "Validation Error: 0.10259997844696045\n",
      "Validation Error: 0.1029999852180481\n",
      "Validation Error: 0.10180002450942993\n",
      "Validation Error: 0.10199999809265137\n",
      "Validation Error: 0.10240000486373901\n",
      "Validation Error: 0.10280001163482666\n",
      "Validation Error: 0.10199999809265137\n",
      "Validation Error: 0.1021999716758728\n",
      "Validation Error: 0.10180002450942993\n",
      "Validation Error: 0.10140001773834229\n",
      "Validation Error: 0.10159999132156372\n",
      "Validation Error: 0.10140001773834229\n",
      "Validation Error: 0.10180002450942993\n",
      "Validation Error: 0.10159999132156372\n",
      "Validation Error: 0.10199999809265137\n",
      "Validation Error: 0.10199999809265137\n",
      "Validation Error: 0.10140001773834229\n",
      "Validation Error: 0.10060000419616699\n",
      "Validation Error: 0.10100001096725464\n",
      "Validation Error: 0.10079997777938843\n",
      "Validation Error: 0.10079997777938843\n",
      "Validation Error: 0.10100001096725464\n",
      "Validation Error: 0.10039997100830078\n",
      "Validation Error: 0.10060000419616699\n",
      "Validation Error: 0.10060000419616699\n",
      "Validation Error: 0.10039997100830078\n",
      "Validation Error: 0.10019999742507935\n",
      "Validation Error: 0.10000002384185791\n",
      "Validation Error: 0.10100001096725464\n",
      "Validation Error: 0.0997999906539917\n",
      "Validation Error: 0.10019999742507935\n",
      "Validation Error: 0.10039997100830078\n",
      "Validation Error: 0.10000002384185791\n",
      "Validation Error: 0.09939998388290405\n",
      "Validation Error: 0.10000002384185791\n",
      "Validation Error: 0.09939998388290405\n",
      "Validation Error: 0.09920001029968262\n",
      "Validation Error: 0.0989999771118164\n",
      "Validation Error: 0.09920001029968262\n",
      "Validation Error: 0.09859997034072876\n",
      "Validation Error: 0.09859997034072876\n",
      "Validation Error: 0.09920001029968262\n",
      "Validation Error: 0.09880000352859497\n",
      "Validation Error: 0.09799998998641968\n",
      "Validation Error: 0.09859997034072876\n",
      "Validation Error: 0.09820002317428589\n",
      "Validation Error: 0.0989999771118164\n",
      "Validation Error: 0.09939998388290405\n",
      "Validation Error: 0.09880000352859497\n",
      "Validation Error: 0.09859997034072876\n",
      "Validation Error: 0.09960001707077026\n",
      "Validation Error: 0.09859997034072876\n",
      "Validation Error: 0.09920001029968262\n",
      "Validation Error: 0.0989999771118164\n"
     ]
    },
    {
     "name": "stdout",
     "output_type": "stream",
     "text": [
      "Validation Error: 0.09820002317428589\n",
      "Validation Error: 0.09799998998641968\n",
      "Validation Error: 0.09839999675750732\n",
      "Validation Error: 0.09820002317428589\n",
      "Validation Error: 0.09880000352859497\n",
      "Validation Error: 0.09859997034072876\n",
      "Validation Error: 0.09759998321533203\n",
      "Validation Error: 0.09799998998641968\n",
      "Validation Error: 0.09839999675750732\n",
      "Validation Error: 0.09839999675750732\n",
      "Validation Error: 0.09719997644424438\n",
      "Validation Error: 0.09799998998641968\n",
      "Validation Error: 0.09759998321533203\n",
      "Validation Error: 0.09799998998641968\n",
      "Validation Error: 0.09780001640319824\n",
      "Validation Error: 0.09759998321533203\n",
      "Validation Error: 0.09780001640319824\n",
      "Validation Error: 0.09799998998641968\n",
      "Validation Error: 0.0974000096321106\n",
      "Validation Error: 0.09700000286102295\n",
      "Validation Error: 0.09780001640319824\n",
      "Validation Error: 0.0974000096321106\n",
      "Validation Error: 0.09680002927780151\n",
      "Validation Error: 0.0974000096321106\n",
      "Validation Error: 0.0974000096321106\n",
      "Validation Error: 0.0974000096321106\n",
      "Validation Error: 0.09719997644424438\n",
      "Validation Error: 0.0965999960899353\n",
      "Validation Error: 0.09680002927780151\n",
      "Validation Error: 0.09680002927780151\n",
      "Validation Error: 0.0974000096321106\n",
      "Validation Error: 0.09619998931884766\n",
      "Validation Error: 0.09700000286102295\n",
      "Validation Error: 0.09619998931884766\n",
      "Validation Error: 0.09640002250671387\n",
      "Validation Error: 0.0974000096321106\n",
      "Validation Error: 0.09640002250671387\n",
      "Validation Error: 0.09719997644424438\n",
      "Validation Error: 0.09719997644424438\n",
      "Validation Error: 0.09640002250671387\n",
      "Validation Error: 0.09700000286102295\n",
      "Validation Error: 0.09640002250671387\n",
      "Validation Error: 0.09600001573562622\n",
      "Validation Error: 0.09680002927780151\n",
      "Validation Error: 0.09640002250671387\n",
      "Validation Error: 0.09579998254776001\n",
      "Validation Error: 0.09579998254776001\n",
      "Validation Error: 0.09680002927780151\n",
      "Validation Error: 0.09640002250671387\n",
      "Validation Error: 0.09600001573562622\n",
      "Validation Error: 0.09500002861022949\n",
      "Validation Error: 0.09600001573562622\n",
      "Validation Error: 0.09560000896453857\n",
      "Validation Error: 0.09579998254776001\n",
      "Validation Error: 0.09600001573562622\n",
      "Validation Error: 0.09600001573562622\n",
      "Validation Error: 0.09579998254776001\n",
      "Validation Error: 0.09539997577667236\n",
      "Validation Error: 0.09500002861022949\n",
      "Validation Error: 0.09460002183914185\n",
      "Validation Error: 0.09539997577667236\n",
      "Validation Error: 0.09539997577667236\n",
      "Validation Error: 0.09500002861022949\n",
      "Validation Error: 0.09579998254776001\n",
      "Validation Error: 0.09479999542236328\n",
      "Validation Error: 0.09520000219345093\n",
      "Validation Error: 0.09520000219345093\n",
      "Validation Error: 0.09500002861022949\n",
      "Validation Error: 0.09460002183914185\n",
      "Validation Error: 0.09520000219345093\n",
      "Validation Error: 0.09460002183914185\n",
      "Validation Error: 0.09439998865127563\n",
      "Validation Error: 0.09479999542236328\n",
      "Validation Error: 0.09539997577667236\n",
      "Validation Error: 0.09500002861022949\n",
      "Validation Error: 0.09500002861022949\n",
      "Validation Error: 0.09460002183914185\n",
      "Validation Error: 0.09460002183914185\n",
      "Validation Error: 0.0942000150680542\n",
      "Validation Error: 0.09399998188018799\n",
      "Validation Error: 0.09460002183914185\n",
      "Validation Error: 0.09500002861022949\n",
      "Validation Error: 0.09439998865127563\n",
      "Validation Error: 0.09380000829696655\n",
      "Validation Error: 0.09479999542236328\n",
      "Validation Error: 0.09380000829696655\n",
      "Validation Error: 0.09380000829696655\n",
      "Validation Error: 0.09460002183914185\n",
      "Validation Error: 0.09479999542236328\n",
      "Validation Error: 0.09399998188018799\n",
      "Validation Error: 0.09500002861022949\n",
      "Validation Error: 0.09500002861022949\n",
      "Validation Error: 0.09500002861022949\n",
      "Validation Error: 0.09460002183914185\n",
      "Validation Error: 0.09479999542236328\n",
      "Validation Error: 0.09439998865127563\n",
      "Validation Error: 0.09399998188018799\n",
      "Validation Error: 0.09439998865127563\n",
      "Validation Error: 0.09539997577667236\n",
      "Validation Error: 0.09439998865127563\n",
      "Validation Error: 0.0942000150680542\n",
      "Validation Error: 0.09460002183914185\n",
      "Validation Error: 0.09479999542236328\n",
      "Validation Error: 0.09479999542236328\n",
      "Validation Error: 0.09460002183914185\n",
      "Validation Error: 0.09380000829696655\n",
      "Validation Error: 0.09359997510910034\n",
      "Validation Error: 0.09460002183914185\n",
      "Validation Error: 0.09380000829696655\n",
      "Validation Error: 0.09380000829696655\n",
      "Validation Error: 0.09460002183914185\n",
      "Validation Error: 0.09460002183914185\n",
      "Validation Error: 0.0942000150680542\n",
      "Validation Error: 0.09479999542236328\n",
      "Validation Error: 0.09320002794265747\n",
      "Validation Error: 0.09320002794265747\n",
      "Validation Error: 0.09399998188018799\n",
      "Validation Error: 0.09359997510910034\n",
      "Validation Error: 0.0934000015258789\n",
      "Validation Error: 0.09359997510910034\n",
      "Validation Error: 0.09320002794265747\n",
      "Validation Error: 0.09359997510910034\n",
      "Validation Error: 0.0934000015258789\n",
      "Validation Error: 0.09479999542236328\n",
      "Validation Error: 0.0942000150680542\n",
      "Validation Error: 0.09380000829696655\n",
      "Validation Error: 0.09320002794265747\n",
      "Validation Error: 0.09399998188018799\n",
      "Validation Error: 0.09359997510910034\n",
      "Validation Error: 0.09320002794265747\n",
      "Validation Error: 0.09380000829696655\n",
      "Validation Error: 0.09359997510910034\n",
      "Validation Error: 0.09380000829696655\n",
      "Validation Error: 0.0934000015258789\n",
      "Validation Error: 0.09399998188018799\n",
      "Validation Error: 0.09359997510910034\n",
      "Validation Error: 0.09439998865127563\n",
      "Validation Error: 0.09399998188018799\n",
      "Validation Error: 0.0934000015258789\n",
      "Validation Error: 0.09399998188018799\n",
      "Validation Error: 0.09359997510910034\n",
      "Validation Error: 0.09399998188018799\n",
      "Validation Error: 0.09359997510910034\n",
      "Validation Error: 0.09359997510910034\n",
      "Validation Error: 0.09380000829696655\n",
      "Validation Error: 0.09359997510910034\n",
      "Validation Error: 0.09320002794265747\n",
      "Validation Error: 0.09380000829696655\n",
      "Validation Error: 0.09359997510910034\n",
      "Validation Error: 0.0934000015258789\n",
      "Validation Error: 0.09320002794265747\n",
      "Validation Error: 0.09380000829696655\n",
      "Validation Error: 0.0934000015258789\n",
      "Validation Error: 0.09359997510910034\n",
      "Validation Error: 0.09299999475479126\n",
      "Validation Error: 0.09359997510910034\n",
      "Validation Error: 0.09359997510910034\n",
      "Validation Error: 0.09359997510910034\n",
      "Validation Error: 0.09320002794265747\n",
      "Validation Error: 0.09320002794265747\n",
      "Validation Error: 0.09259998798370361\n",
      "Validation Error: 0.09320002794265747\n",
      "Validation Error: 0.0934000015258789\n",
      "Validation Error: 0.09259998798370361\n",
      "Validation Error: 0.09299999475479126\n",
      "Validation Error: 0.09259998798370361\n",
      "Validation Error: 0.09280002117156982\n",
      "Validation Error: 0.09320002794265747\n",
      "Validation Error: 0.09259998798370361\n",
      "Validation Error: 0.09320002794265747\n",
      "Validation Error: 0.09280002117156982\n",
      "Validation Error: 0.09359997510910034\n",
      "Validation Error: 0.09299999475479126\n",
      "Validation Error: 0.09240001440048218\n",
      "Validation Error: 0.09219998121261597\n",
      "Validation Error: 0.09240001440048218\n",
      "Validation Error: 0.09179997444152832\n",
      "Validation Error: 0.09299999475479126\n",
      "Validation Error: 0.09259998798370361\n",
      "Validation Error: 0.09200000762939453\n",
      "Validation Error: 0.09240001440048218\n",
      "Validation Error: 0.09259998798370361\n",
      "Validation Error: 0.09219998121261597\n",
      "Validation Error: 0.09259998798370361\n",
      "Validation Error: 0.09179997444152832\n",
      "Validation Error: 0.09240001440048218\n",
      "Validation Error: 0.09219998121261597\n",
      "Validation Error: 0.09219998121261597\n",
      "Validation Error: 0.09179997444152832\n",
      "Validation Error: 0.09240001440048218\n",
      "Validation Error: 0.09240001440048218\n",
      "Validation Error: 0.09240001440048218\n",
      "Validation Error: 0.09259998798370361\n",
      "Validation Error: 0.09160000085830688\n",
      "Validation Error: 0.09200000762939453\n",
      "Validation Error: 0.09240001440048218\n",
      "Validation Error: 0.09240001440048218\n",
      "Validation Error: 0.09219998121261597\n",
      "Validation Error: 0.09179997444152832\n",
      "Validation Error: 0.09219998121261597\n",
      "Validation Error: 0.09160000085830688\n",
      "Validation Error: 0.09219998121261597\n",
      "Validation Error: 0.09219998121261597\n",
      "Validation Error: 0.09179997444152832\n",
      "Validation Error: 0.09240001440048218\n",
      "Validation Error: 0.09179997444152832\n",
      "Validation Error: 0.09219998121261597\n",
      "Validation Error: 0.09160000085830688\n",
      "Validation Error: 0.09160000085830688\n",
      "Validation Error: 0.09179997444152832\n",
      "Validation Error: 0.09280002117156982\n",
      "Validation Error: 0.09200000762939453\n",
      "Validation Error: 0.09219998121261597\n",
      "Validation Error: 0.09200000762939453\n",
      "Validation Error: 0.09160000085830688\n",
      "Validation Error: 0.09219998121261597\n"
     ]
    },
    {
     "name": "stdout",
     "output_type": "stream",
     "text": [
      "Validation Error: 0.09179997444152832\n",
      "Validation Error: 0.09219998121261597\n",
      "Validation Error: 0.09219998121261597\n",
      "Validation Error: 0.09160000085830688\n",
      "Validation Error: 0.09179997444152832\n",
      "Validation Error: 0.09200000762939453\n",
      "Validation Error: 0.09160000085830688\n",
      "Validation Error: 0.09160000085830688\n",
      "Validation Error: 0.09160000085830688\n",
      "Validation Error: 0.09160000085830688\n",
      "Validation Error: 0.0910000205039978\n",
      "Validation Error: 0.09160000085830688\n",
      "Validation Error: 0.09200000762939453\n",
      "Validation Error: 0.09179997444152832\n",
      "Validation Error: 0.0910000205039978\n",
      "Validation Error: 0.09079998731613159\n",
      "Validation Error: 0.0910000205039978\n",
      "Validation Error: 0.09060001373291016\n",
      "Validation Error: 0.09160000085830688\n",
      "Validation Error: 0.09119999408721924\n",
      "Validation Error: 0.09140002727508545\n",
      "Validation Error: 0.09060001373291016\n",
      "Validation Error: 0.09060001373291016\n",
      "Validation Error: 0.09079998731613159\n",
      "Validation Error: 0.09039998054504395\n",
      "Validation Error: 0.09160000085830688\n",
      "Validation Error: 0.09160000085830688\n",
      "Validation Error: 0.09140002727508545\n",
      "Validation Error: 0.09119999408721924\n",
      "Validation Error: 0.0910000205039978\n",
      "Validation Error: 0.09179997444152832\n",
      "Validation Error: 0.0910000205039978\n",
      "Validation Error: 0.0910000205039978\n",
      "Validation Error: 0.09140002727508545\n",
      "Validation Error: 0.0910000205039978\n",
      "Validation Error: 0.09020000696182251\n",
      "Validation Error: 0.09060001373291016\n",
      "Validation Error: 0.09140002727508545\n",
      "Validation Error: 0.09020000696182251\n",
      "Validation Error: 0.0910000205039978\n",
      "Validation Error: 0.08980000019073486\n",
      "Validation Error: 0.0910000205039978\n",
      "Validation Error: 0.09039998054504395\n",
      "Validation Error: 0.09020000696182251\n",
      "Validation Error: 0.09119999408721924\n",
      "Validation Error: 0.09079998731613159\n",
      "Validation Error: 0.09039998054504395\n",
      "Validation Error: 0.09079998731613159\n",
      "Validation Error: 0.09060001373291016\n",
      "Validation Error: 0.09039998054504395\n",
      "Validation Error: 0.09039998054504395\n",
      "Validation Error: 0.09039998054504395\n",
      "Validation Error: 0.09020000696182251\n",
      "Validation Error: 0.09039998054504395\n",
      "Validation Error: 0.09020000696182251\n",
      "Validation Error: 0.09020000696182251\n",
      "Validation Error: 0.09020000696182251\n",
      "Validation Error: 0.08980000019073486\n",
      "Validation Error: 0.08960002660751343\n",
      "Validation Error: 0.08980000019073486\n",
      "Validation Error: 0.08980000019073486\n",
      "Validation Error: 0.0899999737739563\n",
      "Validation Error: 0.0899999737739563\n",
      "Validation Error: 0.0899999737739563\n",
      "Validation Error: 0.09020000696182251\n",
      "Validation Error: 0.08980000019073486\n",
      "Validation Error: 0.0899999737739563\n",
      "Validation Error: 0.08960002660751343\n",
      "Validation Error: 0.08960002660751343\n",
      "Validation Error: 0.0899999737739563\n",
      "Validation Error: 0.08939999341964722\n",
      "Validation Error: 0.09039998054504395\n",
      "Validation Error: 0.08899998664855957\n",
      "Validation Error: 0.0899999737739563\n",
      "Validation Error: 0.0899999737739563\n",
      "Validation Error: 0.08939999341964722\n",
      "Validation Error: 0.08939999341964722\n",
      "Validation Error: 0.08920001983642578\n",
      "Validation Error: 0.0899999737739563\n",
      "Validation Error: 0.08980000019073486\n",
      "Validation Error: 0.08980000019073486\n",
      "Validation Error: 0.08920001983642578\n",
      "Validation Error: 0.08980000019073486\n",
      "Validation Error: 0.08859997987747192\n",
      "Validation Error: 0.08920001983642578\n",
      "Validation Error: 0.09020000696182251\n",
      "Validation Error: 0.08899998664855957\n",
      "Validation Error: 0.08939999341964722\n",
      "Validation Error: 0.08880001306533813\n",
      "Validation Error: 0.08939999341964722\n",
      "Validation Error: 0.08960002660751343\n",
      "Validation Error: 0.08899998664855957\n",
      "Validation Error: 0.08980000019073486\n",
      "Validation Error: 0.08880001306533813\n",
      "Validation Error: 0.08840000629425049\n",
      "Validation Error: 0.08920001983642578\n",
      "Validation Error: 0.08939999341964722\n",
      "Validation Error: 0.08880001306533813\n",
      "Validation Error: 0.08920001983642578\n",
      "Validation Error: 0.08920001983642578\n",
      "Validation Error: 0.08939999341964722\n",
      "Validation Error: 0.08880001306533813\n",
      "Validation Error: 0.08799999952316284\n",
      "Validation Error: 0.08920001983642578\n",
      "Validation Error: 0.0878000259399414\n",
      "Validation Error: 0.08840000629425049\n",
      "Validation Error: 0.08799999952316284\n",
      "Validation Error: 0.08740001916885376\n",
      "Validation Error: 0.08840000629425049\n",
      "Validation Error: 0.08819997310638428\n",
      "Validation Error: 0.08840000629425049\n",
      "Validation Error: 0.08799999952316284\n",
      "Validation Error: 0.08799999952316284\n",
      "Validation Error: 0.08819997310638428\n",
      "Validation Error: 0.0878000259399414\n",
      "Validation Error: 0.08819997310638428\n",
      "Validation Error: 0.08740001916885376\n",
      "Validation Error: 0.08799999952316284\n",
      "Validation Error: 0.08740001916885376\n",
      "Validation Error: 0.0875999927520752\n",
      "Validation Error: 0.08920001983642578\n",
      "Validation Error: 0.08899998664855957\n",
      "Validation Error: 0.0875999927520752\n",
      "Validation Error: 0.08719998598098755\n",
      "Validation Error: 0.0867999792098999\n",
      "Validation Error: 0.08700001239776611\n",
      "Validation Error: 0.0878000259399414\n",
      "Validation Error: 0.08719998598098755\n",
      "Validation Error: 0.08700001239776611\n",
      "Validation Error: 0.08740001916885376\n",
      "Validation Error: 0.08799999952316284\n",
      "Validation Error: 0.0875999927520752\n",
      "Validation Error: 0.08660000562667847\n",
      "Validation Error: 0.08700001239776611\n",
      "Validation Error: 0.08719998598098755\n",
      "Validation Error: 0.08740001916885376\n",
      "Validation Error: 0.08740001916885376\n",
      "Validation Error: 0.08719998598098755\n",
      "Validation Error: 0.0867999792098999\n",
      "Validation Error: 0.08700001239776611\n",
      "Validation Error: 0.0878000259399414\n",
      "Validation Error: 0.08660000562667847\n",
      "Validation Error: 0.08660000562667847\n",
      "Validation Error: 0.08740001916885376\n",
      "Validation Error: 0.0867999792098999\n",
      "Validation Error: 0.08719998598098755\n",
      "Validation Error: 0.08639997243881226\n",
      "Validation Error: 0.0867999792098999\n",
      "Validation Error: 0.08639997243881226\n",
      "Validation Error: 0.08719998598098755\n",
      "Validation Error: 0.08740001916885376\n",
      "Validation Error: 0.08660000562667847\n",
      "Validation Error: 0.08740001916885376\n",
      "Validation Error: 0.0867999792098999\n",
      "Validation Error: 0.0867999792098999\n",
      "Validation Error: 0.08719998598098755\n",
      "Validation Error: 0.0867999792098999\n",
      "Validation Error: 0.08719998598098755\n",
      "Validation Error: 0.0867999792098999\n",
      "Validation Error: 0.08700001239776611\n",
      "Validation Error: 0.08660000562667847\n",
      "Validation Error: 0.08700001239776611\n",
      "Validation Error: 0.08700001239776611\n",
      "Validation Error: 0.0867999792098999\n",
      "Validation Error: 0.08700001239776611\n",
      "Validation Error: 0.08719998598098755\n",
      "Validation Error: 0.0867999792098999\n",
      "Validation Error: 0.08660000562667847\n",
      "Validation Error: 0.08700001239776611\n",
      "Validation Error: 0.0867999792098999\n",
      "Validation Error: 0.0867999792098999\n",
      "Validation Error: 0.08639997243881226\n",
      "Validation Error: 0.08740001916885376\n",
      "Validation Error: 0.08639997243881226\n",
      "Validation Error: 0.08719998598098755\n",
      "Validation Error: 0.08619999885559082\n",
      "Validation Error: 0.08660000562667847\n",
      "Validation Error: 0.08700001239776611\n",
      "Validation Error: 0.08619999885559082\n",
      "Validation Error: 0.08660000562667847\n",
      "Validation Error: 0.08619999885559082\n",
      "Validation Error: 0.08719998598098755\n",
      "Validation Error: 0.08619999885559082\n",
      "Validation Error: 0.08619999885559082\n",
      "Validation Error: 0.0867999792098999\n",
      "Validation Error: 0.0867999792098999\n",
      "Validation Error: 0.0867999792098999\n",
      "Validation Error: 0.08660000562667847\n",
      "Validation Error: 0.08700001239776611\n",
      "Validation Error: 0.08600002527236938\n",
      "Validation Error: 0.08700001239776611\n",
      "Validation Error: 0.08639997243881226\n",
      "Validation Error: 0.08600002527236938\n",
      "Validation Error: 0.08619999885559082\n",
      "Validation Error: 0.0867999792098999\n",
      "Validation Error: 0.08639997243881226\n",
      "Validation Error: 0.08639997243881226\n",
      "Validation Error: 0.08619999885559082\n",
      "Validation Error: 0.08639997243881226\n",
      "Validation Error: 0.08660000562667847\n",
      "Validation Error: 0.08660000562667847\n",
      "Validation Error: 0.08639997243881226\n",
      "Validation Error: 0.08619999885559082\n",
      "Validation Error: 0.0867999792098999\n",
      "Validation Error: 0.08579999208450317\n",
      "Validation Error: 0.08619999885559082\n",
      "Validation Error: 0.08619999885559082\n",
      "Validation Error: 0.08639997243881226\n",
      "Validation Error: 0.0867999792098999\n",
      "Validation Error: 0.08579999208450317\n",
      "Validation Error: 0.08660000562667847\n",
      "Validation Error: 0.08639997243881226\n",
      "Validation Error: 0.08660000562667847\n",
      "Validation Error: 0.08619999885559082\n",
      "Validation Error: 0.08600002527236938\n",
      "Validation Error: 0.08639997243881226\n"
     ]
    },
    {
     "name": "stdout",
     "output_type": "stream",
     "text": [
      "Validation Error: 0.08639997243881226\n",
      "Validation Error: 0.08600002527236938\n",
      "Validation Error: 0.08700001239776611\n",
      "Validation Error: 0.08639997243881226\n",
      "Validation Error: 0.08639997243881226\n",
      "Validation Error: 0.0867999792098999\n",
      "Validation Error: 0.0867999792098999\n",
      "Validation Error: 0.08600002527236938\n",
      "Validation Error: 0.08520001173019409\n",
      "Validation Error: 0.08579999208450317\n",
      "Validation Error: 0.08600002527236938\n",
      "Validation Error: 0.08639997243881226\n",
      "Validation Error: 0.08579999208450317\n",
      "Validation Error: 0.08600002527236938\n",
      "Validation Error: 0.08660000562667847\n",
      "Validation Error: 0.08600002527236938\n",
      "Validation Error: 0.08660000562667847\n",
      "Validation Error: 0.08660000562667847\n",
      "Validation Error: 0.08639997243881226\n",
      "Validation Error: 0.0867999792098999\n",
      "Validation Error: 0.08600002527236938\n",
      "Validation Error: 0.08660000562667847\n",
      "Validation Error: 0.08499997854232788\n",
      "Validation Error: 0.08619999885559082\n",
      "Validation Error: 0.08639997243881226\n",
      "Validation Error: 0.08499997854232788\n",
      "Validation Error: 0.08539998531341553\n",
      "Validation Error: 0.08560001850128174\n",
      "Validation Error: 0.08560001850128174\n",
      "Validation Error: 0.08520001173019409\n",
      "Validation Error: 0.0867999792098999\n",
      "Validation Error: 0.08560001850128174\n",
      "Validation Error: 0.08579999208450317\n",
      "Validation Error: 0.08600002527236938\n",
      "Validation Error: 0.08660000562667847\n",
      "Validation Error: 0.08619999885559082\n",
      "Validation Error: 0.08660000562667847\n",
      "Validation Error: 0.08579999208450317\n",
      "Validation Error: 0.08560001850128174\n",
      "Validation Error: 0.08499997854232788\n",
      "Validation Error: 0.08539998531341553\n",
      "Validation Error: 0.08560001850128174\n",
      "Validation Error: 0.08619999885559082\n",
      "Validation Error: 0.08600002527236938\n",
      "Validation Error: 0.08539998531341553\n",
      "Validation Error: 0.08560001850128174\n",
      "Validation Error: 0.08579999208450317\n",
      "Validation Error: 0.08579999208450317\n",
      "Validation Error: 0.08539998531341553\n",
      "Validation Error: 0.08619999885559082\n",
      "Validation Error: 0.08600002527236938\n",
      "Validation Error: 0.08539998531341553\n",
      "Validation Error: 0.08579999208450317\n",
      "Validation Error: 0.08600002527236938\n",
      "Validation Error: 0.08480000495910645\n",
      "Validation Error: 0.08619999885559082\n",
      "Validation Error: 0.08539998531341553\n",
      "Validation Error: 0.08560001850128174\n",
      "Validation Error: 0.08499997854232788\n",
      "Validation Error: 0.08539998531341553\n",
      "Validation Error: 0.08459997177124023\n",
      "Validation Error: 0.08520001173019409\n",
      "Validation Error: 0.08560001850128174\n",
      "Validation Error: 0.08600002527236938\n",
      "Validation Error: 0.08579999208450317\n",
      "Validation Error: 0.08499997854232788\n",
      "Validation Error: 0.08560001850128174\n",
      "Validation Error: 0.08560001850128174\n",
      "Validation Error: 0.08520001173019409\n",
      "Validation Error: 0.08560001850128174\n",
      "Validation Error: 0.08539998531341553\n",
      "Validation Error: 0.08539998531341553\n",
      "Validation Error: 0.08579999208450317\n",
      "Validation Error: 0.08539998531341553\n",
      "Validation Error: 0.08539998531341553\n",
      "Validation Error: 0.08600002527236938\n",
      "Validation Error: 0.08560001850128174\n",
      "Validation Error: 0.08579999208450317\n",
      "Validation Error: 0.08499997854232788\n",
      "Validation Error: 0.08480000495910645\n",
      "Validation Error: 0.08600002527236938\n",
      "Validation Error: 0.08499997854232788\n",
      "Validation Error: 0.08560001850128174\n",
      "Validation Error: 0.08539998531341553\n",
      "Validation Error: 0.08459997177124023\n",
      "Validation Error: 0.08539998531341553\n",
      "Validation Error: 0.08520001173019409\n",
      "Validation Error: 0.08499997854232788\n",
      "Validation Error: 0.08520001173019409\n",
      "Validation Error: 0.08520001173019409\n",
      "Validation Error: 0.08480000495910645\n",
      "Validation Error: 0.08539998531341553\n",
      "Validation Error: 0.08539998531341553\n",
      "Validation Error: 0.08459997177124023\n",
      "Validation Error: 0.08579999208450317\n",
      "Validation Error: 0.08480000495910645\n",
      "Validation Error: 0.08520001173019409\n",
      "Validation Error: 0.08539998531341553\n",
      "Validation Error: 0.08499997854232788\n",
      "Validation Error: 0.08520001173019409\n",
      "Validation Error: 0.08520001173019409\n",
      "Validation Error: 0.08480000495910645\n",
      "Validation Error: 0.0843999981880188\n",
      "Validation Error: 0.08520001173019409\n",
      "Validation Error: 0.08520001173019409\n",
      "Validation Error: 0.08480000495910645\n",
      "Validation Error: 0.0843999981880188\n",
      "Validation Error: 0.08399999141693115\n",
      "Validation Error: 0.08520001173019409\n",
      "Validation Error: 0.08499997854232788\n",
      "Validation Error: 0.08499997854232788\n",
      "Validation Error: 0.0843999981880188\n",
      "Validation Error: 0.08539998531341553\n",
      "Validation Error: 0.08459997177124023\n",
      "Validation Error: 0.08539998531341553\n",
      "Validation Error: 0.08520001173019409\n",
      "Validation Error: 0.08539998531341553\n",
      "Validation Error: 0.08499997854232788\n",
      "Validation Error: 0.08480000495910645\n",
      "Validation Error: 0.08399999141693115\n",
      "Validation Error: 0.08420002460479736\n",
      "Validation Error: 0.08480000495910645\n",
      "Validation Error: 0.08459997177124023\n",
      "Validation Error: 0.08420002460479736\n",
      "Validation Error: 0.08459997177124023\n",
      "Validation Error: 0.08539998531341553\n",
      "Validation Error: 0.08520001173019409\n",
      "Validation Error: 0.08459997177124023\n",
      "Validation Error: 0.0843999981880188\n",
      "Validation Error: 0.0843999981880188\n",
      "Validation Error: 0.08480000495910645\n",
      "Validation Error: 0.08380001783370972\n",
      "Validation Error: 0.0843999981880188\n",
      "Validation Error: 0.08420002460479736\n",
      "Validation Error: 0.0843999981880188\n",
      "Validation Error: 0.08499997854232788\n",
      "Validation Error: 0.08480000495910645\n",
      "Validation Error: 0.08420002460479736\n",
      "Validation Error: 0.08420002460479736\n",
      "Validation Error: 0.08380001783370972\n",
      "Validation Error: 0.0835999846458435\n",
      "Validation Error: 0.08420002460479736\n",
      "Validation Error: 0.08399999141693115\n",
      "Validation Error: 0.08459997177124023\n",
      "Validation Error: 0.08520001173019409\n",
      "Validation Error: 0.08420002460479736\n",
      "Validation Error: 0.08459997177124023\n",
      "Validation Error: 0.08380001783370972\n",
      "Validation Error: 0.08420002460479736\n",
      "Validation Error: 0.08420002460479736\n",
      "Validation Error: 0.0835999846458435\n",
      "Validation Error: 0.08380001783370972\n",
      "Validation Error: 0.0835999846458435\n",
      "Validation Error: 0.08380001783370972\n",
      "Validation Error: 0.08380001783370972\n",
      "Validation Error: 0.08380001783370972\n",
      "Validation Error: 0.0835999846458435\n",
      "Validation Error: 0.08380001783370972\n",
      "Validation Error: 0.08380001783370972\n",
      "Validation Error: 0.08399999141693115\n",
      "Validation Error: 0.0843999981880188\n",
      "Validation Error: 0.08319997787475586\n",
      "Validation Error: 0.08380001783370972\n",
      "Validation Error: 0.0835999846458435\n",
      "Validation Error: 0.08380001783370972\n",
      "Validation Error: 0.08399999141693115\n",
      "Validation Error: 0.08380001783370972\n",
      "Validation Error: 0.0835999846458435\n",
      "Validation Error: 0.08399999141693115\n",
      "Validation Error: 0.08399999141693115\n",
      "Validation Error: 0.0835999846458435\n",
      "Validation Error: 0.08420002460479736\n",
      "Validation Error: 0.0835999846458435\n",
      "Validation Error: 0.08380001783370972\n",
      "Validation Error: 0.08340001106262207\n",
      "Validation Error: 0.08340001106262207\n",
      "Validation Error: 0.08399999141693115\n",
      "Validation Error: 0.08420002460479736\n",
      "Validation Error: 0.08420002460479736\n",
      "Validation Error: 0.0843999981880188\n",
      "Validation Error: 0.0835999846458435\n",
      "Validation Error: 0.08340001106262207\n",
      "Validation Error: 0.0835999846458435\n",
      "Validation Error: 0.08380001783370972\n",
      "Validation Error: 0.08340001106262207\n",
      "Validation Error: 0.0835999846458435\n",
      "Validation Error: 0.0835999846458435\n",
      "Validation Error: 0.08340001106262207\n",
      "Validation Error: 0.0835999846458435\n",
      "Validation Error: 0.0835999846458435\n",
      "Validation Error: 0.0835999846458435\n",
      "Validation Error: 0.0835999846458435\n",
      "Validation Error: 0.08319997787475586\n",
      "Validation Error: 0.08340001106262207\n",
      "Validation Error: 0.08319997787475586\n",
      "Validation Error: 0.08340001106262207\n",
      "Validation Error: 0.08340001106262207\n",
      "Validation Error: 0.08340001106262207\n",
      "Validation Error: 0.08340001106262207\n",
      "Validation Error: 0.08319997787475586\n",
      "Validation Error: 0.08340001106262207\n",
      "Validation Error: 0.0835999846458435\n",
      "Validation Error: 0.0835999846458435\n",
      "Validation Error: 0.08300000429153442\n",
      "Validation Error: 0.08319997787475586\n",
      "Validation Error: 0.08340001106262207\n",
      "Validation Error: 0.08340001106262207\n",
      "Validation Error: 0.08340001106262207\n",
      "Validation Error: 0.08279997110366821\n",
      "Validation Error: 0.08279997110366821\n",
      "Validation Error: 0.08319997787475586\n",
      "Validation Error: 0.08300000429153442\n",
      "Validation Error: 0.08300000429153442\n",
      "Validation Error: 0.0835999846458435\n",
      "Validation Error: 0.08319997787475586\n",
      "Validation Error: 0.08219999074935913\n"
     ]
    },
    {
     "name": "stdout",
     "output_type": "stream",
     "text": [
      "Validation Error: 0.08300000429153442\n",
      "Validation Error: 0.08259999752044678\n",
      "Validation Error: 0.08300000429153442\n",
      "Validation Error: 0.08300000429153442\n",
      "Validation Error: 0.08300000429153442\n",
      "Validation Error: 0.08160001039505005\n",
      "Validation Error: 0.08340001106262207\n",
      "Validation Error: 0.08319997787475586\n",
      "Validation Error: 0.08279997110366821\n",
      "Validation Error: 0.08259999752044678\n",
      "Validation Error: 0.08300000429153442\n",
      "Validation Error: 0.08279997110366821\n",
      "Validation Error: 0.08279997110366821\n",
      "Validation Error: 0.08259999752044678\n",
      "Validation Error: 0.08259999752044678\n",
      "Validation Error: 0.08319997787475586\n",
      "Validation Error: 0.08240002393722534\n",
      "Validation Error: 0.08179998397827148\n",
      "Validation Error: 0.08219999074935913\n",
      "Validation Error: 0.08279997110366821\n",
      "Validation Error: 0.08259999752044678\n",
      "Validation Error: 0.08279997110366821\n",
      "Validation Error: 0.08279997110366821\n",
      "Validation Error: 0.08219999074935913\n",
      "Validation Error: 0.08300000429153442\n",
      "Validation Error: 0.08259999752044678\n",
      "Validation Error: 0.08340001106262207\n",
      "Validation Error: 0.08240002393722534\n",
      "Validation Error: 0.08300000429153442\n",
      "Validation Error: 0.08300000429153442\n",
      "Validation Error: 0.08240002393722534\n",
      "Validation Error: 0.08340001106262207\n",
      "Validation Error: 0.08279997110366821\n",
      "Validation Error: 0.08279997110366821\n",
      "Validation Error: 0.08300000429153442\n",
      "Validation Error: 0.08319997787475586\n",
      "Validation Error: 0.0820000171661377\n",
      "Validation Error: 0.08240002393722534\n",
      "Validation Error: 0.08300000429153442\n",
      "Validation Error: 0.08300000429153442\n",
      "Validation Error: 0.08240002393722534\n",
      "Validation Error: 0.08259999752044678\n",
      "Validation Error: 0.08380001783370972\n",
      "Validation Error: 0.08300000429153442\n",
      "Validation Error: 0.08319997787475586\n",
      "Validation Error: 0.08259999752044678\n",
      "Validation Error: 0.08300000429153442\n",
      "Validation Error: 0.08259999752044678\n",
      "Validation Error: 0.08160001039505005\n",
      "Validation Error: 0.08139997720718384\n",
      "Validation Error: 0.08319997787475586\n",
      "Validation Error: 0.08259999752044678\n",
      "Validation Error: 0.08300000429153442\n",
      "Validation Error: 0.08240002393722534\n",
      "Validation Error: 0.08340001106262207\n",
      "Validation Error: 0.08300000429153442\n",
      "Validation Error: 0.08259999752044678\n",
      "Validation Error: 0.08259999752044678\n",
      "Validation Error: 0.08240002393722534\n",
      "Validation Error: 0.08179998397827148\n",
      "Validation Error: 0.08259999752044678\n",
      "Validation Error: 0.08240002393722534\n",
      "Validation Error: 0.0820000171661377\n",
      "Validation Error: 0.0820000171661377\n",
      "Validation Error: 0.08219999074935913\n",
      "Validation Error: 0.08279997110366821\n",
      "Validation Error: 0.08240002393722534\n",
      "Validation Error: 0.08219999074935913\n",
      "Validation Error: 0.08160001039505005\n",
      "Validation Error: 0.08219999074935913\n",
      "Validation Error: 0.08259999752044678\n",
      "Validation Error: 0.0820000171661377\n",
      "Validation Error: 0.08259999752044678\n",
      "Validation Error: 0.08219999074935913\n",
      "Validation Error: 0.08179998397827148\n",
      "Validation Error: 0.08139997720718384\n",
      "Validation Error: 0.0820000171661377\n",
      "Validation Error: 0.08240002393722534\n",
      "Validation Error: 0.08240002393722534\n",
      "Validation Error: 0.08219999074935913\n",
      "Validation Error: 0.08179998397827148\n",
      "Validation Error: 0.0820000171661377\n",
      "Validation Error: 0.0820000171661377\n",
      "Validation Error: 0.08139997720718384\n",
      "Validation Error: 0.08160001039505005\n",
      "Validation Error: 0.08160001039505005\n",
      "Validation Error: 0.08240002393722534\n",
      "Validation Error: 0.08139997720718384\n",
      "Validation Error: 0.08219999074935913\n",
      "Validation Error: 0.08219999074935913\n",
      "Validation Error: 0.08240002393722534\n",
      "Validation Error: 0.08139997720718384\n",
      "Validation Error: 0.08139997720718384\n",
      "Validation Error: 0.08160001039505005\n",
      "Validation Error: 0.08179998397827148\n",
      "Validation Error: 0.08179998397827148\n",
      "Validation Error: 0.08259999752044678\n",
      "Validation Error: 0.08160001039505005\n",
      "Validation Error: 0.08160001039505005\n",
      "Validation Error: 0.08160001039505005\n",
      "Validation Error: 0.08179998397827148\n",
      "Validation Error: 0.08179998397827148\n",
      "Validation Error: 0.0820000171661377\n",
      "Validation Error: 0.08179998397827148\n",
      "Validation Error: 0.0820000171661377\n",
      "Validation Error: 0.08160001039505005\n",
      "Validation Error: 0.0812000036239624\n",
      "Validation Error: 0.0820000171661377\n",
      "Validation Error: 0.0812000036239624\n",
      "Validation Error: 0.08099997043609619\n",
      "Validation Error: 0.08179998397827148\n",
      "Validation Error: 0.08160001039505005\n",
      "Validation Error: 0.08160001039505005\n",
      "Validation Error: 0.08240002393722534\n",
      "Validation Error: 0.08160001039505005\n",
      "Validation Error: 0.08139997720718384\n",
      "Validation Error: 0.08160001039505005\n",
      "Validation Error: 0.0812000036239624\n",
      "Validation Error: 0.08139997720718384\n",
      "Validation Error: 0.0812000036239624\n",
      "Validation Error: 0.08139997720718384\n",
      "Validation Error: 0.0812000036239624\n",
      "Validation Error: 0.08139997720718384\n",
      "Validation Error: 0.08139997720718384\n",
      "Validation Error: 0.08240002393722534\n",
      "Validation Error: 0.08139997720718384\n",
      "Validation Error: 0.08139997720718384\n",
      "Validation Error: 0.08179998397827148\n",
      "Validation Error: 0.08139997720718384\n",
      "Validation Error: 0.08099997043609619\n",
      "Optimization Finished!\n",
      "Test Accuracy: 0.9182\n"
     ]
    }
   ],
   "source": [
    "# Parameters\n",
    "\n",
    "learning_rate = 0.01\n",
    "training_epochs = 1000\n",
    "batch_size = 100\n",
    "display_step = 1\n",
    "\n",
    "with tf.Graph().as_default():\n",
    "    # mnist data image of shape 28*28=784\n",
    "    x = tf.placeholder(tf.float32, [None, 784])    \n",
    "    # 0-9 digits recognition => 10 classes\n",
    "    y = tf.placeholder(tf.float32, [None, 10])    \n",
    "    output = inference(x)    \n",
    "    cost = loss(output, y) \n",
    "    \n",
    "    global_step = tf.Variable(0, name='global_step', trainable=False)    \n",
    "    train_op = training(cost, global_step)    \n",
    "    eval_op = evaluate(output, y)\n",
    "    \n",
    "    summary_op = tf.summary.merge_all()    \n",
    "    saver = tf.train.Saver()\n",
    "    \n",
    "    sess = tf.Session()    \n",
    "    summary_writer = tf.summary.FileWriter(\"logistic_logs/\", graph=sess.graph)\n",
    "    \n",
    "    init_op = tf.global_variables_initializer()    \n",
    "    sess.run(init_op)\n",
    "    \n",
    "    # Training cycle\n",
    "    for epoch in range(training_epochs):\n",
    "        avg_cost = 0.\n",
    "        total_batch = int(mnist.train.num_examples/batch_size)\n",
    "        # Loop over all batches\n",
    "        for i in range(total_batch):\n",
    "            mbatch_x, mbatch_y = mnist.train.next_batch(batch_size)\n",
    "            # Fit training using batch data\n",
    "            feed_dict = {x : mbatch_x, y : mbatch_y}\n",
    "            sess.run(train_op, feed_dict=feed_dict)\n",
    "            # Compute average loss\n",
    "            minibatch_cost = sess.run(cost, feed_dict=feed_dict)\n",
    "            avg_cost += minibatch_cost/total_batch\n",
    "            \n",
    "        # Display logs per epoch step\n",
    "        if epoch % display_step == 0:\n",
    "            val_feed_dict = {\n",
    "                x : mnist.validation.images,\n",
    "                y : mnist.validation.labels\n",
    "            }\n",
    "            accuracy = sess.run(eval_op, feed_dict=val_feed_dict)\n",
    "            print (\"Validation Error:\", (1 - accuracy))\n",
    "            summary_str = sess.run(summary_op, feed_dict=feed_dict)\n",
    "            summary_writer.add_summary(summary_str, sess.run(global_step))\n",
    "            \n",
    "            saver.save(sess, \"logistic_logs/model-checkpoint\", global_step=global_step)\n",
    "            \n",
    "    print(\"Optimization Finished!\")\n",
    "    \n",
    "    test_feed_dict = {\n",
    "        x : mnist.test.images,\n",
    "        y : mnist.test.labels\n",
    "    }\n",
    "    accuracy = sess.run(eval_op, feed_dict=test_feed_dict)\n",
    "    print(\"Test Accuracy:\", accuracy)"
   ]
  },
  {
   "cell_type": "markdown",
   "metadata": {},
   "source": [
    "# References\n",
    "\n",
    "+ Hope, T., Resheff, Y. S., & Lieder, I. (2017). Learning TensorFlow: A Guide to Building Deep Learning Systems. \" O'Reilly Media, Inc.\".\n",
    "\n",
    "+ https://towardsdatascience.com/a-beginner-introduction-to-tensorflow-part-1-6d139e038278\n",
    "\n",
    "+ https://www.tensorflow.org/api_docs/python/tf/Graph\n"
   ]
  }
 ],
 "metadata": {
  "kernelspec": {
   "display_name": "Python 3",
   "language": "python",
   "name": "python3"
  },
  "language_info": {
   "codemirror_mode": {
    "name": "ipython",
    "version": 3
   },
   "file_extension": ".py",
   "mimetype": "text/x-python",
   "name": "python",
   "nbconvert_exporter": "python",
   "pygments_lexer": "ipython3",
   "version": "3.6.6"
  }
 },
 "nbformat": 4,
 "nbformat_minor": 2
}
