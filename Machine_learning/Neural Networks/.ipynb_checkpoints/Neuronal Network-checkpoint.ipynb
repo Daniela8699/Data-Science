{
 "cells": [
  {
   "cell_type": "markdown",
   "metadata": {},
   "source": [
    "__Author__: Christian Camilo Urcuqui López\n",
    "\n",
    "__Date__: 2 October 2018\n",
    "\n",
    "This nootebook illustrate the basic theory from the references and illustrate their applications to make an artificial neural network with Python. In order to cover these ideas, the content is divided in the next sections:\n",
    "+ [Perceptron](#Perceptron)\n",
    "+ [Linear Perceptrons as Neurons](#Linear-Perceptrons-as-Neurons) \n",
    "+ [Sigmoid, Tanh, and ReLU](#Sigmoid,-Tanh,-and-ReLU) \n",
    "\n",
    "\n",
    "\n",
    "# Perceptron\n",
    "\n",
    "In order to understand how the biological brain works to desingn artificial intelligence, Warren McCulloch and Walter Pitts published the first concept of a simplified brain cell [2].\n",
    "\n",
    "<img src=\"../../Utilities/warren_piits.jpg\" height=\"500\" width=\"500\"/>\n",
    "\n",
    "```\n",
    "McCulloch, W. S., & Pitts, W. (1943). A logical calculus of the ideas immanent in nervous activity. The bulletin of mathematical biophysics, 5(4), 115-133.\n",
    "```\n",
    "In their work they explained that a nerve cell can be represented as a simple logic gate with binary outputs; multiple signals arrive at the _dendrites_, are then integrated into the _cell body_, and, if the accumulated signal exceeds a certain threshold, an output signal is generated that will passed on by the _axon_.\n",
    "\n",
    "<img src=\"../../Utilities/perceptron_neuron.png\" height=\"500\" width=\"500\"/>\n",
    "\n",
    "\n",
    "\n",
    "Years ago, Frank Rosenblatt published the first concept of the perceptron at the age 1957 (Rosenblatt, F. (1958). The perceptron: a probabilistic model for information storage and organization in the brain. Psychological review, 65(6), 386.). \n",
    "\n",
    "From these ideas we can illustrate the representation of the biologic process in a mathematical process, the neuron gets its inputs along _dentrities_. Each of these incoming connections is dynamically strengthened or weakened based on how often it is used (the learn process that we have) and it's strength of each connection that detemrines the contribution of the input to the neuron's output. After this process, the inputs are summed together in the cell body. The sum is then transformed into a new signal that is propageted along the cell´s axon and sent off to other neurons. \n",
    "\n",
    "So, we can have the next inputs, outputs and a function:\n",
    "\n",
    "$w = [w_{1}, w_{2}, ..., w_{n}]$ it is the vector of weights for our perceptron\n",
    "\n",
    "$x = [x_{1}, w_{2}, ..., w_{n}]$ it is the vector of inputs \n",
    "\n",
    "$y = f(x \\cdot w + b)$ we can represent the function and the neuron's output, b is the _bias_ term to produce the logit"
   ]
  },
  {
   "cell_type": "markdown",
   "metadata": {},
   "source": [
    "# Linear Perceptrons as Neurons"
   ]
  },
  {
   "cell_type": "markdown",
   "metadata": {},
   "source": [
    "\n",
    "In this notebook we will explore and make the functions of a perceptron solution, in order to prove it's capacities we will use the IRIS dataset for a classification problem. For the propose of this exercise we will only explore a __binary classification problem (we don't make a model to for One-vs-all (OvA) or One-vs-rest(OvR))__\n",
    "\n",
    "This is the pseudo code of the perceptron:\n",
    "\n",
    "\n",
    "```\n",
    "1. start with random weights: w1, ..., wn, b\n",
    "2. For every misclassified point(X1, ..., Xn):\n",
    "    2.1. if prediction = 0:\n",
    "        - For i = 1 ... n:\n",
    "            - Change Wi + \\alfa xi\n",
    "        - Change b to b + \\alfa\n",
    "    2.2 if predictio = 1:\n",
    "        - For i = 1 ... n:\n",
    "            - Change Wi - \\alfa xi\n",
    "        - Change b to b - \\alfa\n",
    "\n",
    "```"
   ]
  },
  {
   "cell_type": "code",
   "execution_count": 10,
   "metadata": {},
   "outputs": [],
   "source": [
    "import numpy as np\n",
    "\n",
    "class Perceptron(object):\n",
    "  \n",
    "    \"\"\"Perceptron classifier\n",
    "    \n",
    "    Parameters\n",
    "    -----------\n",
    "    eta: float\n",
    "        It is the learning rate (between 0.0 and 1.0) remember that it is better to have a lower value\n",
    "    n_iter: int\n",
    "        Passes over the training dataset\n",
    "    \n",
    "    Attributes\n",
    "    -----------\n",
    "    w_ :1d-array\n",
    "        Weights after fitting\n",
    "    errors_ : list\n",
    "        Number of misclassifications in every epoch\n",
    "        \n",
    "    \"\"\"\n",
    "    # Setting the random seed\n",
    "    np.random.seed(42)\n",
    "    \n",
    "    \n",
    "    def __init__(self, eta=0.01, n_iter=10):\n",
    "        self.eta = eta\n",
    "        self.n_iter = n_iter\n",
    "        \n",
    "    def fit(self, X, y):\n",
    "        \"\"\" Fit training data.\n",
    "        \n",
    "        Parameters\n",
    "        ----------\n",
    "        X: {array-like}, shape = [n_samples, n_features]\n",
    "            Training vectors, where n_samples\n",
    "            is the numbner of samples and  n_features is the number of features\n",
    "        y: array-like, shape = [n_samples]\n",
    "            Target values.\n",
    "        \n",
    "        Returns\n",
    "        ----------\n",
    "        self: object       \n",
    "        \n",
    "        \"\"\"\n",
    "        # the next code generates a vector of zeros\n",
    "        self.w_ = np.zeros(1 + X.shape[1])\n",
    "        self.errors_ = []\n",
    "        \n",
    "        # the next lines is the learning process from the data\n",
    "        for _ in range(self.n_iter):\n",
    "            errors = 0 \n",
    "            for xi, target in zip(X, y):\n",
    "                # update the weigths according to the perceptron learning rule \n",
    "                update = self.eta * (target - self.predict(xi))\n",
    "                self.w_[1:] += update * xi\n",
    "                self.w_[0] += update\n",
    "                errors += int(update != 0.0)\n",
    "            self.errors_.append(errors)\n",
    "        return self\n",
    "    \n",
    "    # Prediction function\n",
    "    def net_input(self, X):\n",
    "        \"\"\"Calculate net input\"\"\"\n",
    "        # it is useful to calculate the vector dot product \n",
    "        # Wx + d\n",
    "        return np.dot(X, self.w_[1:]) + self.w_[0]\n",
    "    \n",
    "    # Step function\n",
    "    def predict(self, X):\n",
    "        \"\"\"Return class label after unit step\"\"\"\n",
    "        return np.where(self.net_input(X) >= 0.0, 1, -1)"
   ]
  },
  {
   "cell_type": "code",
   "execution_count": null,
   "metadata": {},
   "outputs": [],
   "source": [
    "# another way to make a perceptron\n",
    "\n",
    "import numpy as np\n",
    "\n",
    "np.random.seed(42)\n",
    "\n",
    "def stepFunction(t):\n",
    "    if t >= 0:\n",
    "        return 1\n",
    "    return 0\n",
    "\n",
    "def prediction(X, W, b):\n",
    "    return stepFunction((np.matmul(X,W)+b)[0])\n",
    "\n",
    "def perceptronStep(X, y, W, b, learn_rate = 0.01):\n",
    "    # Fill in code\n",
    "    for i in range(len(X)):\n",
    "        y_hat = prediction(X[i], W, b)\n",
    "        if y[i] - y_hat == 1:\n",
    "            W[0] += X[i][0] * learn_rate\n",
    "            W[1] += X[i][1] * learn_rate\n",
    "            b += learn_rate\n",
    "        elif y[i]-y_hat == -1:\n",
    "            W[0] -= X[i][0] * learn_rate\n",
    "            W[1] -= X[i][1] * learn_rate\n",
    "            b -= learn_rate\n",
    "    return W, b\n",
    "    \n",
    "def trainPerceptronAlgorithm(X, y, learn_rate = 0.01, num_epochs = 25):\n",
    "    x_min, x_max = min(X.T[0]), max(X.T[0])\n",
    "    y_min, y_max = min(X.T[1]), max(X.T[1])\n",
    "    # these code lines allows us to make the random W and b \n",
    "    W = np.array(np.random.rand(2,1))\n",
    "    b = np.random.rand(1)[0] + x_max\n",
    "    # These are the solution lines that get plotted below.\n",
    "    #boundary_lines = []\n",
    "    for i in range(num_epochs):\n",
    "        # In each epoch, we apply the perceptron step.\n",
    "        W, b = perceptronStep(X, y, W, b, learn_rate)\n",
    "        #boundary_lines.append((-W[0]/W[1], -b/W[1]))\n",
    "    return boundary_lines"
   ]
  },
  {
   "cell_type": "markdown",
   "metadata": {},
   "source": [
    "## Load the data\n",
    "\n",
    "Pandas is a library to load the Iris dataset from a public repository into a DataFrame Object "
   ]
  },
  {
   "cell_type": "code",
   "execution_count": 7,
   "metadata": {},
   "outputs": [
    {
     "data": {
      "text/html": [
       "<div>\n",
       "<style scoped>\n",
       "    .dataframe tbody tr th:only-of-type {\n",
       "        vertical-align: middle;\n",
       "    }\n",
       "\n",
       "    .dataframe tbody tr th {\n",
       "        vertical-align: top;\n",
       "    }\n",
       "\n",
       "    .dataframe thead th {\n",
       "        text-align: right;\n",
       "    }\n",
       "</style>\n",
       "<table border=\"1\" class=\"dataframe\">\n",
       "  <thead>\n",
       "    <tr style=\"text-align: right;\">\n",
       "      <th></th>\n",
       "      <th>0</th>\n",
       "      <th>1</th>\n",
       "      <th>2</th>\n",
       "      <th>3</th>\n",
       "      <th>4</th>\n",
       "    </tr>\n",
       "  </thead>\n",
       "  <tbody>\n",
       "    <tr>\n",
       "      <th>145</th>\n",
       "      <td>6.7</td>\n",
       "      <td>3.0</td>\n",
       "      <td>5.2</td>\n",
       "      <td>2.3</td>\n",
       "      <td>Iris-virginica</td>\n",
       "    </tr>\n",
       "    <tr>\n",
       "      <th>146</th>\n",
       "      <td>6.3</td>\n",
       "      <td>2.5</td>\n",
       "      <td>5.0</td>\n",
       "      <td>1.9</td>\n",
       "      <td>Iris-virginica</td>\n",
       "    </tr>\n",
       "    <tr>\n",
       "      <th>147</th>\n",
       "      <td>6.5</td>\n",
       "      <td>3.0</td>\n",
       "      <td>5.2</td>\n",
       "      <td>2.0</td>\n",
       "      <td>Iris-virginica</td>\n",
       "    </tr>\n",
       "    <tr>\n",
       "      <th>148</th>\n",
       "      <td>6.2</td>\n",
       "      <td>3.4</td>\n",
       "      <td>5.4</td>\n",
       "      <td>2.3</td>\n",
       "      <td>Iris-virginica</td>\n",
       "    </tr>\n",
       "    <tr>\n",
       "      <th>149</th>\n",
       "      <td>5.9</td>\n",
       "      <td>3.0</td>\n",
       "      <td>5.1</td>\n",
       "      <td>1.8</td>\n",
       "      <td>Iris-virginica</td>\n",
       "    </tr>\n",
       "  </tbody>\n",
       "</table>\n",
       "</div>"
      ],
      "text/plain": [
       "       0    1    2    3               4\n",
       "145  6.7  3.0  5.2  2.3  Iris-virginica\n",
       "146  6.3  2.5  5.0  1.9  Iris-virginica\n",
       "147  6.5  3.0  5.2  2.0  Iris-virginica\n",
       "148  6.2  3.4  5.4  2.3  Iris-virginica\n",
       "149  5.9  3.0  5.1  1.8  Iris-virginica"
      ]
     },
     "execution_count": 7,
     "metadata": {},
     "output_type": "execute_result"
    }
   ],
   "source": [
    "import pandas as pd\n",
    "\n",
    "df = pd.read_csv('https://archive.ics.uci.edu/ml/machine-learning-databases/iris/iris.data', header=None)\n",
    "df.tail()"
   ]
  },
  {
   "cell_type": "markdown",
   "metadata": {},
   "source": [
    "### Data preprocessing and visualization\n",
    "\n",
    "As I told, we will only explore a binary problem, so we will select the class labels that correspond to the 50 Iris-Setosa and 50 Iris-Versicolor flowers, and we will convert them in two interger class labels 1(Versicolor) and -1 (Setosa). Moreover, we will only extract the first feature columns (sepal length) and the third feature column (petal length) of those 100 traning samples. "
   ]
  },
  {
   "cell_type": "code",
   "execution_count": 5,
   "metadata": {},
   "outputs": [
    {
     "data": {
      "image/png": "[encoded data removed]",
      "text/plain": [
       "<Figure size 432x288 with 1 Axes>"
      ]
     },
     "metadata": {},
     "output_type": "display_data"
    }
   ],
   "source": [
    "import matplotlib.pyplot as plt\n",
    "import numpy as np\n",
    "\n",
    "# the next lines will filter the dataset\n",
    "y = df.iloc[0:100, 4].values\n",
    "y = np.where(y=='Iris-setosa',-1,1)\n",
    "X = df.iloc[0:100, [0,2]].values\n",
    "\n",
    "# the next lines will make the scatter plot \n",
    "plt.scatter(X[:50, 0], X[:50, 1], color='red', marker='o', label='setosa')\n",
    "plt.scatter(X[50:100, 0], X[50:100, 1], color='blue', marker='x', label='versicolor')\n",
    "plt.xlabel('petal length')\n",
    "plt.ylabel('sepal length')\n",
    "plt.legend(loc='upper left')\n",
    "plt.show()"
   ]
  },
  {
   "cell_type": "markdown",
   "metadata": {},
   "source": [
    "### Training phase \n",
    "\n",
    "It is time train our previous perceptron on the Iris Data that we downloaded. The next code will plot the misclassification error for each epoch to check if the algorithm converged and found a lmit that separates the two classes. "
   ]
  },
  {
   "cell_type": "code",
   "execution_count": 11,
   "metadata": {},
   "outputs": [
    {
     "data": {
      "image/png": "[encoded data removed]",
      "text/plain": [
       "<Figure size 432x288 with 1 Axes>"
      ]
     },
     "metadata": {},
     "output_type": "display_data"
    }
   ],
   "source": [
    "ppn = Perceptron (eta=0.1, n_iter=10)\n",
    "ppn.fit(X,y)\n",
    "plt.plot(range(1, len(ppn.errors_) + 1), ppn.errors_, marker='o')\n",
    "plt.xlabel(\"Epochs\")\n",
    "plt.ylabel(\"Number of misclassifications\")\n",
    "plt.show()\n"
   ]
  },
  {
   "cell_type": "markdown",
   "metadata": {},
   "source": [
    "The previous graphic shows us that the perceptron converges in the epoch 6. The next code provides us a visualization mechanism to know the decision boundaries."
   ]
  },
  {
   "cell_type": "code",
   "execution_count": 16,
   "metadata": {},
   "outputs": [
    {
     "data": {
      "image/png": "[encoded data removed]",
      "text/plain": [
       "<Figure size 432x288 with 1 Axes>"
      ]
     },
     "metadata": {},
     "output_type": "display_data"
    }
   ],
   "source": [
    "from matplotlib.colors import ListedColormap\n",
    "\n",
    "def plot_decision_regions(X, y, classifier, resolution=0.02):\n",
    "    \n",
    "    # setup marker generator and color map, I am goint to define a number of colors and markers via ListedColormap\n",
    "    markers = ('s', 'x', 'o', '^', 'v')\n",
    "    colors = ('red', 'blue', 'lightgreen', 'gray', 'cyan')\n",
    "    cmap = ListedColormap(colors[:len(np.unique(y))])\n",
    "    \n",
    "    # plot the decision surface\n",
    "    # the next two lines define us the minimum and maximum values for the two features, so we will divide them in a pair of grids\n",
    "    x1_min, x1_max = X[:, 0].min() -1, X[:, 0].max() + 1\n",
    "    x2_min, x2_max = X[:, 1].min() -1, X[:, 1].max() + 1\n",
    "    # the next line allows us to flatten the grid arrays and create a matrix that has the same number of columns as the Iris \n",
    "    # training subset\n",
    "    xx1, xx2 =  np.meshgrid(np.arange(x1_min, x2_max, resolution), np.arange(x2_min, x2_max, resolution))\n",
    "    Z = classifier.predict(np.array([xx1.ravel(), xx2.ravel()]).T)\n",
    "    Z = Z.reshape(xx1.shape)\n",
    "    # a countour plot maps the different decision regions to different colors for each predicted class in the grid array\n",
    "    plt.contourf(xx1, xx2, Z, alpha=0.4, cmap=cmap)\n",
    "    plt.xlim(xx1.min(), xx1.max())\n",
    "    plt.ylim(xx2.min(), xx2.max())\n",
    "    \n",
    "    # plot class samples\n",
    "    for idx, cl in enumerate(np.unique(y)):\n",
    "        plt.scatter(x=X[y == cl, 0], y=X[y == cl, 1], alpha=0.8, c=cmap(idx), marker= markers[idx], label=cl)\n",
    "    \n",
    "plot_decision_regions(X, y, classifier=ppn)\n",
    "plt.xlabel('sepal length [cm]')\n",
    "plt.ylabel('petal length [cm]')\n",
    "plt.legend(loc='upper left')\n",
    "plt.show()\n",
    "    \n",
    "\n",
    "    "
   ]
  },
  {
   "cell_type": "markdown",
   "metadata": {},
   "source": [
    "According to Frank Rosenblatt, Perceptron is a good choice to revolve binary problems that are separated by a linear hyperplane (he proved this mathematically). However, if classes cannot be separated perfectly by such a linear decision boundary, the weights will never stop updating unless we set a maximum number of epochs. "
   ]
  },
  {
   "cell_type": "markdown",
   "metadata": {},
   "source": [
    "It is important to know that a perceptron allows us to separate a binary problem by a linear hyperplane, and through its result, we can use a step function in order to interpret them. In the last example we got two categorizations red for setoza and blue for versicolor, some of the step funcions are Sigmoid, Tanh, and ReLU. We can illustrate the representation of a perceptron like a combination of the next components. \n",
    "\n",
    "![image](../../Utilities/perceptron_general.png)\n",
    "\n"
   ]
  },
  {
   "cell_type": "markdown",
   "metadata": {},
   "source": [
    "## AND Perceptron \n",
    "\n",
    "\n",
    "The idea with the next example is to determine the correct weights and bias in order to make an AND Perceptron."
   ]
  },
  {
   "cell_type": "code",
   "execution_count": 7,
   "metadata": {},
   "outputs": [
    {
     "name": "stdout",
     "output_type": "stream",
     "text": [
      "Nice!  You got it all correct.\n",
      "\n",
      "Input 1    Input 2    Linear Combination    Activation Output   Is Correct\n",
      "      0          0                  -1.0                    0          Yes\n",
      "      0          1                  -0.5                    0          Yes\n",
      "      1          0                  -0.5                    0          Yes\n",
      "      1          1                   0.0                    1          Yes\n"
     ]
    }
   ],
   "source": [
    "import pandas as pd\n",
    "\n",
    "# TODO: Set weight1, weight2, and bias\n",
    "weight1 = 0.5\n",
    "weight2 = 0.5\n",
    "bias = -1\n",
    "\n",
    "\n",
    "# DON'T CHANGE ANYTHING BELOW\n",
    "# Inputs and outputs\n",
    "test_inputs = [(0, 0), (0, 1), (1, 0), (1, 1)]\n",
    "correct_outputs = [False, False, False, True]\n",
    "outputs = []\n",
    "\n",
    "# Generate and check output\n",
    "for test_input, correct_output in zip(test_inputs, correct_outputs):    \n",
    "    linear_combination = weight1 * test_input[0] + weight2 * test_input[1] + bias\n",
    "    output = int(linear_combination >= 0)\n",
    "    is_correct_string = 'Yes' if output == correct_output else 'No'\n",
    "    outputs.append([test_input[0], test_input[1], linear_combination, output, is_correct_string])\n",
    "\n",
    "# Print output\n",
    "num_wrong = len([output[4] for output in outputs if output[4] == 'No'])\n",
    "output_frame = pd.DataFrame(outputs, columns=['Input 1', '  Input 2', '  Linear Combination', '  Activation Output', '  Is Correct'])\n",
    "if not num_wrong:\n",
    "    print('Nice!  You got it all correct.\\n')\n",
    "else:\n",
    "    print('You got {} wrong.  Keep trying!\\n'.format(num_wrong))\n",
    "print(output_frame.to_string(index=False))"
   ]
  },
  {
   "cell_type": "markdown",
   "metadata": {},
   "source": [
    "## OR Perceptron\n",
    "\n",
    "The idea with the next example is to determine the correct weights and bias in order to make an OR Perceptron."
   ]
  },
  {
   "cell_type": "code",
   "execution_count": 11,
   "metadata": {},
   "outputs": [
    {
     "name": "stdout",
     "output_type": "stream",
     "text": [
      "Nice!  You got it all correct.\n",
      "\n",
      "Input 1    Input 2    Linear Combination    Activation Output   Is Correct\n",
      "      0          0                  -0.5                    0          Yes\n",
      "      0          1                   0.0                    1          Yes\n",
      "      1          0                   0.0                    1          Yes\n",
      "      1          1                   0.5                    1          Yes\n"
     ]
    }
   ],
   "source": [
    "import pandas as pd\n",
    "\n",
    "# TODO: Set weight1, weight2, and bias\n",
    "weight1 = 0.5\n",
    "weight2 = 0.5\n",
    "bias = -0.5\n",
    "\n",
    "\n",
    "# DON'T CHANGE ANYTHING BELOW\n",
    "# Inputs and outputs\n",
    "test_inputs = [(0, 0), (0, 1), (1, 0), (1, 1)]\n",
    "correct_outputs = [False, True, True, True]\n",
    "outputs = []\n",
    "\n",
    "# Generate and check output\n",
    "for test_input, correct_output in zip(test_inputs, correct_outputs):    \n",
    "    linear_combination = weight1 * test_input[0] + weight2 * test_input[1] + bias\n",
    "    output = int(linear_combination >= 0)\n",
    "    is_correct_string = 'Yes' if output == correct_output else 'No'\n",
    "    outputs.append([test_input[0], test_input[1], linear_combination, output, is_correct_string])\n",
    "\n",
    "# Print output\n",
    "num_wrong = len([output[4] for output in outputs if output[4] == 'No'])\n",
    "output_frame = pd.DataFrame(outputs, columns=['Input 1', '  Input 2', '  Linear Combination', '  Activation Output', '  Is Correct'])\n",
    "if not num_wrong:\n",
    "    print('Nice!  You got it all correct.\\n')\n",
    "else:\n",
    "    print('You got {} wrong.  Keep trying!\\n'.format(num_wrong))\n",
    "print(output_frame.to_string(index=False))"
   ]
  },
  {
   "cell_type": "markdown",
   "metadata": {},
   "source": [
    "## NOT Perceptron"
   ]
  },
  {
   "cell_type": "code",
   "execution_count": 12,
   "metadata": {},
   "outputs": [
    {
     "name": "stdout",
     "output_type": "stream",
     "text": [
      "Nice!  You got it all correct.\n",
      "\n",
      "Input 1    Input 2    Linear Combination    Activation Output   Is Correct\n",
      "      0          0                   0.0                    1          Yes\n",
      "      0          1                  -0.5                    0          Yes\n",
      "      1          0                   0.0                    1          Yes\n",
      "      1          1                  -0.5                    0          Yes\n"
     ]
    }
   ],
   "source": [
    "import pandas as pd\n",
    "\n",
    "# TODO: Set weight1, weight2, and bias\n",
    "weight1 = 0.0\n",
    "weight2 = -0.5\n",
    "bias = 0.0\n",
    "\n",
    "\n",
    "# DON'T CHANGE ANYTHING BELOW\n",
    "# Inputs and outputs\n",
    "test_inputs = [(0, 0), (0, 1), (1, 0), (1, 1)]\n",
    "correct_outputs = [True, False, True, False]\n",
    "outputs = []\n",
    "\n",
    "# Generate and check output\n",
    "for test_input, correct_output in zip(test_inputs, correct_outputs):\n",
    "    linear_combination = weight1 * test_input[0] + weight2 * test_input[1] + bias\n",
    "    output = int(linear_combination >= 0)\n",
    "    is_correct_string = 'Yes' if output == correct_output else 'No'\n",
    "    outputs.append([test_input[0], test_input[1], linear_combination, output, is_correct_string])\n",
    "\n",
    "# Print output\n",
    "num_wrong = len([output[4] for output in outputs if output[4] == 'No'])\n",
    "output_frame = pd.DataFrame(outputs, columns=['Input 1', '  Input 2', '  Linear Combination', '  Activation Output', '  Is Correct'])\n",
    "if not num_wrong:\n",
    "    print('Nice!  You got it all correct.\\n')\n",
    "else:\n",
    "    print('You got {} wrong.  Keep trying!\\n'.format(num_wrong))\n",
    "print(output_frame.to_string(index=False))"
   ]
  },
  {
   "cell_type": "markdown",
   "metadata": {},
   "source": [
    "## XOR Perceptron \n",
    "\n",
    "The only way to make a XOR Perceptron is to make a multilayer perceptron integrated by  OR and NAND (NAND is an interconnection of an AND and NOT logic ports) neurons whose results are going to be a part of a AND neuron."
   ]
  },
  {
   "cell_type": "markdown",
   "metadata": {},
   "source": [
    "## Error Function\n",
    "\n",
    "How far are we from the objective? The error function (Log-loss error function) allows us to take the best direction, but, this function needs to be differentiable and continuous. In our case, we are going to talk about the gradient descent.\n",
    "\n",
    "<img src=\"../../Utilities/gradient_interpretation.png\" height=\"500\" width=\"500\"/>\n",
    "\n",
    "In order to apply gradient descent we must talk about continuous predictions, in other words, we must move from discrete predictions to continuous. Each probability is a representation of the distance of the line (the regresion function for our example).\n",
    "\n",
    "The way to move to descriptive predictions to continuous predictions is to change the step function (_activation function_) to a sigmoid function. "
   ]
  },
  {
   "cell_type": "markdown",
   "metadata": {},
   "source": [
    "## Sigmoid, Tanh, and ReLU\n",
    "\n",
    "The sigmoid function allows us to get results from 0 to 1 like a probability representation. \n",
    "\n",
    "<img src=\"https://upload.wikimedia.org/wikipedia/commons/thumb/8/88/Logistic-curve.svg/320px-Logistic-curve.svg.png\" height=\"250\" width=\"250\"/>\n",
    "\n",
    "The sigmoid formula is:\n",
    "\n",
    "\n",
    "$\\sigma(x)=\\frac{1}{1 + e^{-x}}$\n"
   ]
  },
  {
   "cell_type": "markdown",
   "metadata": {},
   "source": [
    "## Softmax \n",
    "\n",
    "If we have a classification problem with more than two categories we could use the softmax function that allows us to make predictions with probabilities on each category. \n",
    "\n",
    "It is a function that gives a probability between 0 to 1 for each values in a array, for example if we are in a classification problem the idea is to apply this function to transform the machine learning's output in probabilities.\n",
    "\n",
    "This is the softmax function:\n",
    "\n",
    "$S(k_{i})=\\frac{e^y_{i}}{\\sum_{j}^{} e^y_{i}}$\n",
    "\n",
    "\n"
   ]
  },
  {
   "cell_type": "code",
   "execution_count": 6,
   "metadata": {},
   "outputs": [
    {
     "name": "stdout",
     "output_type": "stream",
     "text": [
      "[0.8360188  0.11314284 0.05083836]\n"
     ]
    }
   ],
   "source": [
    "scores = [3.0, 1.0, 0.2]\n",
    "\n",
    "import numpy as np \n",
    "\n",
    "def softmax(X):\n",
    "    return (np.exp(X)/np.sum(np.exp(X), axis=0))\n",
    "\n",
    "print(softmax(scores))"
   ]
  },
  {
   "cell_type": "code",
   "execution_count": 11,
   "metadata": {},
   "outputs": [
    {
     "name": "stdout",
     "output_type": "stream",
     "text": [
      "[-2.00000000e+00 -1.90000000e+00 -1.80000000e+00 -1.70000000e+00\n",
      " -1.60000000e+00 -1.50000000e+00 -1.40000000e+00 -1.30000000e+00\n",
      " -1.20000000e+00 -1.10000000e+00 -1.00000000e+00 -9.00000000e-01\n",
      " -8.00000000e-01 -7.00000000e-01 -6.00000000e-01 -5.00000000e-01\n",
      " -4.00000000e-01 -3.00000000e-01 -2.00000000e-01 -1.00000000e-01\n",
      "  1.77635684e-15  1.00000000e-01  2.00000000e-01  3.00000000e-01\n",
      "  4.00000000e-01  5.00000000e-01  6.00000000e-01  7.00000000e-01\n",
      "  8.00000000e-01  9.00000000e-01  1.00000000e+00  1.10000000e+00\n",
      "  1.20000000e+00  1.30000000e+00  1.40000000e+00  1.50000000e+00\n",
      "  1.60000000e+00  1.70000000e+00  1.80000000e+00  1.90000000e+00\n",
      "  2.00000000e+00  2.10000000e+00  2.20000000e+00  2.30000000e+00\n",
      "  2.40000000e+00  2.50000000e+00  2.60000000e+00  2.70000000e+00\n",
      "  2.80000000e+00  2.90000000e+00  3.00000000e+00  3.10000000e+00\n",
      "  3.20000000e+00  3.30000000e+00  3.40000000e+00  3.50000000e+00\n",
      "  3.60000000e+00  3.70000000e+00  3.80000000e+00  3.90000000e+00\n",
      "  4.00000000e+00  4.10000000e+00  4.20000000e+00  4.30000000e+00\n",
      "  4.40000000e+00  4.50000000e+00  4.60000000e+00  4.70000000e+00\n",
      "  4.80000000e+00  4.90000000e+00  5.00000000e+00  5.10000000e+00\n",
      "  5.20000000e+00  5.30000000e+00  5.40000000e+00  5.50000000e+00\n",
      "  5.60000000e+00  5.70000000e+00  5.80000000e+00  5.90000000e+00]\n",
      "(80,)\n",
      "(3, 80)\n",
      "----\n",
      "[[-2.00000000e+00 -1.90000000e+00 -1.80000000e+00 -1.70000000e+00\n",
      "  -1.60000000e+00 -1.50000000e+00 -1.40000000e+00 -1.30000000e+00\n",
      "  -1.20000000e+00 -1.10000000e+00 -1.00000000e+00 -9.00000000e-01\n",
      "  -8.00000000e-01 -7.00000000e-01 -6.00000000e-01 -5.00000000e-01\n",
      "  -4.00000000e-01 -3.00000000e-01 -2.00000000e-01 -1.00000000e-01\n",
      "   1.77635684e-15  1.00000000e-01  2.00000000e-01  3.00000000e-01\n",
      "   4.00000000e-01  5.00000000e-01  6.00000000e-01  7.00000000e-01\n",
      "   8.00000000e-01  9.00000000e-01  1.00000000e+00  1.10000000e+00\n",
      "   1.20000000e+00  1.30000000e+00  1.40000000e+00  1.50000000e+00\n",
      "   1.60000000e+00  1.70000000e+00  1.80000000e+00  1.90000000e+00\n",
      "   2.00000000e+00  2.10000000e+00  2.20000000e+00  2.30000000e+00\n",
      "   2.40000000e+00  2.50000000e+00  2.60000000e+00  2.70000000e+00\n",
      "   2.80000000e+00  2.90000000e+00  3.00000000e+00  3.10000000e+00\n",
      "   3.20000000e+00  3.30000000e+00  3.40000000e+00  3.50000000e+00\n",
      "   3.60000000e+00  3.70000000e+00  3.80000000e+00  3.90000000e+00\n",
      "   4.00000000e+00  4.10000000e+00  4.20000000e+00  4.30000000e+00\n",
      "   4.40000000e+00  4.50000000e+00  4.60000000e+00  4.70000000e+00\n",
      "   4.80000000e+00  4.90000000e+00  5.00000000e+00  5.10000000e+00\n",
      "   5.20000000e+00  5.30000000e+00  5.40000000e+00  5.50000000e+00\n",
      "   5.60000000e+00  5.70000000e+00  5.80000000e+00  5.90000000e+00]\n",
      " [ 1.00000000e+00  1.00000000e+00  1.00000000e+00  1.00000000e+00\n",
      "   1.00000000e+00  1.00000000e+00  1.00000000e+00  1.00000000e+00\n",
      "   1.00000000e+00  1.00000000e+00  1.00000000e+00  1.00000000e+00\n",
      "   1.00000000e+00  1.00000000e+00  1.00000000e+00  1.00000000e+00\n",
      "   1.00000000e+00  1.00000000e+00  1.00000000e+00  1.00000000e+00\n",
      "   1.00000000e+00  1.00000000e+00  1.00000000e+00  1.00000000e+00\n",
      "   1.00000000e+00  1.00000000e+00  1.00000000e+00  1.00000000e+00\n",
      "   1.00000000e+00  1.00000000e+00  1.00000000e+00  1.00000000e+00\n",
      "   1.00000000e+00  1.00000000e+00  1.00000000e+00  1.00000000e+00\n",
      "   1.00000000e+00  1.00000000e+00  1.00000000e+00  1.00000000e+00\n",
      "   1.00000000e+00  1.00000000e+00  1.00000000e+00  1.00000000e+00\n",
      "   1.00000000e+00  1.00000000e+00  1.00000000e+00  1.00000000e+00\n",
      "   1.00000000e+00  1.00000000e+00  1.00000000e+00  1.00000000e+00\n",
      "   1.00000000e+00  1.00000000e+00  1.00000000e+00  1.00000000e+00\n",
      "   1.00000000e+00  1.00000000e+00  1.00000000e+00  1.00000000e+00\n",
      "   1.00000000e+00  1.00000000e+00  1.00000000e+00  1.00000000e+00\n",
      "   1.00000000e+00  1.00000000e+00  1.00000000e+00  1.00000000e+00\n",
      "   1.00000000e+00  1.00000000e+00  1.00000000e+00  1.00000000e+00\n",
      "   1.00000000e+00  1.00000000e+00  1.00000000e+00  1.00000000e+00\n",
      "   1.00000000e+00  1.00000000e+00  1.00000000e+00  1.00000000e+00]\n",
      " [ 2.00000000e-01  2.00000000e-01  2.00000000e-01  2.00000000e-01\n",
      "   2.00000000e-01  2.00000000e-01  2.00000000e-01  2.00000000e-01\n",
      "   2.00000000e-01  2.00000000e-01  2.00000000e-01  2.00000000e-01\n",
      "   2.00000000e-01  2.00000000e-01  2.00000000e-01  2.00000000e-01\n",
      "   2.00000000e-01  2.00000000e-01  2.00000000e-01  2.00000000e-01\n",
      "   2.00000000e-01  2.00000000e-01  2.00000000e-01  2.00000000e-01\n",
      "   2.00000000e-01  2.00000000e-01  2.00000000e-01  2.00000000e-01\n",
      "   2.00000000e-01  2.00000000e-01  2.00000000e-01  2.00000000e-01\n",
      "   2.00000000e-01  2.00000000e-01  2.00000000e-01  2.00000000e-01\n",
      "   2.00000000e-01  2.00000000e-01  2.00000000e-01  2.00000000e-01\n",
      "   2.00000000e-01  2.00000000e-01  2.00000000e-01  2.00000000e-01\n",
      "   2.00000000e-01  2.00000000e-01  2.00000000e-01  2.00000000e-01\n",
      "   2.00000000e-01  2.00000000e-01  2.00000000e-01  2.00000000e-01\n",
      "   2.00000000e-01  2.00000000e-01  2.00000000e-01  2.00000000e-01\n",
      "   2.00000000e-01  2.00000000e-01  2.00000000e-01  2.00000000e-01\n",
      "   2.00000000e-01  2.00000000e-01  2.00000000e-01  2.00000000e-01\n",
      "   2.00000000e-01  2.00000000e-01  2.00000000e-01  2.00000000e-01\n",
      "   2.00000000e-01  2.00000000e-01  2.00000000e-01  2.00000000e-01\n",
      "   2.00000000e-01  2.00000000e-01  2.00000000e-01  2.00000000e-01\n",
      "   2.00000000e-01  2.00000000e-01  2.00000000e-01  2.00000000e-01]]\n"
     ]
    },
    {
     "data": {
      "image/png": "[encoded data removed]",
      "text/plain": [
       "<Figure size 432x288 with 1 Axes>"
      ]
     },
     "metadata": {},
     "output_type": "display_data"
    }
   ],
   "source": [
    "#Let's plot the softmax curves\n",
    "import matplotlib.pyplot as plt\n",
    "\n",
    "# we are goint to make a ndarray from -2 to 6 (excluded) integrated with the numbers by 0.1\n",
    "x = np.arange(-2.0, 6.0, 0.1)\n",
    "print(x)\n",
    "print(x.shape)\n",
    "# the numpy method vstack joins a sequence of arrays along a new axis.\n",
    "# the method numpy.ones_like returns an array of ones with the same shape and type as a given array\n",
    "scores = np.vstack([x,np.ones_like(x), 0.2 * np.ones_like(x)])\n",
    "print(scores.shape)\n",
    "print(\"----\")\n",
    "print(scores)\n",
    "\n",
    "plt.plot(x, softmax(scores).T, linewidth=2)\n",
    "plt.show()"
   ]
  },
  {
   "cell_type": "markdown",
   "metadata": {},
   "source": [
    "## One-Hot encoding\n",
    "\n",
    "Sometimes we must work with categorical variables, variables that can't code by a regular encoding. In order to process those variables we can use the method One-Hot encoding, this allows us to make new columns for each category (_dummy variables_).\n",
    "\n",
    "Let's see the application of the numpy method that allows us to make these dummy variables."
   ]
  },
  {
   "cell_type": "code",
   "execution_count": 14,
   "metadata": {},
   "outputs": [
    {
     "name": "stdout",
     "output_type": "stream",
     "text": [
      "These are the dimensions of the DataFrame without one-hot encoding: (3, 2)\n",
      "These are the dimensions of the DataFrame with one-hot encoding: (3, 6)\n"
     ]
    }
   ],
   "source": [
    "import pandas as pd\n",
    "from pandas import Series, DataFrame\n",
    "\n",
    "dictionary = {'name': ['camilo', 'daniel', 'mariana'],\n",
    "             'category': ['student', 'researcher', 'teacher']\n",
    "             }\n",
    "\n",
    "frame = DataFrame(dictionary)\n",
    "print(\"These are the dimensions of the DataFrame without one-hot encoding: \"+ str(frame.shape))\n",
    "new_frame = pd.get_dummies(frame)\n",
    "print(\"These are the dimensions of the DataFrame with one-hot encoding: \" + str(new_frame.shape))"
   ]
  },
  {
   "cell_type": "markdown",
   "metadata": {},
   "source": [
    "## Cross Entropy\n",
    "\n",
    "If we want to evaluate the models we might take all of probability results and multiple them in order to get the accuracy of each model, for example, think that we had trained two models (like perceptrons) to predict the probabilities of two colors, blue and red, and during the prediction test of four data we got the next results:\n",
    "_Model one_\n",
    "+ $P(point_{one}) = 0.7$\n",
    "+ $P(point_{two}) = 0.1$\n",
    "+ $P(point_{three}) = 0.6$\n",
    "+ $P(point_{four}) = 0.2$\n",
    "\n",
    "_Model two_\n",
    "+ $P(point_{one}) = 0.7$\n",
    "+ $P(point_{two}) = 0.9$\n",
    "+ $P(point_{three}) = 0.8$\n",
    "+ $P(point_{four}) = 0.6$\n",
    "\n",
    "\n",
    "The result of the model will be $ 0.7 * 0.6 * 0.1 * 0.2 =  0.0084$, this model is not good, nevertheless of the model two that is better with 0.3024.\n",
    "\n",
    "The problem to use this kind of operation in order to know the performance of the model is not good because a multiplication operation with a lot of features will have computing cost. One solution is to apply a sum between each probability, in order to apply this we can use the logarithmic function like $ln(A * B) = ln(A) + ln(B)$.\n"
   ]
  },
  {
   "cell_type": "code",
   "execution_count": 21,
   "metadata": {},
   "outputs": [
    {
     "data": {
      "image/png": "[encoded data removed]",
      "text/plain": [
       "<Figure size 432x288 with 1 Axes>"
      ]
     },
     "metadata": {},
     "output_type": "display_data"
    }
   ],
   "source": [
    "import matplotlib.pyplot as plt\n",
    "import numpy as np\n",
    "\n",
    "x = np.arange(0.1 , 6.0, 0.1)\n",
    "\n",
    "plt.plot(x, np.log10(x).T, linewidth=2)\n",
    "plt.grid(True)\n",
    "plt.show()"
   ]
  },
  {
   "cell_type": "markdown",
   "metadata": {},
   "source": [
    "\n",
    "So let's see the application of logarithmic function:\n",
    "\n",
    "$ln(0.6) + ln(0.2) + ln(0.1) + ln(0.7)  = (-0.51) + (-1.61) + (-2.3) + (-0.36)$\n",
    "\n",
    "But the idea is to have positive numbers, with this idea we are going to multiply them with -1 and we get the next operation:\n",
    "\n",
    "$(0.51) + (1.61) + (2.3) + (0.36) = 4.8$ \n",
    "\n",
    "This process is called _cross entropy_.\n",
    "\n",
    "This is the cross entropy of the second model:\n",
    "\n",
    "$ - ln(0.7) -  ln(0.9) - ln(0.8) -  ln(0.6)  = (0.36) + (0.1) + (0.22) + (0.51) =  1.2$\n",
    "\n",
    "Like the multiplication of each probability we have that the second model is the best, we can say that the model with the low cross entropy is the best that represent the hypothesis for our dataset.\n",
    "\n",
    "So, we can say that our __goal is minimize the Cross Entropy__\n"
   ]
  },
  {
   "cell_type": "markdown",
   "metadata": {},
   "source": [
    "So the next idea is \"we must calculate the cross entropy of each scenario behind the combination of each category\". So the cross-entropy tells us when two vectors are similar or different. \n",
    "\n",
    "$Cross Entropy = - \\sum_{i=1}^{m} y_{i}ln(p_{i}) + (1 - y_{i}) ln(1 -p_{i})$"
   ]
  },
  {
   "cell_type": "code",
   "execution_count": 68,
   "metadata": {},
   "outputs": [
    {
     "name": "stdout",
     "output_type": "stream",
     "text": [
      "The cross entropy is 4.828313737302301\n"
     ]
    }
   ],
   "source": [
    "import numpy as np \n",
    "\n",
    "def cross_entropy(Y, P):\n",
    "    return -1 * (np.sum(np.dot(Y, np.log(P)) + np.dot(np.subtract(1,Y), (np.log(np.subtract(1,P))))))   \n",
    "\n",
    "Y = np.array([1.0, 0.0, 1.0, 1.0], dtype=np.float64)\n",
    "P = np.array([0.4, 0.6, 0.1, 0.5], dtype=np.float64)\n",
    "\n",
    "print(\"The cross entropy is \" + str(cross_entropy(Y, P)))\n"
   ]
  },
  {
   "cell_type": "markdown",
   "metadata": {},
   "source": [
    "But we must think to problems with more than two clasess, with this idea in your head we can illustrate the _Multi-Class Cross-Entropy_ formula:\n",
    "\n",
    "$Cross Entropy = - \\sum_{i=1}^{n} \\sum_{j=1}^{m} y_{(i,j)}ln(p_{(i,j)})$\n"
   ]
  },
  {
   "cell_type": "markdown",
   "metadata": {},
   "source": [
    "## References\n",
    "\n",
    "+ Raschka, S. (2015). Python machine learning. Packt Publishing Ltd.\n",
    "+ https://sebastianraschka.com/Articles/2015_singlelayer_neurons.html\n",
    "+ Buduma, N., & Locascio, N. (2017). Fundamentals of deep learning: Designing next-generation machine intelligence algorithms. \" O'Reilly Media, Inc.\".\n",
    "+ Udacity. Introduction to Neural Networks. \n",
    "+ https://imaddabbura.github.io/post/gradient_descent_algorithms/\n"
   ]
  }
 ],
 "metadata": {
  "kernelspec": {
   "display_name": "Python 3",
   "language": "python",
   "name": "python3"
  },
  "language_info": {
   "codemirror_mode": {
    "name": "ipython",
    "version": 3
   },
   "file_extension": ".py",
   "mimetype": "text/x-python",
   "name": "python",
   "nbconvert_exporter": "python",
   "pygments_lexer": "ipython3",
   "version": "3.6.6"
  }
 },
 "nbformat": 4,
 "nbformat_minor": 2
}
