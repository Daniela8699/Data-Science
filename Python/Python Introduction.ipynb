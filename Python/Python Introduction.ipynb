{
 "cells": [
  {
   "cell_type": "markdown",
   "metadata": {},
   "source": [
    "\n",
    "![image](../Utilities/python-logo-master-v3-TM.png)\n",
    "\n",
    "\n",
    "**Author: Christian Urcuqui**\n",
    "\n",
    "**Date: 31 July 2018**\n",
    "\n",
    "\n",
    "This nootebok allows us to introduce in the Python world, this is the content for this notebook:\n",
    "- [Introduction](#Introduction)\n",
    "- [Integrated Development Environment](#Integrated-Development-Environment)\n",
    "- [Variables](#Variables)\n",
    "- [Operations](#Operations)\n",
    "- [Functions](#Functions)\n",
    "- [Loops](#Loops)\n",
    "- [Exceptions](#Exceptions)\n",
    "- [Imports](#Imports)\n",
    "- [References](#References)."
   ]
  },
  {
   "cell_type": "markdown",
   "metadata": {},
   "source": [
    "## Introduction\n",
    "\n",
    "Python was proposed by Guido van Rossum in 1991, it is an open source language and interpreted, specifically, it can run a program by executing one statement at a time.\n",
    "\n",
    "We could use it to develop standalone programs (it does not load any external module, library function or program) and scritps to be used in different context or problems. \n",
    "\n",
    "It is not a fast technology, other languages are most useful like C and C++, but, a lot of communities have been working in different packages due it is really comprehensible than others.\n",
    "\n",
    "<img src=https://fatemasaifee.files.wordpress.com/2014/08/2-2.png width=\"500\">\n",
    "                \n",
    "In the previous figure we can see the Python's cycle life, your code will change to a bytecode in order to be understandable to a machine.\n",
    "\n",
    "Nowadays, Python is the most popular language to program, in the study made by IEEE we can see its importance in the industry. \n",
    "\n",
    "<img src=https://spectrum.ieee.org/image/MzEwMDE1Nw.png width=\"500\">\n",
    "\n",
    "Python has a lot of applications, for example:\n",
    "+ **Interfaces for operative systems**, Python has a standard library  to use the mechanisms of POSIX (Portable Operating System Interface), specifically, we can develop a program to interact with the operative system and the user. \n",
    "+ **GUI**, Python has an interface oriented to objects, it is the API Tk GUI (called Tkinter), this allows us to make programs with a portable GUI (Graphical User Interface) with an aspect and behaviour native. \n",
    "+ **Internet Scripting**, a lot of libraries are available to make network tools in a client or a server environments, such as, the communication through sockets to send TCP and UDP packages. \n",
    "+ **Numeric programming**, Numpy is a special science package that it includes numerical operations, such as task with arrays in N dimensions, lineal operations, and fourier transformation.\n",
    "+ **Games, AI, XML, and more...** due its impact in different communities, people have been working with this language in order to provide special packages to other people (these codes are __open source__), the most important think is that these people are experts in their domains. two examples of these important packages are: Scikit learn is a special library to use machine learning algorithms, and Pyshark to make analysis in the network traffic (it is an interface of Wireshark) \n",
    "\n",
    "One important think is to be careful with the different packages, due Python is open source language, some of them are not updated to the last Python's version, so pay attention to the incompatibilities generated between the dependencies in the packages. \n",
    "\n",
    "For the next sections we will use Python 3.x. This is the official webpage to download Python https://www.python.org/downloads\n"
   ]
  },
  {
   "cell_type": "markdown",
   "metadata": {},
   "source": [
    "## Integrated Development Environment"
   ]
  },
  {
   "cell_type": "markdown",
   "metadata": {},
   "source": [
    "We can start to code in Python in different environments, since the console of our operative system until a special IDE.\n",
    "For example, if we would like to make a clasical \"hello world\" through a .txt file do the next steps:\n",
    "1. Create a .txt file and write the next lines of codes, they have different type of variables assigned and the final lines will print the results in console\n",
    "\n",
    "![image](../Utilities/hello_world.png)\n",
    "\n",
    "2. Once you save the file you have to change the format .txt to .py \n",
    "3. Open a console and call the previous file with the command \"python\"\n",
    "\n",
    "![image](../Utilities/cmd.png)\n",
    "\n",
    "\n",
    "\n",
    "Other utilities like Pycharm IDE are good choices if you want to develop projects to be in production.\n",
    "But, other tools are good options if you want to have a good description of the code and a good environment to execute the code and visualizations, some examples of them are Jupyter Notebooks, Wolfram Mathematica and Matlab.  \n",
    "\n",
    "<table>\n",
    "    <tr>\n",
    "        <td>\n",
    "            <img src=\"https://encrypted-tbn0.gstatic.com/images?q=tbn:ANd9GcTmMY76zLpmciQi6ThYNpHhYkaxiymTtBflKfFfmT632tkcsZb2lg\" width=\"150\" height=\"150\">\n",
    "        </td>\n",
    "        <td>\n",
    "            <img src=\"http://jupyter.org/assets/try/jupyter.png\" width=\"150\" height=\"150\">\n",
    "        </td>\n",
    "        <td>\n",
    "            <img src=\"https://i1.wp.com/www5.espe.edu.ec/~supercomputacion/wp-content/uploads/2016/11/matlab.png?fit=640%2C426&ssl=1\" width=\"150\" height=\"150\">\n",
    "        </td>\n",
    "        <td>\n",
    "        <img src=\"https://upload.wikimedia.org/wikipedia/commons/thumb/a/a1/PyCharm_Logo.svg/128px-PyCharm_Logo.svg.png\" width=\"150\" height=\"150\">            \n",
    "        </td>\n",
    "    </tr>    \n",
    "</table>\n",
    "    \n",
    "        \n",
    "\n",
    "\n",
    "\n",
    "\n",
    "\n",
    "\n",
    "\n",
    "\n"
   ]
  },
  {
   "cell_type": "markdown",
   "metadata": {},
   "source": [
    "## Variables\n",
    "\n",
    "These are some type of variables that we can use in Python:\n",
    "\n",
    "\n",
    "+ **int or Integer**: it represents the integer numbers, they don't have a fractional part \n",
    "+ **float**: this type of variable has an integer part and a fractional divided by a dot\n",
    "+ **str or string**: it is a variable type that represents text (characters)\n",
    "+ **bool or boolean**: these variables are logical. In Python their values must start with capital letter. \n",
    "\n",
    "\n"
   ]
  },
  {
   "cell_type": "code",
   "execution_count": 2,
   "metadata": {},
   "outputs": [],
   "source": [
    "# In the next code lines we will define some variables, what are they types?\n",
    "number = 100\n",
    "factor = 1.1\n",
    "text =  \"hello world\""
   ]
  },
  {
   "cell_type": "markdown",
   "metadata": {},
   "source": [
    "+ **arrays**, it is an structure that allow us to save objects of the same type in temporal memory. Moreover, this structure has some methods to manage it's information, such as, append, sort and remove.\n"
   ]
  },
  {
   "cell_type": "code",
   "execution_count": 9,
   "metadata": {},
   "outputs": [
    {
     "name": "stdout",
     "output_type": "stream",
     "text": [
      "[1, 3, 4, 30, 21]\n"
     ]
    }
   ],
   "source": [
    "# let's define a list\n",
    "list = [1,3,4,30]\n",
    "# we will append a new number in the list\n",
    "list.append(21)\n",
    "print(list)"
   ]
  },
  {
   "cell_type": "code",
   "execution_count": 10,
   "metadata": {},
   "outputs": [
    {
     "name": "stdout",
     "output_type": "stream",
     "text": [
      "[1, 3, 4, 21, 30]\n"
     ]
    }
   ],
   "source": [
    "# we will sort the information in the last array\n",
    "list.sort()\n",
    "print(list)"
   ]
  },
  {
   "cell_type": "code",
   "execution_count": 11,
   "metadata": {},
   "outputs": [
    {
     "name": "stdout",
     "output_type": "stream",
     "text": [
      "[1, 4, 21, 30]\n"
     ]
    }
   ],
   "source": [
    "# we will remove a number in our array\n",
    "list.remove(3)\n",
    "print(list)"
   ]
  },
  {
   "cell_type": "markdown",
   "metadata": {},
   "source": [
    "+ **Dictionaries**,  they are hash table structures in Python, it allows us to save data associated with a key.\n"
   ]
  },
  {
   "cell_type": "code",
   "execution_count": 18,
   "metadata": {},
   "outputs": [
    {
     "name": "stdout",
     "output_type": "stream",
     "text": [
      "dict_keys(['ftp', 'ssh', 'smtp', 'http'])\n",
      "\n",
      "dict_items([('ftp', 21), ('ssh', 22), ('smtp', 25), ('http', 80)])\n",
      "\n",
      "21\n"
     ]
    }
   ],
   "source": [
    "# the next code line define a dictionary \n",
    "services = {'ftp':21, 'ssh':22, 'smtp':25, 'http':80}\n",
    "# print the keys\n",
    "print(services.keys())\n",
    "print()\n",
    "# print the items\n",
    "print(services.items())\n",
    "print()\n",
    "# print the value associated to a key\n",
    "print(services['ftp'])\n",
    "\n"
   ]
  },
  {
   "cell_type": "markdown",
   "metadata": {},
   "source": [
    "## Operations\n",
    "\n",
    "+ **Multiplication**, in Python it's representation is *  \n",
    "+ **Sum**, in Python it's representation is +"
   ]
  },
  {
   "cell_type": "code",
   "execution_count": 4,
   "metadata": {},
   "outputs": [
    {
     "name": "stdout",
     "output_type": "stream",
     "text": [
      "110.00000000000001\n",
      "\n",
      "hello worldhello world\n"
     ]
    }
   ],
   "source": [
    "# Multiplication in Python\n",
    "print(number*factor)\n",
    "\n",
    "print()\n",
    "\n",
    "# Sum\n",
    "print(text + text)"
   ]
  },
  {
   "cell_type": "markdown",
   "metadata": {},
   "source": [
    "## Functions\n",
    "\n",
    "Python has a lot of packages an different functions, one important source to get their documentation is at Python's docs (https://docs.python.org/3/library/). In this section we took some functions in order to illustrate how use them in Python.\n",
    "\n",
    "+ type(), it allows us to know the type of the variables\n",
    "+ str(), int(), float() and bool(), these mechanisms allow us to change a variable type to another one. \n",
    "\n",
    "\n",
    "\n",
    "\n"
   ]
  },
  {
   "cell_type": "code",
   "execution_count": 7,
   "metadata": {},
   "outputs": [
    {
     "name": "stdout",
     "output_type": "stream",
     "text": [
      "<class 'int'>\n",
      "<class 'str'>\n"
     ]
    }
   ],
   "source": [
    "# print the type of the number variable \n",
    "print(type(number))\n",
    "\n",
    "# we will change the type of an int variable to a character\n",
    "character_factor = str(number)\n",
    "print(type(character_factor))\n"
   ]
  },
  {
   "cell_type": "markdown",
   "metadata": {},
   "source": [
    "## Loops\n",
    "\n",
    "One way to implement a loop in Java is through a for sentence, such as:\n",
    "\n",
    "/* Java Code */\n",
    "\n",
    "```\n",
    "int result = 0;\n",
    "for(int i=0; i<100; i++)\n",
    "{\n",
    "    result +=i;\n",
    "}\n",
    "\n",
    "```\n",
    "In the next code lines are define a representation of a loop in Python"
   ]
  },
  {
   "cell_type": "code",
   "execution_count": 1,
   "metadata": {},
   "outputs": [
    {
     "name": "stdout",
     "output_type": "stream",
     "text": [
      "4950\n"
     ]
    }
   ],
   "source": [
    "result = 0\n",
    "for i in range(100):\n",
    "    result +=i\n",
    "print(result)"
   ]
  },
  {
   "cell_type": "markdown",
   "metadata": {},
   "source": [
    "## Exceptions\n",
    "\n",
    "In order to manage the exceptions to the problems generated during the execution time of any program Python provides some useful methods to control them. In some cases Python allows us to understand the cause of the error if we didn't control it, such as"
   ]
  },
  {
   "cell_type": "code",
   "execution_count": 1,
   "metadata": {},
   "outputs": [
    {
     "ename": "ZeroDivisionError",
     "evalue": "division by zero",
     "output_type": "error",
     "traceback": [
      "\u001b[1;31m---------------------------------------------------------------------------\u001b[0m",
      "\u001b[1;31mZeroDivisionError\u001b[0m                         Traceback (most recent call last)",
      "\u001b[1;32m<ipython-input-1-f68112c39154>\u001b[0m in \u001b[0;36m<module>\u001b[1;34m()\u001b[0m\n\u001b[1;32m----> 1\u001b[1;33m \u001b[0mprint\u001b[0m\u001b[1;33m(\u001b[0m\u001b[1;36m131\u001b[0m\u001b[1;33m/\u001b[0m\u001b[1;36m0\u001b[0m\u001b[1;33m)\u001b[0m\u001b[1;33m\u001b[0m\u001b[0m\n\u001b[0m",
      "\u001b[1;31mZeroDivisionError\u001b[0m: division by zero"
     ]
    }
   ],
   "source": [
    "print(131/0)"
   ]
  },
  {
   "cell_type": "markdown",
   "metadata": {},
   "source": [
    "Nevertheless, we can use the clauses \"try\" and \"except\" to catch any error in the code. Pay attention to the spaces in the code and use \":\" to declare the code lines to control. "
   ]
  },
  {
   "cell_type": "code",
   "execution_count": 3,
   "metadata": {},
   "outputs": [
    {
     "name": "stdout",
     "output_type": "stream",
     "text": [
      "[-] Error. \n"
     ]
    }
   ],
   "source": [
    "try:\n",
    "    print(\"[+] 1337/0 = \" + str(1337/0))\n",
    "except:\n",
    "    print(\"[-] Error. \")\n",
    "            "
   ]
  },
  {
   "cell_type": "markdown",
   "metadata": {},
   "source": [
    "The last exception control didn't provide information about the error, in order to get it we can catch the error in a variable, for example:\n"
   ]
  },
  {
   "cell_type": "code",
   "execution_count": 4,
   "metadata": {},
   "outputs": [
    {
     "name": "stdout",
     "output_type": "stream",
     "text": [
      "[-] Error = division by zero\n"
     ]
    }
   ],
   "source": [
    "try:\n",
    "    print(\"[+] 1337/0 = \" + str(1337/0))\n",
    "except Exception as e:\n",
    "    print(\"[-] Error = \" + str(e))"
   ]
  },
  {
   "cell_type": "markdown",
   "metadata": {},
   "source": [
    "## Imports"
   ]
  },
  {
   "cell_type": "markdown",
   "metadata": {},
   "source": [
    "How I said, Python has a lot of packages available to use them in our projects and in the same way we can make our own tools to apply in different taks. The next examples allow us to understand how we can call the packages installed in our Python environment. "
   ]
  },
  {
   "cell_type": "code",
   "execution_count": null,
   "metadata": {},
   "outputs": [],
   "source": [
    "# the next code imports a package and declares it in a variable \n",
    "import numpy as np # numpy is a mathematical tool previously installed in our Python environment\n",
    "# we will use a method in another python class\n",
    "from  Utilities."
   ]
  },
  {
   "cell_type": "markdown",
   "metadata": {},
   "source": [
    "## References\n",
    "\n",
    "+ McKinney, W. (2012). Python for data analysis: Data wrangling with Pandas, NumPy, and IPython. \" O'Reilly Media, Inc.\".\n",
    "+ Lutz, M. (2013). Learning Python: Powerful Object-Oriented Programming. \" O'Reilly Media, Inc.\".\n",
    "+ O'Connor, T. J. (2012). Violent Python: a cookbook for hackers, forensic analysts, penetration testers and security engineers. Newnes."
   ]
  }
 ],
 "metadata": {
  "kernelspec": {
   "display_name": "Python 3",
   "language": "python",
   "name": "python3"
  },
  "language_info": {
   "codemirror_mode": {
    "name": "ipython",
    "version": 3
   },
   "file_extension": ".py",
   "mimetype": "text/x-python",
   "name": "python",
   "nbconvert_exporter": "python",
   "pygments_lexer": "ipython3",
   "version": "3.6.6"
  }
 },
 "nbformat": 4,
 "nbformat_minor": 2
}
