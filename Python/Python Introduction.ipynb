{
 "cells": [
  {
   "cell_type": "markdown",
   "metadata": {},
   "source": [
    "# Python Introduction\n",
    "\n",
    "This nootebok allows us to introduce in the Python world, these are the content of this section:\n",
    "\n",
    "![image](../Utilities/python-logo-master-v3-TM.png)"
   ]
  },
  {
   "cell_type": "markdown",
   "metadata": {},
   "source": [
    "Python is an interpreted language, its interpreter can run a program by executing one statement at a time. We can call the interpreter through our cdm and by the command python, for example:\n"
   ]
  },
  {
   "cell_type": "markdown",
   "metadata": {},
   "source": [
    "### loops\n",
    "\n",
    "One way to implement a loop in Java is through a for sentence, such as:\n",
    "\n",
    "/* Java Code */\n",
    "\n",
    "```\n",
    "int result = 0;\n",
    "for(int i=0; i<100; i++)\n",
    "{\n",
    "    result +=i;\n",
    "}\n",
    "\n",
    "```\n",
    "In the next code lines we can a example of a loop in Python"
   ]
  },
  {
   "cell_type": "code",
   "execution_count": 1,
   "metadata": {},
   "outputs": [
    {
     "name": "stdout",
     "output_type": "stream",
     "text": [
      "4950\n"
     ]
    }
   ],
   "source": [
    "result = 0\n",
    "for i in range(100):\n",
    "    result +=i\n",
    "print(result)"
   ]
  },
  {
   "cell_type": "markdown",
   "metadata": {},
   "source": [
    "## References\n",
    "\n",
    "+ McKinney, W. (2012). Python for data analysis: Data wrangling with Pandas, NumPy, and IPython. \" O'Reilly Media, Inc.\"."
   ]
  }
 ],
 "metadata": {
  "kernelspec": {
   "display_name": "Python 3",
   "language": "python",
   "name": "python3"
  },
  "language_info": {
   "codemirror_mode": {
    "name": "ipython",
    "version": 3
   },
   "file_extension": ".py",
   "mimetype": "text/x-python",
   "name": "python",
   "nbconvert_exporter": "python",
   "pygments_lexer": "ipython3",
   "version": "3.6.4"
  }
 },
 "nbformat": 4,
 "nbformat_minor": 2
}
