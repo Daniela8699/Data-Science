{
 "cells": [
  {
   "cell_type": "markdown",
   "metadata": {},
   "source": [
    "\n",
    "![image](../Utilities/python-logo-master-v3-TM.png)\n",
    "\n",
    "\n",
    "**Author: Christian Urcuqui**\n",
    "\n",
    "**Date: 31 July 2018**\n",
    "\n",
    "\n",
    "This nootebok allows us to introduce in the Python world, this is the content for this notebook:\n",
    "- [Introduction](#Introduction)\n",
    "- [Integrated Development Environment](#Integrated-Development-Environment)\n",
    "- [Variables](#Variables)\n",
    "- [Loops](#Loops)\n",
    "- [References](#References)."
   ]
  },
  {
   "cell_type": "markdown",
   "metadata": {},
   "source": [
    "## Introduction\n",
    "\n",
    "Python was proposed by Guido van Rossum in 1991, it is an open source language and interpreted, specifically, it can run a program by executing one statement at a time.\n",
    "\n",
    "We could use it to develop standalone programs (it does not load any external module, library function or program) and scritps to be used in different context or problems. \n",
    "\n",
    "It is not a fast technology, other languages are most useful like C and C++, but, a lot of communities have been working in different packages due it is really comprehensible than others.\n",
    "\n",
    "<img src=https://fatemasaifee.files.wordpress.com/2014/08/2-2.png width=\"500\">\n",
    "                \n",
    "In the previous figure we can see the Python's cycle life, your code will change to a bytecode in order to be understandable to a machine.\n",
    "\n",
    "Nowadays, Python is the most popular language to program, in the study made by IEEE we can see its importance in the industry. \n",
    "\n",
    "<img src=https://spectrum.ieee.org/image/MzEwMDE1Nw.png width=\"500\">\n",
    "\n",
    "Python has a lot of applications, for example:\n",
    "+ **Interfaces for operative systems**, Python has a standard library  to use the mechanisms of POSIX (Portable Operating System Interface), specifically, we can develop a program to interact with the operative system and the user. \n",
    "+ **GUI**, Python has an interface oriented to objects, it is the API Tk GUI (called Tkinter), this allows us to make programs with a portable GUI (Graphical User Interface) with an aspect and behaviour native. \n",
    "+ **Internet Scripting**, a lot of libraries are available to make network tools in a client or a server environments, such as, the communication through sockets to send TCP and UDP packages. \n",
    "+ **Numeric programming**, Numpy is a special science package that it includes numerical operations, such as task with arrays in N dimensions, lineal operations, and fourier transformation.\n",
    "+ **Games, AI, XML, and more...** due its impact in different communities, people have been working with this language in order to provide special packages to other people (these codes are __open source__), the most important think is that these people are experts in their domains. two examples of these important packages are: Scikit learn is a special library to use machine learning algorithms, and Pyshark to make analysis in the network traffic (it is an interface of Wireshark) \n",
    "\n",
    "One important think is to be careful with the different packages, due Python is open source language, some of them are not updated to the last Python's version, so pay attention to the incompatibilities generated between the dependencies in the packages. \n",
    "\n",
    "For the next sections we will use Python 3.x. This is the official webpage to download Python https://www.python.org/downloads\n"
   ]
  },
  {
   "cell_type": "markdown",
   "metadata": {},
   "source": [
    "## Integrated Development Environment"
   ]
  },
  {
   "cell_type": "markdown",
   "metadata": {},
   "source": [
    "We can start to code in Python in different environments, since the console of our operative system until a special IDE.\n",
    "For example, if we would like to make a clasical \"hello world\" through a .txt file do the next steps:\n",
    "1. Create a .txt file and write the next lines of codes, they have different type of variables assigned and the final lines will print the results in console\n",
    "\n",
    "![image](../Utilities/hello_world.png)\n",
    "\n",
    "2. Once you save the file you have to change the format .txt to .py \n",
    "3. Open a console and call the previous file with the command \"python\"\n",
    "\n",
    "Other utilities like Pycharm IDE are good choices if you want to develop projects to be in production.\n",
    "But, other tools are good options if you want to have a good description of the code and a good environment to execute the code and visualizations, some examples of them are Jupyter Notebooks, Wolfram Mathematica and Matlab.  \n",
    "\n",
    "<table>\n",
    "    <tr>\n",
    "        <td>\n",
    "            <img src=\"https://encrypted-tbn0.gstatic.com/images?q=tbn:ANd9GcTmMY76zLpmciQi6ThYNpHhYkaxiymTtBflKfFfmT632tkcsZb2lg\" width=\"150\" height=\"150\">\n",
    "        </td>\n",
    "        <td>\n",
    "            <img src=\"http://jupyter.org/assets/try/jupyter.png\" width=\"150\" height=\"150\">\n",
    "        </td>\n",
    "        <td>\n",
    "            <img src=\"https://i1.wp.com/www5.espe.edu.ec/~supercomputacion/wp-content/uploads/2016/11/matlab.png?fit=640%2C426&ssl=1\" width=\"150\" height=\"150\">\n",
    "        </td>\n",
    "        <td>\n",
    "        <img src=\"https://upload.wikimedia.org/wikipedia/commons/thumb/a/a1/PyCharm_Logo.svg/128px-PyCharm_Logo.svg.png\" width=\"150\" height=\"150\">            \n",
    "        </td>\n",
    "    </tr>    \n",
    "</table>\n",
    "    \n",
    "        \n",
    "\n",
    "\n",
    "\n",
    "\n",
    "\n",
    "\n",
    "\n",
    "\n"
   ]
  },
  {
   "cell_type": "markdown",
   "metadata": {},
   "source": [
    "## Variables\n",
    "\n",
    "These are some type of variables that we can use in Python:\n"
   ]
  },
  {
   "cell_type": "markdown",
   "metadata": {},
   "source": [
    "## Loops\n",
    "\n",
    "One way to implement a loop in Java is through a for sentence, such as:\n",
    "\n",
    "/* Java Code */\n",
    "\n",
    "```\n",
    "int result = 0;\n",
    "for(int i=0; i<100; i++)\n",
    "{\n",
    "    result +=i;\n",
    "}\n",
    "\n",
    "```\n",
    "In the next code lines we can a example of a loop in Python"
   ]
  },
  {
   "cell_type": "code",
   "execution_count": 1,
   "metadata": {},
   "outputs": [
    {
     "name": "stdout",
     "output_type": "stream",
     "text": [
      "4950\n"
     ]
    }
   ],
   "source": [
    "result = 0\n",
    "for i in range(100):\n",
    "    result +=i\n",
    "print(result)"
   ]
  },
  {
   "cell_type": "markdown",
   "metadata": {},
   "source": [
    "## References\n",
    "\n",
    "+ McKinney, W. (2012). Python for data analysis: Data wrangling with Pandas, NumPy, and IPython. \" O'Reilly Media, Inc.\".\n",
    "+ Lutz, M. (2013). Learning Python: Powerful Object-Oriented Programming. \" O'Reilly Media, Inc.\".\n",
    "+ O'Connor, T. J. (2012). Violent Python: a cookbook for hackers, forensic analysts, penetration testers and security engineers. Newnes."
   ]
  }
 ],
 "metadata": {
  "kernelspec": {
   "display_name": "Python 3",
   "language": "python",
   "name": "python3"
  },
  "language_info": {
   "codemirror_mode": {
    "name": "ipython",
    "version": 3
   },
   "file_extension": ".py",
   "mimetype": "text/x-python",
   "name": "python",
   "nbconvert_exporter": "python",
   "pygments_lexer": "ipython3",
   "version": "3.6.6"
  }
 },
 "nbformat": 4,
 "nbformat_minor": 2
}
