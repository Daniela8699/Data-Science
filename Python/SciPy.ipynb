{
 "cells": [
  {
   "cell_type": "markdown",
   "metadata": {},
   "source": [
    "<img src=\"https://github.com/urcuqui/Data-Science/blob/master/Utilities/scipy.png?raw=true\" height=\"150\" width=\"250\">\n",
    "\n",
    "__Author: Christian Camilo Urcuqui López__\n",
    "\n",
    "__Date: 1 February 2019__\n",
    "\n"
   ]
  },
  {
   "cell_type": "markdown",
   "metadata": {},
   "source": [
    "SciPy is a package to make scientific operations which uses NumPy objects like ndarray or matrices. Some possilities to make are integration and determining a function's maxima or minima; let's start with optimization and data fitting, and then move through interpolation, integation, spatial analysis, clustering, signal and image processing, space matrices, and statistics. "
   ]
  },
  {
   "cell_type": "markdown",
   "metadata": {},
   "source": [
    "## Optimization "
   ]
  },
  {
   "cell_type": "markdown",
   "metadata": {},
   "source": [
    "The opmization package of SciPy allows us to solve minimization problems easily and quickly, one of these examples are related with linear regression, finding a function's minimum and maximum values, determining the root of a function, and finding where two functions intersect. "
   ]
  },
  {
   "cell_type": "markdown",
   "metadata": {},
   "source": [
    "_The opmitization and minimization tools that NumPy and SciPy don't have Markov Chain Monte Carlo (MCMC) capabilities, we can find this in other packages like PyMC._"
   ]
  }
 ],
 "metadata": {
  "kernelspec": {
   "display_name": "Python 3",
   "language": "python",
   "name": "python3"
  },
  "language_info": {
   "codemirror_mode": {
    "name": "ipython",
    "version": 3
   },
   "file_extension": ".py",
   "mimetype": "text/x-python",
   "name": "python",
   "nbconvert_exporter": "python",
   "pygments_lexer": "ipython3",
   "version": "3.6.6"
  }
 },
 "nbformat": 4,
 "nbformat_minor": 2
}
