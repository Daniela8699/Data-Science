{
 "cells": [
  {
   "cell_type": "markdown",
   "metadata": {},
   "source": [
    "# Python Exercises, practice  "
   ]
  },
  {
   "cell_type": "markdown",
   "metadata": {},
   "source": [
    "__1 exercise__\n",
    "\n",
    "print hello world"
   ]
  },
  {
   "cell_type": "code",
   "execution_count": 1,
   "metadata": {
    "scrolled": true
   },
   "outputs": [
    {
     "name": "stdout",
     "output_type": "stream",
     "text": [
      "hello world\n"
     ]
    }
   ],
   "source": [
    "print(\"hello world\")"
   ]
  },
  {
   "cell_type": "markdown",
   "metadata": {},
   "source": [
    "__2 exercise__\n",
    "\n",
    "Let's create a variable with the name _variable_ and assign it the value \"hello world\"."
   ]
  },
  {
   "cell_type": "code",
   "execution_count": 3,
   "metadata": {},
   "outputs": [],
   "source": [
    "variable = \"hello world\""
   ]
  },
  {
   "cell_type": "markdown",
   "metadata": {},
   "source": [
    "__3 exercise__\n",
    "\n",
    "Print the type of _variable_"
   ]
  },
  {
   "cell_type": "code",
   "execution_count": 4,
   "metadata": {},
   "outputs": [
    {
     "data": {
      "text/plain": [
       "str"
      ]
     },
     "execution_count": 4,
     "metadata": {},
     "output_type": "execute_result"
    }
   ],
   "source": [
    "type(variable)"
   ]
  },
  {
   "cell_type": "markdown",
   "metadata": {},
   "source": [
    "__4 exercise__\n",
    "\n",
    "Let's remove the word \" world\" from _variable_"
   ]
  },
  {
   "cell_type": "code",
   "execution_count": 13,
   "metadata": {},
   "outputs": [
    {
     "data": {
      "text/plain": [
       "'hello'"
      ]
     },
     "execution_count": 13,
     "metadata": {},
     "output_type": "execute_result"
    }
   ],
   "source": [
    "variable = variable[:5]\n",
    "variable"
   ]
  },
  {
   "cell_type": "markdown",
   "metadata": {},
   "source": [
    "__2 exercise__\n",
    "\n",
    "Let's make a function which receives a list of number from 1 to 20 and prints only the number that are odd."
   ]
  },
  {
   "cell_type": "code",
   "execution_count": 5,
   "metadata": {},
   "outputs": [
    {
     "name": "stdout",
     "output_type": "stream",
     "text": [
      "1\n",
      "3\n",
      "5\n",
      "7\n",
      "9\n",
      "11\n",
      "13\n",
      "15\n",
      "17\n",
      "19\n"
     ]
    }
   ],
   "source": [
    "def odd(array):\n",
    "    for i in array:\n",
    "        if i%2!=0:\n",
    "            print(i)\n",
    "array = range(0,20)\n",
    "odd(array)"
   ]
  },
  {
   "cell_type": "markdown",
   "metadata": {},
   "source": [
    "__3 exercise__\n",
    "\n",
    "Let's make a method in a Python file which receives two parameters:\n",
    "\n",
    "+ A list of integers \n",
    "+ An exponent number \n",
    "\n",
    "$b^{n} = b \\times \\dots \\times b$  \n",
    "\n",
    "The method allows us to calculate the exponentiation of each number in the list.\n",
    "\n",
    "We must import the file and use it to call the method"
   ]
  },
  {
   "cell_type": "code",
   "execution_count": 7,
   "metadata": {},
   "outputs": [
    {
     "name": "stdout",
     "output_type": "stream",
     "text": [
      "0\n",
      "1\n",
      "1\n",
      "2\n",
      "3\n",
      "5\n",
      "8\n",
      "4\n",
      "9\n",
      "16\n",
      "25\n"
     ]
    }
   ],
   "source": [
    "from tools import ex\n",
    "\n",
    "\n",
    "b = [2,3,4,5]\n",
    "n = 2\n",
    "ex(b, 2)"
   ]
  },
  {
   "cell_type": "markdown",
   "metadata": {},
   "source": [
    "__4 exercise__\n",
    "\n",
    "The idea is to make a dictionary _diccionario_ with the next keys and values:\n",
    "\n",
    "_variableUno_: [1,2,3,4]\n",
    "\n",
    "_variableDos_: [\"1\",\"a\",\"?\"]\n"
   ]
  },
  {
   "cell_type": "code",
   "execution_count": 5,
   "metadata": {},
   "outputs": [
    {
     "data": {
      "text/plain": [
       "{'variableUno': [1, 2, 3, 4], 'variableDos': ['1', 'a', '?']}"
      ]
     },
     "execution_count": 5,
     "metadata": {},
     "output_type": "execute_result"
    }
   ],
   "source": [
    "diccionario = {'variableUno':[1,2,3,4], 'variableDos':[\"1\",\"a\",\"?\"]}\n",
    "diccionario"
   ]
  },
  {
   "cell_type": "markdown",
   "metadata": {},
   "source": [
    "__5 exercise__\n",
    "\n",
    "Change the first letter of \"Spam\" to \"z\" "
   ]
  },
  {
   "cell_type": "code",
   "execution_count": 6,
   "metadata": {},
   "outputs": [
    {
     "data": {
      "text/plain": [
       "'zpam'"
      ]
     },
     "execution_count": 6,
     "metadata": {},
     "output_type": "execute_result"
    }
   ],
   "source": [
    "s = \"Spam\"\n",
    "s = \"z\" + s[1:]\n",
    "s"
   ]
  }
 ],
 "metadata": {
  "kernelspec": {
   "display_name": "Python 3",
   "language": "python",
   "name": "python3"
  },
  "language_info": {
   "codemirror_mode": {
    "name": "ipython",
    "version": 3
   },
   "file_extension": ".py",
   "mimetype": "text/x-python",
   "name": "python",
   "nbconvert_exporter": "python",
   "pygments_lexer": "ipython3",
   "version": "3.6.8"
  }
 },
 "nbformat": 4,
 "nbformat_minor": 2
}
