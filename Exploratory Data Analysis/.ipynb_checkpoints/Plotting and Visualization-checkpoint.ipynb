{
 "cells": [
  {
   "cell_type": "markdown",
   "metadata": {},
   "source": [
    "![image](../Utilities/AVisual2.png)\n",
    "\n",
    "\n",
    "# Plotting and Visualization\n",
    "\n",
    "This is an importance step in a data science project, specially, when you are applying an EDA approach. Visual Analysis allows us to understand the data, get patterns, outliers, make ideas about the models and insights about the datasets, and finally to communicate efectivetly the results to anyone.\n",
    "\n",
    "![image](../Utilities/AVisual1.png)\n",
    "\n",
    "Python has many libraries for making static and dinamic visualizations, in this notebook we will se _matplotlib_. In order to review these tools this notebook is divided in the next sections:\n",
    "+ [Matplotlib](#Matplotlib)\n",
    "+ [Visual analytics applications](#Visual-Analytics-Applications)\n",
    "\n",
    "\n",
    "\n"
   ]
  },
  {
   "cell_type": "markdown",
   "metadata": {},
   "source": [
    "## Matplotlib\n",
    "\n",
    "It is a desktop plotting package made by John Hunter in 2002 to enable MATLAB-like plotting interface in Python. Thanks to the collaboration betweeen the Matplotlib and IPython communities right now we have an easy way to make interactive plotting from he IPython shell (Jupyter notebooks). We will see that we can make a lot of type of plots and export them in different graphic formats (like PDF, SVG, PNG, GIF). "
   ]
  }
 ],
 "metadata": {
  "kernelspec": {
   "display_name": "Python 3",
   "language": "python",
   "name": "python3"
  },
  "language_info": {
   "codemirror_mode": {
    "name": "ipython",
    "version": 3
   },
   "file_extension": ".py",
   "mimetype": "text/x-python",
   "name": "python",
   "nbconvert_exporter": "python",
   "pygments_lexer": "ipython3",
   "version": "3.6.5"
  }
 },
 "nbformat": 4,
 "nbformat_minor": 2
}
